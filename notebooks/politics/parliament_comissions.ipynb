{
 "cells": [
  {
   "cell_type": "markdown",
   "id": "0ea02b0c",
   "metadata": {},
   "source": [
    "<div class=\"notebook-buttons\" style=\"display:flex; padding-top: 5rem;padding-bottom: 2.5rem;line-height: 2.15;\">\n",
    "    <a href=\"https://colab.research.google.com/github/zazuko/notebooks/blob/master/notebooks/politics/parliament.ipynb\">\n",
    "        <div id=\"colab-link\" style=\"display: flex;padding-right: 3.5rem;padding-bottom: 0.625rem;border-bottom: 1px solid #ececed; align-items: center;\">\n",
    "            <img class=\"call-to-action-img\" src=\"img/colab.svg\" width=\"30\" height=\"30\" style=\"margin-right: 10px;margin-top: auto;margin-bottom: auto;\">\n",
    "            <div class=\"call-to-action-txt\">Run in Google Colab</div>\n",
    "        </div>\n",
    "    </a>\n",
    "    <a href=\"https://raw.githubusercontent.com/zazuko/notebooks/master/notebooks/politics/parliament.ipynb\" download>\n",
    "        <div id=\"download-link\" style=\"display: flex;padding-right: 3.5rem;padding-bottom: 0.625rem;border-bottom: 1px solid #ececed; height: auto;align-items: center;\">\n",
    "            <img class=\"call-to-action-img\" src=\"img/download.svg\" width=\"22\" height=\"30\" style=\"margin-right: 10px;margin-top: auto;margin-bottom: auto;\">\n",
    "            <div class=\"call-to-action-txt\">Download Notebook</div>\n",
    "        </div>\n",
    "    </a>\n",
    "    <a href=\"https://github.com/zazuko/notebooks/blob/master/notebooks/politics/parliament.ipynb\">\n",
    "        <div id=\"github-link\" style=\"display: flex;padding-right: 3.5rem;padding-bottom: 0.625rem;border-bottom: 1px solid #ececed; height: auto;align-items: center;\">\n",
    "            <img class=\"call-to-action-img\" src=\"img/github.svg\" width=\"25\" height=\"30\" style=\"margin-right: 10px;margin-top: auto;margin-bottom: auto;\">\n",
    "            <div class=\"call-to-action-txt\">View on GitHub</div>\n",
    "        </div>\n",
    "    </a>\n",
    "</div>\n",
    "\n",
    "# Swiss Parliament: Comissions\n",
    "\n",
    "Federal Chancellery maintains data on swiss political system. The curia dataset is publicly available. It provides us with political parties, parliamentary comissions, members of parliament and their affiliations. \n",
    "\n",
    "Parliament data is also available as [Linked Data](https://en.wikipedia.org/wiki/Linked_data). "
   ]
  },
  {
   "cell_type": "markdown",
   "id": "06f10cf8",
   "metadata": {},
   "source": [
    "## Setup"
   ]
  },
  {
   "cell_type": "markdown",
   "id": "9b91c431",
   "metadata": {},
   "source": [
    "### SPARQL endpoint\n",
    "\n",
    "Swiss political data can be accessed with [SPARQL queries](https://www.w3.org/TR/rdf-sparql-query/).   \n",
    "You can send queries using HTTP requests. The API endpoint is **[https://lindas.admin.ch/query/](https://lindas.admin.ch/query).**  "
   ]
  },
  {
   "cell_type": "markdown",
   "id": "b7a85d46",
   "metadata": {},
   "source": [
    "### SPARQL client\n",
    "\n",
    "Let's use `SparqlClient` from [graphly](https://github.com/zazuko/graphly) to communicate with the database. \n",
    "Graphly will allow us to:\n",
    "* send SPARQL queries\n",
    "* automatically add prefixes to all queries\n",
    "* format response to `pandas` or `geopandas`"
   ]
  },
  {
   "cell_type": "code",
   "execution_count": 5,
   "metadata": {},
   "outputs": [],
   "source": [
    "import pandas as pd\n",
    "import plotly.express as px\n",
    "import plotly.graph_objects as go\n",
    "from plotly.subplots import make_subplots\n",
    "import datetime\n",
    "\n",
    "from graphly.api_client import SparqlClient\n",
    "\n",
    "%matplotlib inline\n",
    "pd.set_option('display.max_rows', 100)"
   ]
  },
  {
   "cell_type": "code",
   "execution_count": null,
   "id": "5abffb11",
   "metadata": {},
   "outputs": [],
   "source": [
    "# Uncomment to install dependencies in Colab environment\n",
    "#!pip install git+https://github.com/zazuko/graphly.git"
   ]
  },
  {
   "cell_type": "markdown",
   "id": "d06f39ee",
   "metadata": {},
   "source": []
  },
  {
   "cell_type": "code",
   "execution_count": 9,
   "metadata": {},
   "outputs": [],
   "source": [
    "sparql = SparqlClient(\"https://int.lindas.admin.ch/query\")\n",
    "\n",
    "sparql.add_prefixes({\n",
    "    \"schema\": \"<http://schema.org/>\"\n",
    "})"
   ]
  },
  {
   "cell_type": "markdown",
   "id": "1ffbace4",
   "metadata": {},
   "source": [
    "SPARQL queries can become very long. To improve the readibility, we will work wih [prefixes](https://en.wikibooks.org/wiki/SPARQL/Prefixes).\n",
    " \n",
    "Using the `add_prefixes` method, we can define persistent prefixes. \n",
    "Every time you send a query, `graphly` will now automatically add the prefixes for you."
   ]
  },
  {
   "cell_type": "markdown",
   "id": "dbdad6bc",
   "metadata": {},
   "source": [
    "# Political Parties"
   ]
  },
  {
   "cell_type": "code",
   "execution_count": 33,
   "id": "a7856a09",
   "metadata": {},
   "outputs": [
    {
     "data": {
      "text/html": [
       "<div>\n",
       "<style scoped>\n",
       "    .dataframe tbody tr th:only-of-type {\n",
       "        vertical-align: middle;\n",
       "    }\n",
       "\n",
       "    .dataframe tbody tr th {\n",
       "        vertical-align: top;\n",
       "    }\n",
       "\n",
       "    .dataframe thead th {\n",
       "        text-align: right;\n",
       "    }\n",
       "</style>\n",
       "<table border=\"1\" class=\"dataframe\">\n",
       "  <thead>\n",
       "    <tr style=\"text-align: right;\">\n",
       "      <th></th>\n",
       "      <th>council</th>\n",
       "      <th>faction</th>\n",
       "      <th>members</th>\n",
       "    </tr>\n",
       "  </thead>\n",
       "  <tbody>\n",
       "    <tr>\n",
       "      <th>0</th>\n",
       "      <td>Vereinigte Bundesversammlung</td>\n",
       "      <td>Fraktion der Schweizerischen Volkspartei</td>\n",
       "      <td>62</td>\n",
       "    </tr>\n",
       "    <tr>\n",
       "      <th>1</th>\n",
       "      <td>Vereinigte Bundesversammlung</td>\n",
       "      <td>Sozialdemokratische Fraktion</td>\n",
       "      <td>47</td>\n",
       "    </tr>\n",
       "    <tr>\n",
       "      <th>2</th>\n",
       "      <td>Vereinigte Bundesversammlung</td>\n",
       "      <td>Die Mitte-Fraktion. Die Mitte. EVP.</td>\n",
       "      <td>45</td>\n",
       "    </tr>\n",
       "    <tr>\n",
       "      <th>3</th>\n",
       "      <td>Vereinigte Bundesversammlung</td>\n",
       "      <td>FDP-Liberale Fraktion</td>\n",
       "      <td>41</td>\n",
       "    </tr>\n",
       "    <tr>\n",
       "      <th>4</th>\n",
       "      <td>Vereinigte Bundesversammlung</td>\n",
       "      <td>Grüne Fraktion</td>\n",
       "      <td>35</td>\n",
       "    </tr>\n",
       "    <tr>\n",
       "      <th>5</th>\n",
       "      <td>Vereinigte Bundesversammlung</td>\n",
       "      <td>Grünliberale Fraktion</td>\n",
       "      <td>16</td>\n",
       "    </tr>\n",
       "    <tr>\n",
       "      <th>6</th>\n",
       "      <td>Ständerat</td>\n",
       "      <td>Die Mitte-Fraktion. Die Mitte. EVP.</td>\n",
       "      <td>14</td>\n",
       "    </tr>\n",
       "    <tr>\n",
       "      <th>7</th>\n",
       "      <td>Ständerat</td>\n",
       "      <td>FDP-Liberale Fraktion</td>\n",
       "      <td>12</td>\n",
       "    </tr>\n",
       "    <tr>\n",
       "      <th>8</th>\n",
       "      <td>Ständerat</td>\n",
       "      <td>Sozialdemokratische Fraktion</td>\n",
       "      <td>8</td>\n",
       "    </tr>\n",
       "    <tr>\n",
       "      <th>9</th>\n",
       "      <td>Ständerat</td>\n",
       "      <td>Fraktion der Schweizerischen Volkspartei</td>\n",
       "      <td>7</td>\n",
       "    </tr>\n",
       "    <tr>\n",
       "      <th>10</th>\n",
       "      <td>Ständerat</td>\n",
       "      <td>Grüne Fraktion</td>\n",
       "      <td>5</td>\n",
       "    </tr>\n",
       "    <tr>\n",
       "      <th>11</th>\n",
       "      <td>Nationalrat</td>\n",
       "      <td>Fraktion der Schweizerischen Volkspartei</td>\n",
       "      <td>55</td>\n",
       "    </tr>\n",
       "    <tr>\n",
       "      <th>12</th>\n",
       "      <td>Nationalrat</td>\n",
       "      <td>Sozialdemokratische Fraktion</td>\n",
       "      <td>39</td>\n",
       "    </tr>\n",
       "    <tr>\n",
       "      <th>13</th>\n",
       "      <td>Nationalrat</td>\n",
       "      <td>Die Mitte-Fraktion. Die Mitte. EVP.</td>\n",
       "      <td>31</td>\n",
       "    </tr>\n",
       "    <tr>\n",
       "      <th>14</th>\n",
       "      <td>Nationalrat</td>\n",
       "      <td>Grüne Fraktion</td>\n",
       "      <td>30</td>\n",
       "    </tr>\n",
       "    <tr>\n",
       "      <th>15</th>\n",
       "      <td>Nationalrat</td>\n",
       "      <td>FDP-Liberale Fraktion</td>\n",
       "      <td>29</td>\n",
       "    </tr>\n",
       "    <tr>\n",
       "      <th>16</th>\n",
       "      <td>Nationalrat</td>\n",
       "      <td>Grünliberale Fraktion</td>\n",
       "      <td>16</td>\n",
       "    </tr>\n",
       "  </tbody>\n",
       "</table>\n",
       "</div>"
      ],
      "text/plain": [
       "                         council                                   faction  \\\n",
       "0   Vereinigte Bundesversammlung  Fraktion der Schweizerischen Volkspartei   \n",
       "1   Vereinigte Bundesversammlung              Sozialdemokratische Fraktion   \n",
       "2   Vereinigte Bundesversammlung       Die Mitte-Fraktion. Die Mitte. EVP.   \n",
       "3   Vereinigte Bundesversammlung                     FDP-Liberale Fraktion   \n",
       "4   Vereinigte Bundesversammlung                            Grüne Fraktion   \n",
       "5   Vereinigte Bundesversammlung                     Grünliberale Fraktion   \n",
       "6                      Ständerat       Die Mitte-Fraktion. Die Mitte. EVP.   \n",
       "7                      Ständerat                     FDP-Liberale Fraktion   \n",
       "8                      Ständerat              Sozialdemokratische Fraktion   \n",
       "9                      Ständerat  Fraktion der Schweizerischen Volkspartei   \n",
       "10                     Ständerat                            Grüne Fraktion   \n",
       "11                   Nationalrat  Fraktion der Schweizerischen Volkspartei   \n",
       "12                   Nationalrat              Sozialdemokratische Fraktion   \n",
       "13                   Nationalrat       Die Mitte-Fraktion. Die Mitte. EVP.   \n",
       "14                   Nationalrat                            Grüne Fraktion   \n",
       "15                   Nationalrat                     FDP-Liberale Fraktion   \n",
       "16                   Nationalrat                     Grünliberale Fraktion   \n",
       "\n",
       "    members  \n",
       "0        62  \n",
       "1        47  \n",
       "2        45  \n",
       "3        41  \n",
       "4        35  \n",
       "5        16  \n",
       "6        14  \n",
       "7        12  \n",
       "8         8  \n",
       "9         7  \n",
       "10        5  \n",
       "11       55  \n",
       "12       39  \n",
       "13       31  \n",
       "14       30  \n",
       "15       29  \n",
       "16       16  "
      ]
     },
     "execution_count": 33,
     "metadata": {},
     "output_type": "execute_result"
    }
   ],
   "source": [
    "query = \"\"\"\n",
    "SELECT ?council ?faction (COUNT(?mep) AS ?members)\n",
    "FROM <https://lindas.admin.ch/fch/curia>\n",
    "FROM <https://lindas.admin.ch/fch/rvov>\n",
    "WHERE {\n",
    "\n",
    "  \tVALUES ?_council { <https://politics.ld.admin.ch/council/S> <https://politics.ld.admin.ch/council/N> <https://politics.ld.admin.ch/council/UFA>}\n",
    "\t?mep a schema:Person;\n",
    "         schema:memberOf/schema:memberOf ?_council;\n",
    "                        schema:memberOf ?role.\n",
    "  \n",
    "   FILTER NOT EXISTS { ?role schema:endDate ?end }\n",
    "  \n",
    "   ?role schema:memberOf ?_faction.\n",
    "   ?_faction a <http://schema.org/ParliamentaryGroup>;\n",
    "             schema:name ?faction.\n",
    "  \n",
    "   ?_council schema:name ?council.\n",
    "   FILTER (lang(?council) = 'de')\n",
    "   FILTER (lang(?faction) = 'de')\n",
    "}\n",
    "GROUP BY ?council ?faction\n",
    "ORDER BY DESC(?council) DESC (?members)\n",
    "\"\"\"\n",
    "\n",
    "df = sparql.send_query(query)\n",
    "df"
   ]
  },
  {
   "cell_type": "code",
   "execution_count": 34,
   "id": "f7f8e444",
   "metadata": {},
   "outputs": [
    {
     "data": {
      "application/vnd.plotly.v1+json": {
       "config": {
        "plotlyServerURL": "https://plot.ly"
       },
       "data": [
        {
         "domain": {
          "x": [
           0,
           0.2888888888888889
          ],
          "y": [
           0,
           1
          ]
         },
         "labels": [
          "Fraktion der Schweizerischen Volkspartei",
          "Sozialdemokratische Fraktion",
          "Die Mitte-Fraktion. Die Mitte. EVP.",
          "FDP-Liberale Fraktion",
          "Grüne Fraktion",
          "Grünliberale Fraktion"
         ],
         "textinfo": "none",
         "type": "pie",
         "values": [
          62,
          47,
          45,
          41,
          35,
          16
         ]
        },
        {
         "domain": {
          "x": [
           0.35555555555555557,
           0.6444444444444445
          ],
          "y": [
           0,
           1
          ]
         },
         "labels": [
          "Die Mitte-Fraktion. Die Mitte. EVP.",
          "FDP-Liberale Fraktion",
          "Sozialdemokratische Fraktion",
          "Fraktion der Schweizerischen Volkspartei",
          "Grüne Fraktion"
         ],
         "textinfo": "none",
         "type": "pie",
         "values": [
          14,
          12,
          8,
          7,
          5
         ]
        },
        {
         "domain": {
          "x": [
           0.7111111111111111,
           1
          ],
          "y": [
           0,
           1
          ]
         },
         "labels": [
          "Fraktion der Schweizerischen Volkspartei",
          "Sozialdemokratische Fraktion",
          "Die Mitte-Fraktion. Die Mitte. EVP.",
          "Grüne Fraktion",
          "FDP-Liberale Fraktion",
          "Grünliberale Fraktion"
         ],
         "textinfo": "none",
         "type": "pie",
         "values": [
          55,
          39,
          31,
          30,
          29,
          16
         ]
        }
       ],
       "layout": {
        "annotations": [
         {
          "font": {
           "size": 16
          },
          "showarrow": false,
          "text": "Vereinigte Bundesversammlung",
          "x": 0.14444444444444446,
          "xanchor": "center",
          "xref": "paper",
          "y": 1,
          "yanchor": "bottom",
          "yref": "paper",
          "yshift": -280
         },
         {
          "font": {
           "size": 16
          },
          "showarrow": false,
          "text": "Ständerat",
          "x": 0.5,
          "xanchor": "center",
          "xref": "paper",
          "y": 1,
          "yanchor": "bottom",
          "yref": "paper",
          "yshift": -280
         },
         {
          "font": {
           "size": 16
          },
          "showarrow": false,
          "text": "Nationalrat",
          "x": 0.8555555555555556,
          "xanchor": "center",
          "xref": "paper",
          "y": 1,
          "yanchor": "bottom",
          "yref": "paper",
          "yshift": -280
         }
        ],
        "height": 400,
        "template": {
         "data": {
          "bar": [
           {
            "error_x": {
             "color": "#2a3f5f"
            },
            "error_y": {
             "color": "#2a3f5f"
            },
            "marker": {
             "line": {
              "color": "#E5ECF6",
              "width": 0.5
             },
             "pattern": {
              "fillmode": "overlay",
              "size": 10,
              "solidity": 0.2
             }
            },
            "type": "bar"
           }
          ],
          "barpolar": [
           {
            "marker": {
             "line": {
              "color": "#E5ECF6",
              "width": 0.5
             },
             "pattern": {
              "fillmode": "overlay",
              "size": 10,
              "solidity": 0.2
             }
            },
            "type": "barpolar"
           }
          ],
          "carpet": [
           {
            "aaxis": {
             "endlinecolor": "#2a3f5f",
             "gridcolor": "white",
             "linecolor": "white",
             "minorgridcolor": "white",
             "startlinecolor": "#2a3f5f"
            },
            "baxis": {
             "endlinecolor": "#2a3f5f",
             "gridcolor": "white",
             "linecolor": "white",
             "minorgridcolor": "white",
             "startlinecolor": "#2a3f5f"
            },
            "type": "carpet"
           }
          ],
          "choropleth": [
           {
            "colorbar": {
             "outlinewidth": 0,
             "ticks": ""
            },
            "type": "choropleth"
           }
          ],
          "contour": [
           {
            "colorbar": {
             "outlinewidth": 0,
             "ticks": ""
            },
            "colorscale": [
             [
              0,
              "#0d0887"
             ],
             [
              0.1111111111111111,
              "#46039f"
             ],
             [
              0.2222222222222222,
              "#7201a8"
             ],
             [
              0.3333333333333333,
              "#9c179e"
             ],
             [
              0.4444444444444444,
              "#bd3786"
             ],
             [
              0.5555555555555556,
              "#d8576b"
             ],
             [
              0.6666666666666666,
              "#ed7953"
             ],
             [
              0.7777777777777778,
              "#fb9f3a"
             ],
             [
              0.8888888888888888,
              "#fdca26"
             ],
             [
              1,
              "#f0f921"
             ]
            ],
            "type": "contour"
           }
          ],
          "contourcarpet": [
           {
            "colorbar": {
             "outlinewidth": 0,
             "ticks": ""
            },
            "type": "contourcarpet"
           }
          ],
          "heatmap": [
           {
            "colorbar": {
             "outlinewidth": 0,
             "ticks": ""
            },
            "colorscale": [
             [
              0,
              "#0d0887"
             ],
             [
              0.1111111111111111,
              "#46039f"
             ],
             [
              0.2222222222222222,
              "#7201a8"
             ],
             [
              0.3333333333333333,
              "#9c179e"
             ],
             [
              0.4444444444444444,
              "#bd3786"
             ],
             [
              0.5555555555555556,
              "#d8576b"
             ],
             [
              0.6666666666666666,
              "#ed7953"
             ],
             [
              0.7777777777777778,
              "#fb9f3a"
             ],
             [
              0.8888888888888888,
              "#fdca26"
             ],
             [
              1,
              "#f0f921"
             ]
            ],
            "type": "heatmap"
           }
          ],
          "heatmapgl": [
           {
            "colorbar": {
             "outlinewidth": 0,
             "ticks": ""
            },
            "colorscale": [
             [
              0,
              "#0d0887"
             ],
             [
              0.1111111111111111,
              "#46039f"
             ],
             [
              0.2222222222222222,
              "#7201a8"
             ],
             [
              0.3333333333333333,
              "#9c179e"
             ],
             [
              0.4444444444444444,
              "#bd3786"
             ],
             [
              0.5555555555555556,
              "#d8576b"
             ],
             [
              0.6666666666666666,
              "#ed7953"
             ],
             [
              0.7777777777777778,
              "#fb9f3a"
             ],
             [
              0.8888888888888888,
              "#fdca26"
             ],
             [
              1,
              "#f0f921"
             ]
            ],
            "type": "heatmapgl"
           }
          ],
          "histogram": [
           {
            "marker": {
             "pattern": {
              "fillmode": "overlay",
              "size": 10,
              "solidity": 0.2
             }
            },
            "type": "histogram"
           }
          ],
          "histogram2d": [
           {
            "colorbar": {
             "outlinewidth": 0,
             "ticks": ""
            },
            "colorscale": [
             [
              0,
              "#0d0887"
             ],
             [
              0.1111111111111111,
              "#46039f"
             ],
             [
              0.2222222222222222,
              "#7201a8"
             ],
             [
              0.3333333333333333,
              "#9c179e"
             ],
             [
              0.4444444444444444,
              "#bd3786"
             ],
             [
              0.5555555555555556,
              "#d8576b"
             ],
             [
              0.6666666666666666,
              "#ed7953"
             ],
             [
              0.7777777777777778,
              "#fb9f3a"
             ],
             [
              0.8888888888888888,
              "#fdca26"
             ],
             [
              1,
              "#f0f921"
             ]
            ],
            "type": "histogram2d"
           }
          ],
          "histogram2dcontour": [
           {
            "colorbar": {
             "outlinewidth": 0,
             "ticks": ""
            },
            "colorscale": [
             [
              0,
              "#0d0887"
             ],
             [
              0.1111111111111111,
              "#46039f"
             ],
             [
              0.2222222222222222,
              "#7201a8"
             ],
             [
              0.3333333333333333,
              "#9c179e"
             ],
             [
              0.4444444444444444,
              "#bd3786"
             ],
             [
              0.5555555555555556,
              "#d8576b"
             ],
             [
              0.6666666666666666,
              "#ed7953"
             ],
             [
              0.7777777777777778,
              "#fb9f3a"
             ],
             [
              0.8888888888888888,
              "#fdca26"
             ],
             [
              1,
              "#f0f921"
             ]
            ],
            "type": "histogram2dcontour"
           }
          ],
          "mesh3d": [
           {
            "colorbar": {
             "outlinewidth": 0,
             "ticks": ""
            },
            "type": "mesh3d"
           }
          ],
          "parcoords": [
           {
            "line": {
             "colorbar": {
              "outlinewidth": 0,
              "ticks": ""
             }
            },
            "type": "parcoords"
           }
          ],
          "pie": [
           {
            "automargin": true,
            "type": "pie"
           }
          ],
          "scatter": [
           {
            "marker": {
             "colorbar": {
              "outlinewidth": 0,
              "ticks": ""
             }
            },
            "type": "scatter"
           }
          ],
          "scatter3d": [
           {
            "line": {
             "colorbar": {
              "outlinewidth": 0,
              "ticks": ""
             }
            },
            "marker": {
             "colorbar": {
              "outlinewidth": 0,
              "ticks": ""
             }
            },
            "type": "scatter3d"
           }
          ],
          "scattercarpet": [
           {
            "marker": {
             "colorbar": {
              "outlinewidth": 0,
              "ticks": ""
             }
            },
            "type": "scattercarpet"
           }
          ],
          "scattergeo": [
           {
            "marker": {
             "colorbar": {
              "outlinewidth": 0,
              "ticks": ""
             }
            },
            "type": "scattergeo"
           }
          ],
          "scattergl": [
           {
            "marker": {
             "colorbar": {
              "outlinewidth": 0,
              "ticks": ""
             }
            },
            "type": "scattergl"
           }
          ],
          "scattermapbox": [
           {
            "marker": {
             "colorbar": {
              "outlinewidth": 0,
              "ticks": ""
             }
            },
            "type": "scattermapbox"
           }
          ],
          "scatterpolar": [
           {
            "marker": {
             "colorbar": {
              "outlinewidth": 0,
              "ticks": ""
             }
            },
            "type": "scatterpolar"
           }
          ],
          "scatterpolargl": [
           {
            "marker": {
             "colorbar": {
              "outlinewidth": 0,
              "ticks": ""
             }
            },
            "type": "scatterpolargl"
           }
          ],
          "scatterternary": [
           {
            "marker": {
             "colorbar": {
              "outlinewidth": 0,
              "ticks": ""
             }
            },
            "type": "scatterternary"
           }
          ],
          "surface": [
           {
            "colorbar": {
             "outlinewidth": 0,
             "ticks": ""
            },
            "colorscale": [
             [
              0,
              "#0d0887"
             ],
             [
              0.1111111111111111,
              "#46039f"
             ],
             [
              0.2222222222222222,
              "#7201a8"
             ],
             [
              0.3333333333333333,
              "#9c179e"
             ],
             [
              0.4444444444444444,
              "#bd3786"
             ],
             [
              0.5555555555555556,
              "#d8576b"
             ],
             [
              0.6666666666666666,
              "#ed7953"
             ],
             [
              0.7777777777777778,
              "#fb9f3a"
             ],
             [
              0.8888888888888888,
              "#fdca26"
             ],
             [
              1,
              "#f0f921"
             ]
            ],
            "type": "surface"
           }
          ],
          "table": [
           {
            "cells": {
             "fill": {
              "color": "#EBF0F8"
             },
             "line": {
              "color": "white"
             }
            },
            "header": {
             "fill": {
              "color": "#C8D4E3"
             },
             "line": {
              "color": "white"
             }
            },
            "type": "table"
           }
          ]
         },
         "layout": {
          "annotationdefaults": {
           "arrowcolor": "#2a3f5f",
           "arrowhead": 0,
           "arrowwidth": 1
          },
          "autotypenumbers": "strict",
          "coloraxis": {
           "colorbar": {
            "outlinewidth": 0,
            "ticks": ""
           }
          },
          "colorscale": {
           "diverging": [
            [
             0,
             "#8e0152"
            ],
            [
             0.1,
             "#c51b7d"
            ],
            [
             0.2,
             "#de77ae"
            ],
            [
             0.3,
             "#f1b6da"
            ],
            [
             0.4,
             "#fde0ef"
            ],
            [
             0.5,
             "#f7f7f7"
            ],
            [
             0.6,
             "#e6f5d0"
            ],
            [
             0.7,
             "#b8e186"
            ],
            [
             0.8,
             "#7fbc41"
            ],
            [
             0.9,
             "#4d9221"
            ],
            [
             1,
             "#276419"
            ]
           ],
           "sequential": [
            [
             0,
             "#0d0887"
            ],
            [
             0.1111111111111111,
             "#46039f"
            ],
            [
             0.2222222222222222,
             "#7201a8"
            ],
            [
             0.3333333333333333,
             "#9c179e"
            ],
            [
             0.4444444444444444,
             "#bd3786"
            ],
            [
             0.5555555555555556,
             "#d8576b"
            ],
            [
             0.6666666666666666,
             "#ed7953"
            ],
            [
             0.7777777777777778,
             "#fb9f3a"
            ],
            [
             0.8888888888888888,
             "#fdca26"
            ],
            [
             1,
             "#f0f921"
            ]
           ],
           "sequentialminus": [
            [
             0,
             "#0d0887"
            ],
            [
             0.1111111111111111,
             "#46039f"
            ],
            [
             0.2222222222222222,
             "#7201a8"
            ],
            [
             0.3333333333333333,
             "#9c179e"
            ],
            [
             0.4444444444444444,
             "#bd3786"
            ],
            [
             0.5555555555555556,
             "#d8576b"
            ],
            [
             0.6666666666666666,
             "#ed7953"
            ],
            [
             0.7777777777777778,
             "#fb9f3a"
            ],
            [
             0.8888888888888888,
             "#fdca26"
            ],
            [
             1,
             "#f0f921"
            ]
           ]
          },
          "colorway": [
           "#636efa",
           "#EF553B",
           "#00cc96",
           "#ab63fa",
           "#FFA15A",
           "#19d3f3",
           "#FF6692",
           "#B6E880",
           "#FF97FF",
           "#FECB52"
          ],
          "font": {
           "color": "#2a3f5f"
          },
          "geo": {
           "bgcolor": "white",
           "lakecolor": "white",
           "landcolor": "#E5ECF6",
           "showlakes": true,
           "showland": true,
           "subunitcolor": "white"
          },
          "hoverlabel": {
           "align": "left"
          },
          "hovermode": "closest",
          "mapbox": {
           "style": "light"
          },
          "paper_bgcolor": "white",
          "plot_bgcolor": "#E5ECF6",
          "polar": {
           "angularaxis": {
            "gridcolor": "white",
            "linecolor": "white",
            "ticks": ""
           },
           "bgcolor": "#E5ECF6",
           "radialaxis": {
            "gridcolor": "white",
            "linecolor": "white",
            "ticks": ""
           }
          },
          "scene": {
           "xaxis": {
            "backgroundcolor": "#E5ECF6",
            "gridcolor": "white",
            "gridwidth": 2,
            "linecolor": "white",
            "showbackground": true,
            "ticks": "",
            "zerolinecolor": "white"
           },
           "yaxis": {
            "backgroundcolor": "#E5ECF6",
            "gridcolor": "white",
            "gridwidth": 2,
            "linecolor": "white",
            "showbackground": true,
            "ticks": "",
            "zerolinecolor": "white"
           },
           "zaxis": {
            "backgroundcolor": "#E5ECF6",
            "gridcolor": "white",
            "gridwidth": 2,
            "linecolor": "white",
            "showbackground": true,
            "ticks": "",
            "zerolinecolor": "white"
           }
          },
          "shapedefaults": {
           "line": {
            "color": "#2a3f5f"
           }
          },
          "ternary": {
           "aaxis": {
            "gridcolor": "white",
            "linecolor": "white",
            "ticks": ""
           },
           "baxis": {
            "gridcolor": "white",
            "linecolor": "white",
            "ticks": ""
           },
           "bgcolor": "#E5ECF6",
           "caxis": {
            "gridcolor": "white",
            "linecolor": "white",
            "ticks": ""
           }
          },
          "title": {
           "x": 0.05
          },
          "xaxis": {
           "automargin": true,
           "gridcolor": "white",
           "linecolor": "white",
           "ticks": "",
           "title": {
            "standoff": 15
           },
           "zerolinecolor": "white",
           "zerolinewidth": 2
          },
          "yaxis": {
           "automargin": true,
           "gridcolor": "white",
           "linecolor": "white",
           "ticks": "",
           "title": {
            "standoff": 15
           },
           "zerolinecolor": "white",
           "zerolinewidth": 2
          }
         }
        },
        "title": {
         "text": "Members of Parliament",
         "x": 0.5
        }
       }
      }
     },
     "metadata": {},
     "output_type": "display_data"
    }
   ],
   "source": [
    "fig = make_subplots(rows=1, cols=3, subplot_titles=df[\"council\"].unique(), specs=[[{\"type\": \"pie\"}, {\"type\": \"pie\"}, {\"type\": \"pie\"}]])\n",
    "\n",
    "for i, council in enumerate(df[\"council\"].unique()):\n",
    "     fig.add_trace(go.Pie(\n",
    "          values=df[df.council == council][\"members\"],\n",
    "          labels=df[df.council == council][\"faction\"]\n",
    "          ), row=1, col=i+1)\n",
    "     fig.update_traces(textinfo='none')\n",
    "\n",
    "fig.update_annotations(yshift=-280)\n",
    "fig.update_layout(height=400, title={\"text\": \"Members of Parliament\", \"x\": 0.5})\n",
    "fig.show()"
   ]
  },
  {
   "cell_type": "markdown",
   "id": "5b67cb53",
   "metadata": {},
   "source": [
    "# Parliamentary Committees"
   ]
  },
  {
   "cell_type": "code",
   "execution_count": 35,
   "id": "5fcba7d8",
   "metadata": {},
   "outputs": [
    {
     "data": {
      "text/html": [
       "<div>\n",
       "<style scoped>\n",
       "    .dataframe tbody tr th:only-of-type {\n",
       "        vertical-align: middle;\n",
       "    }\n",
       "\n",
       "    .dataframe tbody tr th {\n",
       "        vertical-align: top;\n",
       "    }\n",
       "\n",
       "    .dataframe thead th {\n",
       "        text-align: right;\n",
       "    }\n",
       "</style>\n",
       "<table border=\"1\" class=\"dataframe\">\n",
       "  <thead>\n",
       "    <tr style=\"text-align: right;\">\n",
       "      <th></th>\n",
       "      <th>council</th>\n",
       "      <th>committee</th>\n",
       "      <th>members</th>\n",
       "    </tr>\n",
       "  </thead>\n",
       "  <tbody>\n",
       "    <tr>\n",
       "      <th>0</th>\n",
       "      <td>Nationalrat</td>\n",
       "      <td>Kommission für Wissenschaft, Bildung und Kultu...</td>\n",
       "      <td>25</td>\n",
       "    </tr>\n",
       "    <tr>\n",
       "      <th>1</th>\n",
       "      <td>Nationalrat</td>\n",
       "      <td>Aussenpolitische Kommission NR</td>\n",
       "      <td>25</td>\n",
       "    </tr>\n",
       "    <tr>\n",
       "      <th>2</th>\n",
       "      <td>Nationalrat</td>\n",
       "      <td>Staatspolitische Kommission NR</td>\n",
       "      <td>25</td>\n",
       "    </tr>\n",
       "    <tr>\n",
       "      <th>3</th>\n",
       "      <td>Nationalrat</td>\n",
       "      <td>Geschäftsprüfungskommission NR</td>\n",
       "      <td>25</td>\n",
       "    </tr>\n",
       "    <tr>\n",
       "      <th>4</th>\n",
       "      <td>Nationalrat</td>\n",
       "      <td>Finanzkommission NR</td>\n",
       "      <td>25</td>\n",
       "    </tr>\n",
       "    <tr>\n",
       "      <th>5</th>\n",
       "      <td>Nationalrat</td>\n",
       "      <td>Kommission für soziale Sicherheit und Gesundhe...</td>\n",
       "      <td>25</td>\n",
       "    </tr>\n",
       "    <tr>\n",
       "      <th>6</th>\n",
       "      <td>Nationalrat</td>\n",
       "      <td>Kommission für Umwelt, Raumplanung und Energie NR</td>\n",
       "      <td>25</td>\n",
       "    </tr>\n",
       "    <tr>\n",
       "      <th>7</th>\n",
       "      <td>Nationalrat</td>\n",
       "      <td>Büro NR</td>\n",
       "      <td>17</td>\n",
       "    </tr>\n",
       "    <tr>\n",
       "      <th>8</th>\n",
       "      <td>Ständerat</td>\n",
       "      <td>Finanzkommission SR</td>\n",
       "      <td>13</td>\n",
       "    </tr>\n",
       "    <tr>\n",
       "      <th>9</th>\n",
       "      <td>Ständerat</td>\n",
       "      <td>Kommission für soziale Sicherheit und Gesundhe...</td>\n",
       "      <td>13</td>\n",
       "    </tr>\n",
       "    <tr>\n",
       "      <th>10</th>\n",
       "      <td>Ständerat</td>\n",
       "      <td>Geschäftsprüfungskommission SR</td>\n",
       "      <td>13</td>\n",
       "    </tr>\n",
       "  </tbody>\n",
       "</table>\n",
       "</div>"
      ],
      "text/plain": [
       "        council                                          committee  members\n",
       "0   Nationalrat  Kommission für Wissenschaft, Bildung und Kultu...       25\n",
       "1   Nationalrat                     Aussenpolitische Kommission NR       25\n",
       "2   Nationalrat                     Staatspolitische Kommission NR       25\n",
       "3   Nationalrat                     Geschäftsprüfungskommission NR       25\n",
       "4   Nationalrat                                Finanzkommission NR       25\n",
       "5   Nationalrat  Kommission für soziale Sicherheit und Gesundhe...       25\n",
       "6   Nationalrat  Kommission für Umwelt, Raumplanung und Energie NR       25\n",
       "7   Nationalrat                                            Büro NR       17\n",
       "8     Ständerat                                Finanzkommission SR       13\n",
       "9     Ständerat  Kommission für soziale Sicherheit und Gesundhe...       13\n",
       "10    Ständerat                     Geschäftsprüfungskommission SR       13"
      ]
     },
     "execution_count": 35,
     "metadata": {},
     "output_type": "execute_result"
    }
   ],
   "source": [
    "query = \"\"\"\n",
    "SELECT ?council ?committee (COUNT(?mep) AS ?members)\n",
    "FROM <https://lindas.admin.ch/fch/curia>\n",
    "FROM <https://lindas.admin.ch/fch/rvov>\n",
    "WHERE {\n",
    "\n",
    "  \tVALUES ?_council { <https://politics.ld.admin.ch/council/S> <https://politics.ld.admin.ch/council/N>}\n",
    "\t?mep a schema:Person;\n",
    "         schema:memberOf/schema:memberOf ?_council;\n",
    "                        schema:memberOf ?role.\n",
    "  \n",
    "   FILTER NOT EXISTS { ?role schema:endDate ?end }\n",
    "  \n",
    "   ?role schema:memberOf ?_committee.\n",
    "   ?_committee a <http://schema.org/ParliamentaryCommittee>;\n",
    "             schema:additionalType schema:MainCommittee;\n",
    "             schema:name ?committee.\n",
    "  \n",
    "   ?_council schema:name ?council.\n",
    "   FILTER (lang(?council) = 'de')\n",
    "   FILTER (lang(?committee) = 'de')\n",
    "}\n",
    "GROUP BY ?council ?committee\n",
    "ORDER BY DESC (?members)\n",
    "\"\"\"\n",
    "\n",
    "df = sparql.send_query(query)\n",
    "df"
   ]
  },
  {
   "cell_type": "code",
   "execution_count": 36,
   "id": "3f1caa47",
   "metadata": {},
   "outputs": [
    {
     "data": {
      "application/vnd.plotly.v1+json": {
       "config": {
        "plotlyServerURL": "https://plot.ly"
       },
       "data": [
        {
         "branchvalues": "total",
         "domain": {
          "x": [
           0,
           1
          ],
          "y": [
           0,
           1
          ]
         },
         "hovertemplate": "labels=%{label}<br>members=%{value}<br>parent=%{parent}<br>id=%{id}<extra></extra>",
         "ids": [
          "Nationalrat/Aussenpolitische Kommission NR",
          "Nationalrat/Büro NR",
          "Nationalrat/Finanzkommission NR",
          "Ständerat/Finanzkommission SR",
          "Nationalrat/Geschäftsprüfungskommission NR",
          "Ständerat/Geschäftsprüfungskommission SR",
          "Nationalrat/Kommission für Umwelt, Raumplanung und Energie NR",
          "Nationalrat/Kommission für Wissenschaft, Bildung und Kultur NR",
          "Nationalrat/Kommission für soziale Sicherheit und Gesundheit NR",
          "Ständerat/Kommission für soziale Sicherheit und Gesundheit SR",
          "Nationalrat/Staatspolitische Kommission NR",
          "Nationalrat",
          "Ständerat"
         ],
         "labels": [
          "Aussenpolitische Kommission NR",
          "Büro NR",
          "Finanzkommission NR",
          "Finanzkommission SR",
          "Geschäftsprüfungskommission NR",
          "Geschäftsprüfungskommission SR",
          "Kommission für Umwelt, Raumplanung und Energie NR",
          "Kommission für Wissenschaft, Bildung und Kultur NR",
          "Kommission für soziale Sicherheit und Gesundheit NR",
          "Kommission für soziale Sicherheit und Gesundheit SR",
          "Staatspolitische Kommission NR",
          "Nationalrat",
          "Ständerat"
         ],
         "name": "",
         "parents": [
          "Nationalrat",
          "Nationalrat",
          "Nationalrat",
          "Ständerat",
          "Nationalrat",
          "Ständerat",
          "Nationalrat",
          "Nationalrat",
          "Nationalrat",
          "Ständerat",
          "Nationalrat",
          "",
          ""
         ],
         "type": "treemap",
         "values": [
          25,
          17,
          25,
          13,
          25,
          13,
          25,
          25,
          25,
          13,
          25,
          192,
          39
         ]
        }
       ],
       "layout": {
        "legend": {
         "tracegroupgap": 0
        },
        "margin": {
         "t": 60
        },
        "template": {
         "data": {
          "bar": [
           {
            "error_x": {
             "color": "#2a3f5f"
            },
            "error_y": {
             "color": "#2a3f5f"
            },
            "marker": {
             "line": {
              "color": "#E5ECF6",
              "width": 0.5
             },
             "pattern": {
              "fillmode": "overlay",
              "size": 10,
              "solidity": 0.2
             }
            },
            "type": "bar"
           }
          ],
          "barpolar": [
           {
            "marker": {
             "line": {
              "color": "#E5ECF6",
              "width": 0.5
             },
             "pattern": {
              "fillmode": "overlay",
              "size": 10,
              "solidity": 0.2
             }
            },
            "type": "barpolar"
           }
          ],
          "carpet": [
           {
            "aaxis": {
             "endlinecolor": "#2a3f5f",
             "gridcolor": "white",
             "linecolor": "white",
             "minorgridcolor": "white",
             "startlinecolor": "#2a3f5f"
            },
            "baxis": {
             "endlinecolor": "#2a3f5f",
             "gridcolor": "white",
             "linecolor": "white",
             "minorgridcolor": "white",
             "startlinecolor": "#2a3f5f"
            },
            "type": "carpet"
           }
          ],
          "choropleth": [
           {
            "colorbar": {
             "outlinewidth": 0,
             "ticks": ""
            },
            "type": "choropleth"
           }
          ],
          "contour": [
           {
            "colorbar": {
             "outlinewidth": 0,
             "ticks": ""
            },
            "colorscale": [
             [
              0,
              "#0d0887"
             ],
             [
              0.1111111111111111,
              "#46039f"
             ],
             [
              0.2222222222222222,
              "#7201a8"
             ],
             [
              0.3333333333333333,
              "#9c179e"
             ],
             [
              0.4444444444444444,
              "#bd3786"
             ],
             [
              0.5555555555555556,
              "#d8576b"
             ],
             [
              0.6666666666666666,
              "#ed7953"
             ],
             [
              0.7777777777777778,
              "#fb9f3a"
             ],
             [
              0.8888888888888888,
              "#fdca26"
             ],
             [
              1,
              "#f0f921"
             ]
            ],
            "type": "contour"
           }
          ],
          "contourcarpet": [
           {
            "colorbar": {
             "outlinewidth": 0,
             "ticks": ""
            },
            "type": "contourcarpet"
           }
          ],
          "heatmap": [
           {
            "colorbar": {
             "outlinewidth": 0,
             "ticks": ""
            },
            "colorscale": [
             [
              0,
              "#0d0887"
             ],
             [
              0.1111111111111111,
              "#46039f"
             ],
             [
              0.2222222222222222,
              "#7201a8"
             ],
             [
              0.3333333333333333,
              "#9c179e"
             ],
             [
              0.4444444444444444,
              "#bd3786"
             ],
             [
              0.5555555555555556,
              "#d8576b"
             ],
             [
              0.6666666666666666,
              "#ed7953"
             ],
             [
              0.7777777777777778,
              "#fb9f3a"
             ],
             [
              0.8888888888888888,
              "#fdca26"
             ],
             [
              1,
              "#f0f921"
             ]
            ],
            "type": "heatmap"
           }
          ],
          "heatmapgl": [
           {
            "colorbar": {
             "outlinewidth": 0,
             "ticks": ""
            },
            "colorscale": [
             [
              0,
              "#0d0887"
             ],
             [
              0.1111111111111111,
              "#46039f"
             ],
             [
              0.2222222222222222,
              "#7201a8"
             ],
             [
              0.3333333333333333,
              "#9c179e"
             ],
             [
              0.4444444444444444,
              "#bd3786"
             ],
             [
              0.5555555555555556,
              "#d8576b"
             ],
             [
              0.6666666666666666,
              "#ed7953"
             ],
             [
              0.7777777777777778,
              "#fb9f3a"
             ],
             [
              0.8888888888888888,
              "#fdca26"
             ],
             [
              1,
              "#f0f921"
             ]
            ],
            "type": "heatmapgl"
           }
          ],
          "histogram": [
           {
            "marker": {
             "pattern": {
              "fillmode": "overlay",
              "size": 10,
              "solidity": 0.2
             }
            },
            "type": "histogram"
           }
          ],
          "histogram2d": [
           {
            "colorbar": {
             "outlinewidth": 0,
             "ticks": ""
            },
            "colorscale": [
             [
              0,
              "#0d0887"
             ],
             [
              0.1111111111111111,
              "#46039f"
             ],
             [
              0.2222222222222222,
              "#7201a8"
             ],
             [
              0.3333333333333333,
              "#9c179e"
             ],
             [
              0.4444444444444444,
              "#bd3786"
             ],
             [
              0.5555555555555556,
              "#d8576b"
             ],
             [
              0.6666666666666666,
              "#ed7953"
             ],
             [
              0.7777777777777778,
              "#fb9f3a"
             ],
             [
              0.8888888888888888,
              "#fdca26"
             ],
             [
              1,
              "#f0f921"
             ]
            ],
            "type": "histogram2d"
           }
          ],
          "histogram2dcontour": [
           {
            "colorbar": {
             "outlinewidth": 0,
             "ticks": ""
            },
            "colorscale": [
             [
              0,
              "#0d0887"
             ],
             [
              0.1111111111111111,
              "#46039f"
             ],
             [
              0.2222222222222222,
              "#7201a8"
             ],
             [
              0.3333333333333333,
              "#9c179e"
             ],
             [
              0.4444444444444444,
              "#bd3786"
             ],
             [
              0.5555555555555556,
              "#d8576b"
             ],
             [
              0.6666666666666666,
              "#ed7953"
             ],
             [
              0.7777777777777778,
              "#fb9f3a"
             ],
             [
              0.8888888888888888,
              "#fdca26"
             ],
             [
              1,
              "#f0f921"
             ]
            ],
            "type": "histogram2dcontour"
           }
          ],
          "mesh3d": [
           {
            "colorbar": {
             "outlinewidth": 0,
             "ticks": ""
            },
            "type": "mesh3d"
           }
          ],
          "parcoords": [
           {
            "line": {
             "colorbar": {
              "outlinewidth": 0,
              "ticks": ""
             }
            },
            "type": "parcoords"
           }
          ],
          "pie": [
           {
            "automargin": true,
            "type": "pie"
           }
          ],
          "scatter": [
           {
            "marker": {
             "colorbar": {
              "outlinewidth": 0,
              "ticks": ""
             }
            },
            "type": "scatter"
           }
          ],
          "scatter3d": [
           {
            "line": {
             "colorbar": {
              "outlinewidth": 0,
              "ticks": ""
             }
            },
            "marker": {
             "colorbar": {
              "outlinewidth": 0,
              "ticks": ""
             }
            },
            "type": "scatter3d"
           }
          ],
          "scattercarpet": [
           {
            "marker": {
             "colorbar": {
              "outlinewidth": 0,
              "ticks": ""
             }
            },
            "type": "scattercarpet"
           }
          ],
          "scattergeo": [
           {
            "marker": {
             "colorbar": {
              "outlinewidth": 0,
              "ticks": ""
             }
            },
            "type": "scattergeo"
           }
          ],
          "scattergl": [
           {
            "marker": {
             "colorbar": {
              "outlinewidth": 0,
              "ticks": ""
             }
            },
            "type": "scattergl"
           }
          ],
          "scattermapbox": [
           {
            "marker": {
             "colorbar": {
              "outlinewidth": 0,
              "ticks": ""
             }
            },
            "type": "scattermapbox"
           }
          ],
          "scatterpolar": [
           {
            "marker": {
             "colorbar": {
              "outlinewidth": 0,
              "ticks": ""
             }
            },
            "type": "scatterpolar"
           }
          ],
          "scatterpolargl": [
           {
            "marker": {
             "colorbar": {
              "outlinewidth": 0,
              "ticks": ""
             }
            },
            "type": "scatterpolargl"
           }
          ],
          "scatterternary": [
           {
            "marker": {
             "colorbar": {
              "outlinewidth": 0,
              "ticks": ""
             }
            },
            "type": "scatterternary"
           }
          ],
          "surface": [
           {
            "colorbar": {
             "outlinewidth": 0,
             "ticks": ""
            },
            "colorscale": [
             [
              0,
              "#0d0887"
             ],
             [
              0.1111111111111111,
              "#46039f"
             ],
             [
              0.2222222222222222,
              "#7201a8"
             ],
             [
              0.3333333333333333,
              "#9c179e"
             ],
             [
              0.4444444444444444,
              "#bd3786"
             ],
             [
              0.5555555555555556,
              "#d8576b"
             ],
             [
              0.6666666666666666,
              "#ed7953"
             ],
             [
              0.7777777777777778,
              "#fb9f3a"
             ],
             [
              0.8888888888888888,
              "#fdca26"
             ],
             [
              1,
              "#f0f921"
             ]
            ],
            "type": "surface"
           }
          ],
          "table": [
           {
            "cells": {
             "fill": {
              "color": "#EBF0F8"
             },
             "line": {
              "color": "white"
             }
            },
            "header": {
             "fill": {
              "color": "#C8D4E3"
             },
             "line": {
              "color": "white"
             }
            },
            "type": "table"
           }
          ]
         },
         "layout": {
          "annotationdefaults": {
           "arrowcolor": "#2a3f5f",
           "arrowhead": 0,
           "arrowwidth": 1
          },
          "autotypenumbers": "strict",
          "coloraxis": {
           "colorbar": {
            "outlinewidth": 0,
            "ticks": ""
           }
          },
          "colorscale": {
           "diverging": [
            [
             0,
             "#8e0152"
            ],
            [
             0.1,
             "#c51b7d"
            ],
            [
             0.2,
             "#de77ae"
            ],
            [
             0.3,
             "#f1b6da"
            ],
            [
             0.4,
             "#fde0ef"
            ],
            [
             0.5,
             "#f7f7f7"
            ],
            [
             0.6,
             "#e6f5d0"
            ],
            [
             0.7,
             "#b8e186"
            ],
            [
             0.8,
             "#7fbc41"
            ],
            [
             0.9,
             "#4d9221"
            ],
            [
             1,
             "#276419"
            ]
           ],
           "sequential": [
            [
             0,
             "#0d0887"
            ],
            [
             0.1111111111111111,
             "#46039f"
            ],
            [
             0.2222222222222222,
             "#7201a8"
            ],
            [
             0.3333333333333333,
             "#9c179e"
            ],
            [
             0.4444444444444444,
             "#bd3786"
            ],
            [
             0.5555555555555556,
             "#d8576b"
            ],
            [
             0.6666666666666666,
             "#ed7953"
            ],
            [
             0.7777777777777778,
             "#fb9f3a"
            ],
            [
             0.8888888888888888,
             "#fdca26"
            ],
            [
             1,
             "#f0f921"
            ]
           ],
           "sequentialminus": [
            [
             0,
             "#0d0887"
            ],
            [
             0.1111111111111111,
             "#46039f"
            ],
            [
             0.2222222222222222,
             "#7201a8"
            ],
            [
             0.3333333333333333,
             "#9c179e"
            ],
            [
             0.4444444444444444,
             "#bd3786"
            ],
            [
             0.5555555555555556,
             "#d8576b"
            ],
            [
             0.6666666666666666,
             "#ed7953"
            ],
            [
             0.7777777777777778,
             "#fb9f3a"
            ],
            [
             0.8888888888888888,
             "#fdca26"
            ],
            [
             1,
             "#f0f921"
            ]
           ]
          },
          "colorway": [
           "#636efa",
           "#EF553B",
           "#00cc96",
           "#ab63fa",
           "#FFA15A",
           "#19d3f3",
           "#FF6692",
           "#B6E880",
           "#FF97FF",
           "#FECB52"
          ],
          "font": {
           "color": "#2a3f5f"
          },
          "geo": {
           "bgcolor": "white",
           "lakecolor": "white",
           "landcolor": "#E5ECF6",
           "showlakes": true,
           "showland": true,
           "subunitcolor": "white"
          },
          "hoverlabel": {
           "align": "left"
          },
          "hovermode": "closest",
          "mapbox": {
           "style": "light"
          },
          "paper_bgcolor": "white",
          "plot_bgcolor": "#E5ECF6",
          "polar": {
           "angularaxis": {
            "gridcolor": "white",
            "linecolor": "white",
            "ticks": ""
           },
           "bgcolor": "#E5ECF6",
           "radialaxis": {
            "gridcolor": "white",
            "linecolor": "white",
            "ticks": ""
           }
          },
          "scene": {
           "xaxis": {
            "backgroundcolor": "#E5ECF6",
            "gridcolor": "white",
            "gridwidth": 2,
            "linecolor": "white",
            "showbackground": true,
            "ticks": "",
            "zerolinecolor": "white"
           },
           "yaxis": {
            "backgroundcolor": "#E5ECF6",
            "gridcolor": "white",
            "gridwidth": 2,
            "linecolor": "white",
            "showbackground": true,
            "ticks": "",
            "zerolinecolor": "white"
           },
           "zaxis": {
            "backgroundcolor": "#E5ECF6",
            "gridcolor": "white",
            "gridwidth": 2,
            "linecolor": "white",
            "showbackground": true,
            "ticks": "",
            "zerolinecolor": "white"
           }
          },
          "shapedefaults": {
           "line": {
            "color": "#2a3f5f"
           }
          },
          "ternary": {
           "aaxis": {
            "gridcolor": "white",
            "linecolor": "white",
            "ticks": ""
           },
           "baxis": {
            "gridcolor": "white",
            "linecolor": "white",
            "ticks": ""
           },
           "bgcolor": "#E5ECF6",
           "caxis": {
            "gridcolor": "white",
            "linecolor": "white",
            "ticks": ""
           }
          },
          "title": {
           "x": 0.05
          },
          "xaxis": {
           "automargin": true,
           "gridcolor": "white",
           "linecolor": "white",
           "ticks": "",
           "title": {
            "standoff": 15
           },
           "zerolinecolor": "white",
           "zerolinewidth": 2
          },
          "yaxis": {
           "automargin": true,
           "gridcolor": "white",
           "linecolor": "white",
           "ticks": "",
           "title": {
            "standoff": 15
           },
           "zerolinecolor": "white",
           "zerolinewidth": 2
          }
         }
        }
       }
      }
     },
     "metadata": {},
     "output_type": "display_data"
    }
   ],
   "source": [
    "px.treemap(df, path=[\"council\", \"committee\"], values=\"members\")"
   ]
  },
  {
   "cell_type": "code",
   "execution_count": 37,
   "id": "057295af",
   "metadata": {},
   "outputs": [
    {
     "data": {
      "text/html": [
       "<div>\n",
       "<style scoped>\n",
       "    .dataframe tbody tr th:only-of-type {\n",
       "        vertical-align: middle;\n",
       "    }\n",
       "\n",
       "    .dataframe tbody tr th {\n",
       "        vertical-align: top;\n",
       "    }\n",
       "\n",
       "    .dataframe thead th {\n",
       "        text-align: right;\n",
       "    }\n",
       "</style>\n",
       "<table border=\"1\" class=\"dataframe\">\n",
       "  <thead>\n",
       "    <tr style=\"text-align: right;\">\n",
       "      <th></th>\n",
       "      <th>council</th>\n",
       "      <th>faction</th>\n",
       "      <th>members</th>\n",
       "    </tr>\n",
       "  </thead>\n",
       "  <tbody>\n",
       "    <tr>\n",
       "      <th>0</th>\n",
       "      <td>Vereinigte Bundesversammlung</td>\n",
       "      <td>Fraktion der Schweizerischen Volkspartei</td>\n",
       "      <td>62</td>\n",
       "    </tr>\n",
       "    <tr>\n",
       "      <th>1</th>\n",
       "      <td>Vereinigte Bundesversammlung</td>\n",
       "      <td>Sozialdemokratische Fraktion</td>\n",
       "      <td>47</td>\n",
       "    </tr>\n",
       "    <tr>\n",
       "      <th>2</th>\n",
       "      <td>Vereinigte Bundesversammlung</td>\n",
       "      <td>Die Mitte-Fraktion. Die Mitte. EVP.</td>\n",
       "      <td>45</td>\n",
       "    </tr>\n",
       "    <tr>\n",
       "      <th>3</th>\n",
       "      <td>Vereinigte Bundesversammlung</td>\n",
       "      <td>FDP-Liberale Fraktion</td>\n",
       "      <td>41</td>\n",
       "    </tr>\n",
       "    <tr>\n",
       "      <th>4</th>\n",
       "      <td>Vereinigte Bundesversammlung</td>\n",
       "      <td>Grüne Fraktion</td>\n",
       "      <td>35</td>\n",
       "    </tr>\n",
       "    <tr>\n",
       "      <th>5</th>\n",
       "      <td>Vereinigte Bundesversammlung</td>\n",
       "      <td>Grünliberale Fraktion</td>\n",
       "      <td>16</td>\n",
       "    </tr>\n",
       "    <tr>\n",
       "      <th>6</th>\n",
       "      <td>Ständerat</td>\n",
       "      <td>Die Mitte-Fraktion. Die Mitte. EVP.</td>\n",
       "      <td>14</td>\n",
       "    </tr>\n",
       "    <tr>\n",
       "      <th>7</th>\n",
       "      <td>Ständerat</td>\n",
       "      <td>FDP-Liberale Fraktion</td>\n",
       "      <td>12</td>\n",
       "    </tr>\n",
       "    <tr>\n",
       "      <th>8</th>\n",
       "      <td>Ständerat</td>\n",
       "      <td>Sozialdemokratische Fraktion</td>\n",
       "      <td>8</td>\n",
       "    </tr>\n",
       "    <tr>\n",
       "      <th>9</th>\n",
       "      <td>Ständerat</td>\n",
       "      <td>Fraktion der Schweizerischen Volkspartei</td>\n",
       "      <td>7</td>\n",
       "    </tr>\n",
       "    <tr>\n",
       "      <th>10</th>\n",
       "      <td>Ständerat</td>\n",
       "      <td>Grüne Fraktion</td>\n",
       "      <td>5</td>\n",
       "    </tr>\n",
       "    <tr>\n",
       "      <th>11</th>\n",
       "      <td>Nationalrat</td>\n",
       "      <td>Fraktion der Schweizerischen Volkspartei</td>\n",
       "      <td>55</td>\n",
       "    </tr>\n",
       "    <tr>\n",
       "      <th>12</th>\n",
       "      <td>Nationalrat</td>\n",
       "      <td>Sozialdemokratische Fraktion</td>\n",
       "      <td>39</td>\n",
       "    </tr>\n",
       "    <tr>\n",
       "      <th>13</th>\n",
       "      <td>Nationalrat</td>\n",
       "      <td>Die Mitte-Fraktion. Die Mitte. EVP.</td>\n",
       "      <td>31</td>\n",
       "    </tr>\n",
       "    <tr>\n",
       "      <th>14</th>\n",
       "      <td>Nationalrat</td>\n",
       "      <td>Grüne Fraktion</td>\n",
       "      <td>30</td>\n",
       "    </tr>\n",
       "    <tr>\n",
       "      <th>15</th>\n",
       "      <td>Nationalrat</td>\n",
       "      <td>FDP-Liberale Fraktion</td>\n",
       "      <td>29</td>\n",
       "    </tr>\n",
       "    <tr>\n",
       "      <th>16</th>\n",
       "      <td>Nationalrat</td>\n",
       "      <td>Grünliberale Fraktion</td>\n",
       "      <td>16</td>\n",
       "    </tr>\n",
       "  </tbody>\n",
       "</table>\n",
       "</div>"
      ],
      "text/plain": [
       "                         council                                   faction  \\\n",
       "0   Vereinigte Bundesversammlung  Fraktion der Schweizerischen Volkspartei   \n",
       "1   Vereinigte Bundesversammlung              Sozialdemokratische Fraktion   \n",
       "2   Vereinigte Bundesversammlung       Die Mitte-Fraktion. Die Mitte. EVP.   \n",
       "3   Vereinigte Bundesversammlung                     FDP-Liberale Fraktion   \n",
       "4   Vereinigte Bundesversammlung                            Grüne Fraktion   \n",
       "5   Vereinigte Bundesversammlung                     Grünliberale Fraktion   \n",
       "6                      Ständerat       Die Mitte-Fraktion. Die Mitte. EVP.   \n",
       "7                      Ständerat                     FDP-Liberale Fraktion   \n",
       "8                      Ständerat              Sozialdemokratische Fraktion   \n",
       "9                      Ständerat  Fraktion der Schweizerischen Volkspartei   \n",
       "10                     Ständerat                            Grüne Fraktion   \n",
       "11                   Nationalrat  Fraktion der Schweizerischen Volkspartei   \n",
       "12                   Nationalrat              Sozialdemokratische Fraktion   \n",
       "13                   Nationalrat       Die Mitte-Fraktion. Die Mitte. EVP.   \n",
       "14                   Nationalrat                            Grüne Fraktion   \n",
       "15                   Nationalrat                     FDP-Liberale Fraktion   \n",
       "16                   Nationalrat                     Grünliberale Fraktion   \n",
       "\n",
       "    members  \n",
       "0        62  \n",
       "1        47  \n",
       "2        45  \n",
       "3        41  \n",
       "4        35  \n",
       "5        16  \n",
       "6        14  \n",
       "7        12  \n",
       "8         8  \n",
       "9         7  \n",
       "10        5  \n",
       "11       55  \n",
       "12       39  \n",
       "13       31  \n",
       "14       30  \n",
       "15       29  \n",
       "16       16  "
      ]
     },
     "execution_count": 37,
     "metadata": {},
     "output_type": "execute_result"
    }
   ],
   "source": [
    "query = \"\"\"\n",
    "SELECT ?council ?faction (COUNT(?mep) AS ?members)\n",
    "FROM <https://lindas.admin.ch/fch/curia>\n",
    "FROM <https://lindas.admin.ch/fch/rvov>\n",
    "WHERE {\n",
    "\n",
    "  \tVALUES ?_council { <https://politics.ld.admin.ch/council/S> <https://politics.ld.admin.ch/council/N> <https://politics.ld.admin.ch/council/UFA>}\n",
    "\t?mep a schema:Person;\n",
    "         schema:memberOf/schema:memberOf ?_council;\n",
    "                        schema:memberOf ?role.\n",
    "  \n",
    "   FILTER NOT EXISTS { ?role schema:endDate ?end }\n",
    "  \n",
    "   ?role schema:memberOf ?_faction.\n",
    "   ?_faction a <http://schema.org/ParliamentaryGroup>;\n",
    "             schema:name ?faction.\n",
    "  \n",
    "   ?_council schema:name ?council.\n",
    "   FILTER (lang(?council) = 'de')\n",
    "   FILTER (lang(?faction) = 'de')\n",
    "}\n",
    "GROUP BY ?council ?faction\n",
    "ORDER BY DESC(?council) DESC (?members)\n",
    "\"\"\"\n",
    "\n",
    "df = sparql.send_query(query)\n",
    "df"
   ]
  },
  {
   "cell_type": "markdown",
   "id": "16f3c7f3",
   "metadata": {},
   "source": [
    "# Comissions and Factions"
   ]
  },
  {
   "cell_type": "code",
   "execution_count": 38,
   "id": "a137da5e",
   "metadata": {},
   "outputs": [
    {
     "data": {
      "text/html": [
       "<div>\n",
       "<style scoped>\n",
       "    .dataframe tbody tr th:only-of-type {\n",
       "        vertical-align: middle;\n",
       "    }\n",
       "\n",
       "    .dataframe tbody tr th {\n",
       "        vertical-align: top;\n",
       "    }\n",
       "\n",
       "    .dataframe thead th {\n",
       "        text-align: right;\n",
       "    }\n",
       "</style>\n",
       "<table border=\"1\" class=\"dataframe\">\n",
       "  <thead>\n",
       "    <tr style=\"text-align: right;\">\n",
       "      <th></th>\n",
       "      <th>committee</th>\n",
       "      <th>faction</th>\n",
       "      <th>members</th>\n",
       "    </tr>\n",
       "  </thead>\n",
       "  <tbody>\n",
       "    <tr>\n",
       "      <th>0</th>\n",
       "      <td>Aussenpolitische Kommission NR</td>\n",
       "      <td>Die Mitte-Fraktion. Die Mitte. EVP.</td>\n",
       "      <td>4</td>\n",
       "    </tr>\n",
       "    <tr>\n",
       "      <th>1</th>\n",
       "      <td>Aussenpolitische Kommission NR</td>\n",
       "      <td>FDP-Liberale Fraktion</td>\n",
       "      <td>4</td>\n",
       "    </tr>\n",
       "    <tr>\n",
       "      <th>2</th>\n",
       "      <td>Aussenpolitische Kommission NR</td>\n",
       "      <td>Fraktion der Schweizerischen Volkspartei</td>\n",
       "      <td>6</td>\n",
       "    </tr>\n",
       "    <tr>\n",
       "      <th>3</th>\n",
       "      <td>Aussenpolitische Kommission NR</td>\n",
       "      <td>Grüne Fraktion</td>\n",
       "      <td>4</td>\n",
       "    </tr>\n",
       "    <tr>\n",
       "      <th>4</th>\n",
       "      <td>Aussenpolitische Kommission NR</td>\n",
       "      <td>Grünliberale Fraktion</td>\n",
       "      <td>2</td>\n",
       "    </tr>\n",
       "    <tr>\n",
       "      <th>5</th>\n",
       "      <td>Aussenpolitische Kommission NR</td>\n",
       "      <td>Sozialdemokratische Fraktion</td>\n",
       "      <td>5</td>\n",
       "    </tr>\n",
       "    <tr>\n",
       "      <th>6</th>\n",
       "      <td>Büro NR</td>\n",
       "      <td>Die Mitte-Fraktion. Die Mitte. EVP.</td>\n",
       "      <td>4</td>\n",
       "    </tr>\n",
       "    <tr>\n",
       "      <th>7</th>\n",
       "      <td>Büro NR</td>\n",
       "      <td>FDP-Liberale Fraktion</td>\n",
       "      <td>1</td>\n",
       "    </tr>\n",
       "    <tr>\n",
       "      <th>8</th>\n",
       "      <td>Büro NR</td>\n",
       "      <td>Fraktion der Schweizerischen Volkspartei</td>\n",
       "      <td>3</td>\n",
       "    </tr>\n",
       "    <tr>\n",
       "      <th>9</th>\n",
       "      <td>Büro NR</td>\n",
       "      <td>Grüne Fraktion</td>\n",
       "      <td>4</td>\n",
       "    </tr>\n",
       "    <tr>\n",
       "      <th>10</th>\n",
       "      <td>Büro NR</td>\n",
       "      <td>Grünliberale Fraktion</td>\n",
       "      <td>1</td>\n",
       "    </tr>\n",
       "    <tr>\n",
       "      <th>11</th>\n",
       "      <td>Büro NR</td>\n",
       "      <td>Sozialdemokratische Fraktion</td>\n",
       "      <td>4</td>\n",
       "    </tr>\n",
       "    <tr>\n",
       "      <th>12</th>\n",
       "      <td>Finanzkommission NR</td>\n",
       "      <td>Die Mitte-Fraktion. Die Mitte. EVP.</td>\n",
       "      <td>3</td>\n",
       "    </tr>\n",
       "    <tr>\n",
       "      <th>13</th>\n",
       "      <td>Finanzkommission NR</td>\n",
       "      <td>FDP-Liberale Fraktion</td>\n",
       "      <td>4</td>\n",
       "    </tr>\n",
       "    <tr>\n",
       "      <th>14</th>\n",
       "      <td>Finanzkommission NR</td>\n",
       "      <td>Fraktion der Schweizerischen Volkspartei</td>\n",
       "      <td>7</td>\n",
       "    </tr>\n",
       "    <tr>\n",
       "      <th>15</th>\n",
       "      <td>Finanzkommission NR</td>\n",
       "      <td>Grüne Fraktion</td>\n",
       "      <td>4</td>\n",
       "    </tr>\n",
       "    <tr>\n",
       "      <th>16</th>\n",
       "      <td>Finanzkommission NR</td>\n",
       "      <td>Grünliberale Fraktion</td>\n",
       "      <td>2</td>\n",
       "    </tr>\n",
       "    <tr>\n",
       "      <th>17</th>\n",
       "      <td>Finanzkommission NR</td>\n",
       "      <td>Sozialdemokratische Fraktion</td>\n",
       "      <td>5</td>\n",
       "    </tr>\n",
       "    <tr>\n",
       "      <th>18</th>\n",
       "      <td>Finanzkommission SR</td>\n",
       "      <td>Die Mitte-Fraktion. Die Mitte. EVP.</td>\n",
       "      <td>4</td>\n",
       "    </tr>\n",
       "    <tr>\n",
       "      <th>19</th>\n",
       "      <td>Finanzkommission SR</td>\n",
       "      <td>FDP-Liberale Fraktion</td>\n",
       "      <td>3</td>\n",
       "    </tr>\n",
       "    <tr>\n",
       "      <th>20</th>\n",
       "      <td>Finanzkommission SR</td>\n",
       "      <td>Fraktion der Schweizerischen Volkspartei</td>\n",
       "      <td>2</td>\n",
       "    </tr>\n",
       "    <tr>\n",
       "      <th>21</th>\n",
       "      <td>Finanzkommission SR</td>\n",
       "      <td>Grüne Fraktion</td>\n",
       "      <td>1</td>\n",
       "    </tr>\n",
       "    <tr>\n",
       "      <th>22</th>\n",
       "      <td>Finanzkommission SR</td>\n",
       "      <td>Sozialdemokratische Fraktion</td>\n",
       "      <td>3</td>\n",
       "    </tr>\n",
       "    <tr>\n",
       "      <th>23</th>\n",
       "      <td>Geschäftsprüfungskommission NR</td>\n",
       "      <td>Die Mitte-Fraktion. Die Mitte. EVP.</td>\n",
       "      <td>4</td>\n",
       "    </tr>\n",
       "    <tr>\n",
       "      <th>24</th>\n",
       "      <td>Geschäftsprüfungskommission NR</td>\n",
       "      <td>FDP-Liberale Fraktion</td>\n",
       "      <td>3</td>\n",
       "    </tr>\n",
       "    <tr>\n",
       "      <th>25</th>\n",
       "      <td>Geschäftsprüfungskommission NR</td>\n",
       "      <td>Fraktion der Schweizerischen Volkspartei</td>\n",
       "      <td>7</td>\n",
       "    </tr>\n",
       "    <tr>\n",
       "      <th>26</th>\n",
       "      <td>Geschäftsprüfungskommission NR</td>\n",
       "      <td>Grüne Fraktion</td>\n",
       "      <td>4</td>\n",
       "    </tr>\n",
       "    <tr>\n",
       "      <th>27</th>\n",
       "      <td>Geschäftsprüfungskommission NR</td>\n",
       "      <td>Grünliberale Fraktion</td>\n",
       "      <td>2</td>\n",
       "    </tr>\n",
       "    <tr>\n",
       "      <th>28</th>\n",
       "      <td>Geschäftsprüfungskommission NR</td>\n",
       "      <td>Sozialdemokratische Fraktion</td>\n",
       "      <td>5</td>\n",
       "    </tr>\n",
       "    <tr>\n",
       "      <th>29</th>\n",
       "      <td>Geschäftsprüfungskommission SR</td>\n",
       "      <td>Die Mitte-Fraktion. Die Mitte. EVP.</td>\n",
       "      <td>4</td>\n",
       "    </tr>\n",
       "    <tr>\n",
       "      <th>30</th>\n",
       "      <td>Geschäftsprüfungskommission SR</td>\n",
       "      <td>FDP-Liberale Fraktion</td>\n",
       "      <td>3</td>\n",
       "    </tr>\n",
       "    <tr>\n",
       "      <th>31</th>\n",
       "      <td>Geschäftsprüfungskommission SR</td>\n",
       "      <td>Fraktion der Schweizerischen Volkspartei</td>\n",
       "      <td>2</td>\n",
       "    </tr>\n",
       "    <tr>\n",
       "      <th>32</th>\n",
       "      <td>Geschäftsprüfungskommission SR</td>\n",
       "      <td>Grüne Fraktion</td>\n",
       "      <td>1</td>\n",
       "    </tr>\n",
       "    <tr>\n",
       "      <th>33</th>\n",
       "      <td>Geschäftsprüfungskommission SR</td>\n",
       "      <td>Sozialdemokratische Fraktion</td>\n",
       "      <td>3</td>\n",
       "    </tr>\n",
       "    <tr>\n",
       "      <th>34</th>\n",
       "      <td>Kommission für Umwelt, Raumplanung und Energie NR</td>\n",
       "      <td>Die Mitte-Fraktion. Die Mitte. EVP.</td>\n",
       "      <td>4</td>\n",
       "    </tr>\n",
       "    <tr>\n",
       "      <th>35</th>\n",
       "      <td>Kommission für Umwelt, Raumplanung und Energie NR</td>\n",
       "      <td>FDP-Liberale Fraktion</td>\n",
       "      <td>3</td>\n",
       "    </tr>\n",
       "    <tr>\n",
       "      <th>36</th>\n",
       "      <td>Kommission für Umwelt, Raumplanung und Energie NR</td>\n",
       "      <td>Fraktion der Schweizerischen Volkspartei</td>\n",
       "      <td>7</td>\n",
       "    </tr>\n",
       "    <tr>\n",
       "      <th>37</th>\n",
       "      <td>Kommission für Umwelt, Raumplanung und Energie NR</td>\n",
       "      <td>Grüne Fraktion</td>\n",
       "      <td>4</td>\n",
       "    </tr>\n",
       "    <tr>\n",
       "      <th>38</th>\n",
       "      <td>Kommission für Umwelt, Raumplanung und Energie NR</td>\n",
       "      <td>Grünliberale Fraktion</td>\n",
       "      <td>2</td>\n",
       "    </tr>\n",
       "    <tr>\n",
       "      <th>39</th>\n",
       "      <td>Kommission für Umwelt, Raumplanung und Energie NR</td>\n",
       "      <td>Sozialdemokratische Fraktion</td>\n",
       "      <td>5</td>\n",
       "    </tr>\n",
       "    <tr>\n",
       "      <th>40</th>\n",
       "      <td>Kommission für Wissenschaft, Bildung und Kultu...</td>\n",
       "      <td>Die Mitte-Fraktion. Die Mitte. EVP.</td>\n",
       "      <td>4</td>\n",
       "    </tr>\n",
       "    <tr>\n",
       "      <th>41</th>\n",
       "      <td>Kommission für Wissenschaft, Bildung und Kultu...</td>\n",
       "      <td>FDP-Liberale Fraktion</td>\n",
       "      <td>3</td>\n",
       "    </tr>\n",
       "    <tr>\n",
       "      <th>42</th>\n",
       "      <td>Kommission für Wissenschaft, Bildung und Kultu...</td>\n",
       "      <td>Fraktion der Schweizerischen Volkspartei</td>\n",
       "      <td>7</td>\n",
       "    </tr>\n",
       "    <tr>\n",
       "      <th>43</th>\n",
       "      <td>Kommission für Wissenschaft, Bildung und Kultu...</td>\n",
       "      <td>Grüne Fraktion</td>\n",
       "      <td>4</td>\n",
       "    </tr>\n",
       "    <tr>\n",
       "      <th>44</th>\n",
       "      <td>Kommission für Wissenschaft, Bildung und Kultu...</td>\n",
       "      <td>Grünliberale Fraktion</td>\n",
       "      <td>2</td>\n",
       "    </tr>\n",
       "    <tr>\n",
       "      <th>45</th>\n",
       "      <td>Kommission für Wissenschaft, Bildung und Kultu...</td>\n",
       "      <td>Sozialdemokratische Fraktion</td>\n",
       "      <td>5</td>\n",
       "    </tr>\n",
       "    <tr>\n",
       "      <th>46</th>\n",
       "      <td>Kommission für soziale Sicherheit und Gesundhe...</td>\n",
       "      <td>Die Mitte-Fraktion. Die Mitte. EVP.</td>\n",
       "      <td>4</td>\n",
       "    </tr>\n",
       "    <tr>\n",
       "      <th>47</th>\n",
       "      <td>Kommission für soziale Sicherheit und Gesundhe...</td>\n",
       "      <td>FDP-Liberale Fraktion</td>\n",
       "      <td>4</td>\n",
       "    </tr>\n",
       "    <tr>\n",
       "      <th>48</th>\n",
       "      <td>Kommission für soziale Sicherheit und Gesundhe...</td>\n",
       "      <td>Fraktion der Schweizerischen Volkspartei</td>\n",
       "      <td>7</td>\n",
       "    </tr>\n",
       "    <tr>\n",
       "      <th>49</th>\n",
       "      <td>Kommission für soziale Sicherheit und Gesundhe...</td>\n",
       "      <td>Grüne Fraktion</td>\n",
       "      <td>3</td>\n",
       "    </tr>\n",
       "    <tr>\n",
       "      <th>50</th>\n",
       "      <td>Kommission für soziale Sicherheit und Gesundhe...</td>\n",
       "      <td>Grünliberale Fraktion</td>\n",
       "      <td>2</td>\n",
       "    </tr>\n",
       "    <tr>\n",
       "      <th>51</th>\n",
       "      <td>Kommission für soziale Sicherheit und Gesundhe...</td>\n",
       "      <td>Sozialdemokratische Fraktion</td>\n",
       "      <td>5</td>\n",
       "    </tr>\n",
       "    <tr>\n",
       "      <th>52</th>\n",
       "      <td>Kommission für soziale Sicherheit und Gesundhe...</td>\n",
       "      <td>Die Mitte-Fraktion. Die Mitte. EVP.</td>\n",
       "      <td>4</td>\n",
       "    </tr>\n",
       "    <tr>\n",
       "      <th>53</th>\n",
       "      <td>Kommission für soziale Sicherheit und Gesundhe...</td>\n",
       "      <td>FDP-Liberale Fraktion</td>\n",
       "      <td>3</td>\n",
       "    </tr>\n",
       "    <tr>\n",
       "      <th>54</th>\n",
       "      <td>Kommission für soziale Sicherheit und Gesundhe...</td>\n",
       "      <td>Fraktion der Schweizerischen Volkspartei</td>\n",
       "      <td>2</td>\n",
       "    </tr>\n",
       "    <tr>\n",
       "      <th>55</th>\n",
       "      <td>Kommission für soziale Sicherheit und Gesundhe...</td>\n",
       "      <td>Grüne Fraktion</td>\n",
       "      <td>1</td>\n",
       "    </tr>\n",
       "    <tr>\n",
       "      <th>56</th>\n",
       "      <td>Kommission für soziale Sicherheit und Gesundhe...</td>\n",
       "      <td>Sozialdemokratische Fraktion</td>\n",
       "      <td>3</td>\n",
       "    </tr>\n",
       "    <tr>\n",
       "      <th>57</th>\n",
       "      <td>Staatspolitische Kommission NR</td>\n",
       "      <td>Die Mitte-Fraktion. Die Mitte. EVP.</td>\n",
       "      <td>4</td>\n",
       "    </tr>\n",
       "    <tr>\n",
       "      <th>58</th>\n",
       "      <td>Staatspolitische Kommission NR</td>\n",
       "      <td>FDP-Liberale Fraktion</td>\n",
       "      <td>4</td>\n",
       "    </tr>\n",
       "    <tr>\n",
       "      <th>59</th>\n",
       "      <td>Staatspolitische Kommission NR</td>\n",
       "      <td>Fraktion der Schweizerischen Volkspartei</td>\n",
       "      <td>7</td>\n",
       "    </tr>\n",
       "    <tr>\n",
       "      <th>60</th>\n",
       "      <td>Staatspolitische Kommission NR</td>\n",
       "      <td>Grüne Fraktion</td>\n",
       "      <td>3</td>\n",
       "    </tr>\n",
       "    <tr>\n",
       "      <th>61</th>\n",
       "      <td>Staatspolitische Kommission NR</td>\n",
       "      <td>Grünliberale Fraktion</td>\n",
       "      <td>2</td>\n",
       "    </tr>\n",
       "    <tr>\n",
       "      <th>62</th>\n",
       "      <td>Staatspolitische Kommission NR</td>\n",
       "      <td>Sozialdemokratische Fraktion</td>\n",
       "      <td>5</td>\n",
       "    </tr>\n",
       "  </tbody>\n",
       "</table>\n",
       "</div>"
      ],
      "text/plain": [
       "                                            committee  \\\n",
       "0                      Aussenpolitische Kommission NR   \n",
       "1                      Aussenpolitische Kommission NR   \n",
       "2                      Aussenpolitische Kommission NR   \n",
       "3                      Aussenpolitische Kommission NR   \n",
       "4                      Aussenpolitische Kommission NR   \n",
       "5                      Aussenpolitische Kommission NR   \n",
       "6                                             Büro NR   \n",
       "7                                             Büro NR   \n",
       "8                                             Büro NR   \n",
       "9                                             Büro NR   \n",
       "10                                            Büro NR   \n",
       "11                                            Büro NR   \n",
       "12                                Finanzkommission NR   \n",
       "13                                Finanzkommission NR   \n",
       "14                                Finanzkommission NR   \n",
       "15                                Finanzkommission NR   \n",
       "16                                Finanzkommission NR   \n",
       "17                                Finanzkommission NR   \n",
       "18                                Finanzkommission SR   \n",
       "19                                Finanzkommission SR   \n",
       "20                                Finanzkommission SR   \n",
       "21                                Finanzkommission SR   \n",
       "22                                Finanzkommission SR   \n",
       "23                     Geschäftsprüfungskommission NR   \n",
       "24                     Geschäftsprüfungskommission NR   \n",
       "25                     Geschäftsprüfungskommission NR   \n",
       "26                     Geschäftsprüfungskommission NR   \n",
       "27                     Geschäftsprüfungskommission NR   \n",
       "28                     Geschäftsprüfungskommission NR   \n",
       "29                     Geschäftsprüfungskommission SR   \n",
       "30                     Geschäftsprüfungskommission SR   \n",
       "31                     Geschäftsprüfungskommission SR   \n",
       "32                     Geschäftsprüfungskommission SR   \n",
       "33                     Geschäftsprüfungskommission SR   \n",
       "34  Kommission für Umwelt, Raumplanung und Energie NR   \n",
       "35  Kommission für Umwelt, Raumplanung und Energie NR   \n",
       "36  Kommission für Umwelt, Raumplanung und Energie NR   \n",
       "37  Kommission für Umwelt, Raumplanung und Energie NR   \n",
       "38  Kommission für Umwelt, Raumplanung und Energie NR   \n",
       "39  Kommission für Umwelt, Raumplanung und Energie NR   \n",
       "40  Kommission für Wissenschaft, Bildung und Kultu...   \n",
       "41  Kommission für Wissenschaft, Bildung und Kultu...   \n",
       "42  Kommission für Wissenschaft, Bildung und Kultu...   \n",
       "43  Kommission für Wissenschaft, Bildung und Kultu...   \n",
       "44  Kommission für Wissenschaft, Bildung und Kultu...   \n",
       "45  Kommission für Wissenschaft, Bildung und Kultu...   \n",
       "46  Kommission für soziale Sicherheit und Gesundhe...   \n",
       "47  Kommission für soziale Sicherheit und Gesundhe...   \n",
       "48  Kommission für soziale Sicherheit und Gesundhe...   \n",
       "49  Kommission für soziale Sicherheit und Gesundhe...   \n",
       "50  Kommission für soziale Sicherheit und Gesundhe...   \n",
       "51  Kommission für soziale Sicherheit und Gesundhe...   \n",
       "52  Kommission für soziale Sicherheit und Gesundhe...   \n",
       "53  Kommission für soziale Sicherheit und Gesundhe...   \n",
       "54  Kommission für soziale Sicherheit und Gesundhe...   \n",
       "55  Kommission für soziale Sicherheit und Gesundhe...   \n",
       "56  Kommission für soziale Sicherheit und Gesundhe...   \n",
       "57                     Staatspolitische Kommission NR   \n",
       "58                     Staatspolitische Kommission NR   \n",
       "59                     Staatspolitische Kommission NR   \n",
       "60                     Staatspolitische Kommission NR   \n",
       "61                     Staatspolitische Kommission NR   \n",
       "62                     Staatspolitische Kommission NR   \n",
       "\n",
       "                                     faction  members  \n",
       "0        Die Mitte-Fraktion. Die Mitte. EVP.        4  \n",
       "1                      FDP-Liberale Fraktion        4  \n",
       "2   Fraktion der Schweizerischen Volkspartei        6  \n",
       "3                             Grüne Fraktion        4  \n",
       "4                      Grünliberale Fraktion        2  \n",
       "5               Sozialdemokratische Fraktion        5  \n",
       "6        Die Mitte-Fraktion. Die Mitte. EVP.        4  \n",
       "7                      FDP-Liberale Fraktion        1  \n",
       "8   Fraktion der Schweizerischen Volkspartei        3  \n",
       "9                             Grüne Fraktion        4  \n",
       "10                     Grünliberale Fraktion        1  \n",
       "11              Sozialdemokratische Fraktion        4  \n",
       "12       Die Mitte-Fraktion. Die Mitte. EVP.        3  \n",
       "13                     FDP-Liberale Fraktion        4  \n",
       "14  Fraktion der Schweizerischen Volkspartei        7  \n",
       "15                            Grüne Fraktion        4  \n",
       "16                     Grünliberale Fraktion        2  \n",
       "17              Sozialdemokratische Fraktion        5  \n",
       "18       Die Mitte-Fraktion. Die Mitte. EVP.        4  \n",
       "19                     FDP-Liberale Fraktion        3  \n",
       "20  Fraktion der Schweizerischen Volkspartei        2  \n",
       "21                            Grüne Fraktion        1  \n",
       "22              Sozialdemokratische Fraktion        3  \n",
       "23       Die Mitte-Fraktion. Die Mitte. EVP.        4  \n",
       "24                     FDP-Liberale Fraktion        3  \n",
       "25  Fraktion der Schweizerischen Volkspartei        7  \n",
       "26                            Grüne Fraktion        4  \n",
       "27                     Grünliberale Fraktion        2  \n",
       "28              Sozialdemokratische Fraktion        5  \n",
       "29       Die Mitte-Fraktion. Die Mitte. EVP.        4  \n",
       "30                     FDP-Liberale Fraktion        3  \n",
       "31  Fraktion der Schweizerischen Volkspartei        2  \n",
       "32                            Grüne Fraktion        1  \n",
       "33              Sozialdemokratische Fraktion        3  \n",
       "34       Die Mitte-Fraktion. Die Mitte. EVP.        4  \n",
       "35                     FDP-Liberale Fraktion        3  \n",
       "36  Fraktion der Schweizerischen Volkspartei        7  \n",
       "37                            Grüne Fraktion        4  \n",
       "38                     Grünliberale Fraktion        2  \n",
       "39              Sozialdemokratische Fraktion        5  \n",
       "40       Die Mitte-Fraktion. Die Mitte. EVP.        4  \n",
       "41                     FDP-Liberale Fraktion        3  \n",
       "42  Fraktion der Schweizerischen Volkspartei        7  \n",
       "43                            Grüne Fraktion        4  \n",
       "44                     Grünliberale Fraktion        2  \n",
       "45              Sozialdemokratische Fraktion        5  \n",
       "46       Die Mitte-Fraktion. Die Mitte. EVP.        4  \n",
       "47                     FDP-Liberale Fraktion        4  \n",
       "48  Fraktion der Schweizerischen Volkspartei        7  \n",
       "49                            Grüne Fraktion        3  \n",
       "50                     Grünliberale Fraktion        2  \n",
       "51              Sozialdemokratische Fraktion        5  \n",
       "52       Die Mitte-Fraktion. Die Mitte. EVP.        4  \n",
       "53                     FDP-Liberale Fraktion        3  \n",
       "54  Fraktion der Schweizerischen Volkspartei        2  \n",
       "55                            Grüne Fraktion        1  \n",
       "56              Sozialdemokratische Fraktion        3  \n",
       "57       Die Mitte-Fraktion. Die Mitte. EVP.        4  \n",
       "58                     FDP-Liberale Fraktion        4  \n",
       "59  Fraktion der Schweizerischen Volkspartei        7  \n",
       "60                            Grüne Fraktion        3  \n",
       "61                     Grünliberale Fraktion        2  \n",
       "62              Sozialdemokratische Fraktion        5  "
      ]
     },
     "execution_count": 38,
     "metadata": {},
     "output_type": "execute_result"
    }
   ],
   "source": [
    "# https://s.zazuko.com/eNjwuw\n",
    "\n",
    "query = \"\"\"\n",
    "SELECT ?committee ?faction (COUNT(?mep) AS ?members)\n",
    "FROM <https://lindas.admin.ch/fch/curia>\n",
    "FROM <https://lindas.admin.ch/fch/rvov>\n",
    "\n",
    "WHERE {\n",
    "\n",
    "\t?mep a schema:Person;\n",
    "         schema:memberOf/schema:memberOf <https://politics.ld.admin.ch/council/UFA>;\n",
    "                        schema:memberOf ?role_committee;\n",
    "                        schema:memberOf ?role_faction.\n",
    "  \n",
    "   FILTER NOT EXISTS { ?role_faction schema:endDate ?end }\n",
    "  \n",
    "   ?role_faction schema:memberOf ?_faction.\n",
    "   ?_faction a <http://schema.org/ParliamentaryGroup>;\n",
    "             schema:name ?faction.\n",
    "  \n",
    "   ?role_committee schema:memberOf ?_committee.\n",
    "   ?_committee a schema:ParliamentaryCommittee;\n",
    "             schema:additionalType schema:MainCommittee;\n",
    "             schema:name ?committee.\n",
    "  \n",
    "   FILTER (lang(?committee) = 'de')\n",
    "   FILTER (lang(?faction) = 'de')\n",
    "}\n",
    "GROUP BY ?committee ?faction\n",
    "ORDER BY ?committee ?faction DESC (?members)\n",
    "\"\"\"\n",
    "\n",
    "df = sparql.send_query(query)\n",
    "df"
   ]
  },
  {
   "cell_type": "code",
   "execution_count": 39,
   "id": "5223f35e",
   "metadata": {},
   "outputs": [
    {
     "data": {
      "text/html": [
       "<div>\n",
       "<style scoped>\n",
       "    .dataframe tbody tr th:only-of-type {\n",
       "        vertical-align: middle;\n",
       "    }\n",
       "\n",
       "    .dataframe tbody tr th {\n",
       "        vertical-align: top;\n",
       "    }\n",
       "\n",
       "    .dataframe thead th {\n",
       "        text-align: right;\n",
       "    }\n",
       "</style>\n",
       "<table border=\"1\" class=\"dataframe\">\n",
       "  <thead>\n",
       "    <tr style=\"text-align: right;\">\n",
       "      <th></th>\n",
       "      <th>committee</th>\n",
       "      <th>faction</th>\n",
       "      <th>members</th>\n",
       "    </tr>\n",
       "  </thead>\n",
       "  <tbody>\n",
       "    <tr>\n",
       "      <th>0</th>\n",
       "      <td>Aussenpolitische Kommission NR</td>\n",
       "      <td>Die Mitte-Fraktion. Die Mitte. EVP.</td>\n",
       "      <td>4</td>\n",
       "    </tr>\n",
       "    <tr>\n",
       "      <th>1</th>\n",
       "      <td>Aussenpolitische Kommission NR</td>\n",
       "      <td>FDP-Liberale Fraktion</td>\n",
       "      <td>4</td>\n",
       "    </tr>\n",
       "    <tr>\n",
       "      <th>2</th>\n",
       "      <td>Aussenpolitische Kommission NR</td>\n",
       "      <td>Fraktion der Schweizerischen Volkspartei</td>\n",
       "      <td>6</td>\n",
       "    </tr>\n",
       "    <tr>\n",
       "      <th>3</th>\n",
       "      <td>Aussenpolitische Kommission NR</td>\n",
       "      <td>Grüne Fraktion</td>\n",
       "      <td>4</td>\n",
       "    </tr>\n",
       "    <tr>\n",
       "      <th>4</th>\n",
       "      <td>Aussenpolitische Kommission NR</td>\n",
       "      <td>Grünliberale Fraktion</td>\n",
       "      <td>2</td>\n",
       "    </tr>\n",
       "    <tr>\n",
       "      <th>5</th>\n",
       "      <td>Aussenpolitische Kommission NR</td>\n",
       "      <td>Sozialdemokratische Fraktion</td>\n",
       "      <td>5</td>\n",
       "    </tr>\n",
       "    <tr>\n",
       "      <th>6</th>\n",
       "      <td>Büro NR</td>\n",
       "      <td>Die Mitte-Fraktion. Die Mitte. EVP.</td>\n",
       "      <td>4</td>\n",
       "    </tr>\n",
       "    <tr>\n",
       "      <th>7</th>\n",
       "      <td>Büro NR</td>\n",
       "      <td>FDP-Liberale Fraktion</td>\n",
       "      <td>1</td>\n",
       "    </tr>\n",
       "    <tr>\n",
       "      <th>8</th>\n",
       "      <td>Büro NR</td>\n",
       "      <td>Fraktion der Schweizerischen Volkspartei</td>\n",
       "      <td>3</td>\n",
       "    </tr>\n",
       "    <tr>\n",
       "      <th>9</th>\n",
       "      <td>Büro NR</td>\n",
       "      <td>Grüne Fraktion</td>\n",
       "      <td>4</td>\n",
       "    </tr>\n",
       "    <tr>\n",
       "      <th>10</th>\n",
       "      <td>Büro NR</td>\n",
       "      <td>Grünliberale Fraktion</td>\n",
       "      <td>1</td>\n",
       "    </tr>\n",
       "    <tr>\n",
       "      <th>11</th>\n",
       "      <td>Büro NR</td>\n",
       "      <td>Sozialdemokratische Fraktion</td>\n",
       "      <td>4</td>\n",
       "    </tr>\n",
       "    <tr>\n",
       "      <th>12</th>\n",
       "      <td>Finanzkommissionen</td>\n",
       "      <td>Die Mitte-Fraktion. Die Mitte. EVP.</td>\n",
       "      <td>3</td>\n",
       "    </tr>\n",
       "    <tr>\n",
       "      <th>13</th>\n",
       "      <td>Finanzkommissionen</td>\n",
       "      <td>FDP-Liberale Fraktion</td>\n",
       "      <td>4</td>\n",
       "    </tr>\n",
       "    <tr>\n",
       "      <th>14</th>\n",
       "      <td>Finanzkommissionen</td>\n",
       "      <td>Fraktion der Schweizerischen Volkspartei</td>\n",
       "      <td>7</td>\n",
       "    </tr>\n",
       "    <tr>\n",
       "      <th>15</th>\n",
       "      <td>Finanzkommissionen</td>\n",
       "      <td>Grüne Fraktion</td>\n",
       "      <td>4</td>\n",
       "    </tr>\n",
       "    <tr>\n",
       "      <th>16</th>\n",
       "      <td>Finanzkommissionen</td>\n",
       "      <td>Grünliberale Fraktion</td>\n",
       "      <td>2</td>\n",
       "    </tr>\n",
       "    <tr>\n",
       "      <th>17</th>\n",
       "      <td>Finanzkommissionen</td>\n",
       "      <td>Sozialdemokratische Fraktion</td>\n",
       "      <td>5</td>\n",
       "    </tr>\n",
       "    <tr>\n",
       "      <th>18</th>\n",
       "      <td>Finanzkommissionen</td>\n",
       "      <td>Die Mitte-Fraktion. Die Mitte. EVP.</td>\n",
       "      <td>4</td>\n",
       "    </tr>\n",
       "    <tr>\n",
       "      <th>19</th>\n",
       "      <td>Finanzkommissionen</td>\n",
       "      <td>FDP-Liberale Fraktion</td>\n",
       "      <td>3</td>\n",
       "    </tr>\n",
       "    <tr>\n",
       "      <th>20</th>\n",
       "      <td>Finanzkommissionen</td>\n",
       "      <td>Fraktion der Schweizerischen Volkspartei</td>\n",
       "      <td>2</td>\n",
       "    </tr>\n",
       "    <tr>\n",
       "      <th>21</th>\n",
       "      <td>Finanzkommissionen</td>\n",
       "      <td>Grüne Fraktion</td>\n",
       "      <td>1</td>\n",
       "    </tr>\n",
       "    <tr>\n",
       "      <th>22</th>\n",
       "      <td>Finanzkommissionen</td>\n",
       "      <td>Sozialdemokratische Fraktion</td>\n",
       "      <td>3</td>\n",
       "    </tr>\n",
       "    <tr>\n",
       "      <th>23</th>\n",
       "      <td>Geschäftsprüfungskommission NR</td>\n",
       "      <td>Die Mitte-Fraktion. Die Mitte. EVP.</td>\n",
       "      <td>4</td>\n",
       "    </tr>\n",
       "    <tr>\n",
       "      <th>24</th>\n",
       "      <td>Geschäftsprüfungskommission NR</td>\n",
       "      <td>FDP-Liberale Fraktion</td>\n",
       "      <td>3</td>\n",
       "    </tr>\n",
       "    <tr>\n",
       "      <th>25</th>\n",
       "      <td>Geschäftsprüfungskommission NR</td>\n",
       "      <td>Fraktion der Schweizerischen Volkspartei</td>\n",
       "      <td>7</td>\n",
       "    </tr>\n",
       "    <tr>\n",
       "      <th>26</th>\n",
       "      <td>Geschäftsprüfungskommission NR</td>\n",
       "      <td>Grüne Fraktion</td>\n",
       "      <td>4</td>\n",
       "    </tr>\n",
       "    <tr>\n",
       "      <th>27</th>\n",
       "      <td>Geschäftsprüfungskommission NR</td>\n",
       "      <td>Grünliberale Fraktion</td>\n",
       "      <td>2</td>\n",
       "    </tr>\n",
       "    <tr>\n",
       "      <th>28</th>\n",
       "      <td>Geschäftsprüfungskommission NR</td>\n",
       "      <td>Sozialdemokratische Fraktion</td>\n",
       "      <td>5</td>\n",
       "    </tr>\n",
       "    <tr>\n",
       "      <th>29</th>\n",
       "      <td>Geschäftsprüfungskommission SR</td>\n",
       "      <td>Die Mitte-Fraktion. Die Mitte. EVP.</td>\n",
       "      <td>4</td>\n",
       "    </tr>\n",
       "    <tr>\n",
       "      <th>30</th>\n",
       "      <td>Geschäftsprüfungskommission SR</td>\n",
       "      <td>FDP-Liberale Fraktion</td>\n",
       "      <td>3</td>\n",
       "    </tr>\n",
       "    <tr>\n",
       "      <th>31</th>\n",
       "      <td>Geschäftsprüfungskommission SR</td>\n",
       "      <td>Fraktion der Schweizerischen Volkspartei</td>\n",
       "      <td>2</td>\n",
       "    </tr>\n",
       "    <tr>\n",
       "      <th>32</th>\n",
       "      <td>Geschäftsprüfungskommission SR</td>\n",
       "      <td>Grüne Fraktion</td>\n",
       "      <td>1</td>\n",
       "    </tr>\n",
       "    <tr>\n",
       "      <th>33</th>\n",
       "      <td>Geschäftsprüfungskommission SR</td>\n",
       "      <td>Sozialdemokratische Fraktion</td>\n",
       "      <td>3</td>\n",
       "    </tr>\n",
       "    <tr>\n",
       "      <th>34</th>\n",
       "      <td>Kommission für Umwelt, Raumplanung und Energie NR</td>\n",
       "      <td>Die Mitte-Fraktion. Die Mitte. EVP.</td>\n",
       "      <td>4</td>\n",
       "    </tr>\n",
       "    <tr>\n",
       "      <th>35</th>\n",
       "      <td>Kommission für Umwelt, Raumplanung und Energie NR</td>\n",
       "      <td>FDP-Liberale Fraktion</td>\n",
       "      <td>3</td>\n",
       "    </tr>\n",
       "    <tr>\n",
       "      <th>36</th>\n",
       "      <td>Kommission für Umwelt, Raumplanung und Energie NR</td>\n",
       "      <td>Fraktion der Schweizerischen Volkspartei</td>\n",
       "      <td>7</td>\n",
       "    </tr>\n",
       "    <tr>\n",
       "      <th>37</th>\n",
       "      <td>Kommission für Umwelt, Raumplanung und Energie NR</td>\n",
       "      <td>Grüne Fraktion</td>\n",
       "      <td>4</td>\n",
       "    </tr>\n",
       "    <tr>\n",
       "      <th>38</th>\n",
       "      <td>Kommission für Umwelt, Raumplanung und Energie NR</td>\n",
       "      <td>Grünliberale Fraktion</td>\n",
       "      <td>2</td>\n",
       "    </tr>\n",
       "    <tr>\n",
       "      <th>39</th>\n",
       "      <td>Kommission für Umwelt, Raumplanung und Energie NR</td>\n",
       "      <td>Sozialdemokratische Fraktion</td>\n",
       "      <td>5</td>\n",
       "    </tr>\n",
       "    <tr>\n",
       "      <th>40</th>\n",
       "      <td>Kommission für Wissenschaft, Bildung und Kultu...</td>\n",
       "      <td>Die Mitte-Fraktion. Die Mitte. EVP.</td>\n",
       "      <td>4</td>\n",
       "    </tr>\n",
       "    <tr>\n",
       "      <th>41</th>\n",
       "      <td>Kommission für Wissenschaft, Bildung und Kultu...</td>\n",
       "      <td>FDP-Liberale Fraktion</td>\n",
       "      <td>3</td>\n",
       "    </tr>\n",
       "    <tr>\n",
       "      <th>42</th>\n",
       "      <td>Kommission für Wissenschaft, Bildung und Kultu...</td>\n",
       "      <td>Fraktion der Schweizerischen Volkspartei</td>\n",
       "      <td>7</td>\n",
       "    </tr>\n",
       "    <tr>\n",
       "      <th>43</th>\n",
       "      <td>Kommission für Wissenschaft, Bildung und Kultu...</td>\n",
       "      <td>Grüne Fraktion</td>\n",
       "      <td>4</td>\n",
       "    </tr>\n",
       "    <tr>\n",
       "      <th>44</th>\n",
       "      <td>Kommission für Wissenschaft, Bildung und Kultu...</td>\n",
       "      <td>Grünliberale Fraktion</td>\n",
       "      <td>2</td>\n",
       "    </tr>\n",
       "    <tr>\n",
       "      <th>45</th>\n",
       "      <td>Kommission für Wissenschaft, Bildung und Kultu...</td>\n",
       "      <td>Sozialdemokratische Fraktion</td>\n",
       "      <td>5</td>\n",
       "    </tr>\n",
       "    <tr>\n",
       "      <th>46</th>\n",
       "      <td>Kommission für soziale Sicherheit und Gesundhe...</td>\n",
       "      <td>Die Mitte-Fraktion. Die Mitte. EVP.</td>\n",
       "      <td>4</td>\n",
       "    </tr>\n",
       "    <tr>\n",
       "      <th>47</th>\n",
       "      <td>Kommission für soziale Sicherheit und Gesundhe...</td>\n",
       "      <td>FDP-Liberale Fraktion</td>\n",
       "      <td>4</td>\n",
       "    </tr>\n",
       "    <tr>\n",
       "      <th>48</th>\n",
       "      <td>Kommission für soziale Sicherheit und Gesundhe...</td>\n",
       "      <td>Fraktion der Schweizerischen Volkspartei</td>\n",
       "      <td>7</td>\n",
       "    </tr>\n",
       "    <tr>\n",
       "      <th>49</th>\n",
       "      <td>Kommission für soziale Sicherheit und Gesundhe...</td>\n",
       "      <td>Grüne Fraktion</td>\n",
       "      <td>3</td>\n",
       "    </tr>\n",
       "    <tr>\n",
       "      <th>50</th>\n",
       "      <td>Kommission für soziale Sicherheit und Gesundhe...</td>\n",
       "      <td>Grünliberale Fraktion</td>\n",
       "      <td>2</td>\n",
       "    </tr>\n",
       "    <tr>\n",
       "      <th>51</th>\n",
       "      <td>Kommission für soziale Sicherheit und Gesundhe...</td>\n",
       "      <td>Sozialdemokratische Fraktion</td>\n",
       "      <td>5</td>\n",
       "    </tr>\n",
       "    <tr>\n",
       "      <th>52</th>\n",
       "      <td>Kommission für soziale Sicherheit und Gesundhe...</td>\n",
       "      <td>Die Mitte-Fraktion. Die Mitte. EVP.</td>\n",
       "      <td>4</td>\n",
       "    </tr>\n",
       "    <tr>\n",
       "      <th>53</th>\n",
       "      <td>Kommission für soziale Sicherheit und Gesundhe...</td>\n",
       "      <td>FDP-Liberale Fraktion</td>\n",
       "      <td>3</td>\n",
       "    </tr>\n",
       "    <tr>\n",
       "      <th>54</th>\n",
       "      <td>Kommission für soziale Sicherheit und Gesundhe...</td>\n",
       "      <td>Fraktion der Schweizerischen Volkspartei</td>\n",
       "      <td>2</td>\n",
       "    </tr>\n",
       "    <tr>\n",
       "      <th>55</th>\n",
       "      <td>Kommission für soziale Sicherheit und Gesundhe...</td>\n",
       "      <td>Grüne Fraktion</td>\n",
       "      <td>1</td>\n",
       "    </tr>\n",
       "    <tr>\n",
       "      <th>56</th>\n",
       "      <td>Kommission für soziale Sicherheit und Gesundhe...</td>\n",
       "      <td>Sozialdemokratische Fraktion</td>\n",
       "      <td>3</td>\n",
       "    </tr>\n",
       "    <tr>\n",
       "      <th>57</th>\n",
       "      <td>Staatspolitische Kommission NR</td>\n",
       "      <td>Die Mitte-Fraktion. Die Mitte. EVP.</td>\n",
       "      <td>4</td>\n",
       "    </tr>\n",
       "    <tr>\n",
       "      <th>58</th>\n",
       "      <td>Staatspolitische Kommission NR</td>\n",
       "      <td>FDP-Liberale Fraktion</td>\n",
       "      <td>4</td>\n",
       "    </tr>\n",
       "    <tr>\n",
       "      <th>59</th>\n",
       "      <td>Staatspolitische Kommission NR</td>\n",
       "      <td>Fraktion der Schweizerischen Volkspartei</td>\n",
       "      <td>7</td>\n",
       "    </tr>\n",
       "    <tr>\n",
       "      <th>60</th>\n",
       "      <td>Staatspolitische Kommission NR</td>\n",
       "      <td>Grüne Fraktion</td>\n",
       "      <td>3</td>\n",
       "    </tr>\n",
       "    <tr>\n",
       "      <th>61</th>\n",
       "      <td>Staatspolitische Kommission NR</td>\n",
       "      <td>Grünliberale Fraktion</td>\n",
       "      <td>2</td>\n",
       "    </tr>\n",
       "    <tr>\n",
       "      <th>62</th>\n",
       "      <td>Staatspolitische Kommission NR</td>\n",
       "      <td>Sozialdemokratische Fraktion</td>\n",
       "      <td>5</td>\n",
       "    </tr>\n",
       "  </tbody>\n",
       "</table>\n",
       "</div>"
      ],
      "text/plain": [
       "                                            committee  \\\n",
       "0                      Aussenpolitische Kommission NR   \n",
       "1                      Aussenpolitische Kommission NR   \n",
       "2                      Aussenpolitische Kommission NR   \n",
       "3                      Aussenpolitische Kommission NR   \n",
       "4                      Aussenpolitische Kommission NR   \n",
       "5                      Aussenpolitische Kommission NR   \n",
       "6                                             Büro NR   \n",
       "7                                             Büro NR   \n",
       "8                                             Büro NR   \n",
       "9                                             Büro NR   \n",
       "10                                            Büro NR   \n",
       "11                                            Büro NR   \n",
       "12                                 Finanzkommissionen   \n",
       "13                                 Finanzkommissionen   \n",
       "14                                 Finanzkommissionen   \n",
       "15                                 Finanzkommissionen   \n",
       "16                                 Finanzkommissionen   \n",
       "17                                 Finanzkommissionen   \n",
       "18                                 Finanzkommissionen   \n",
       "19                                 Finanzkommissionen   \n",
       "20                                 Finanzkommissionen   \n",
       "21                                 Finanzkommissionen   \n",
       "22                                 Finanzkommissionen   \n",
       "23                     Geschäftsprüfungskommission NR   \n",
       "24                     Geschäftsprüfungskommission NR   \n",
       "25                     Geschäftsprüfungskommission NR   \n",
       "26                     Geschäftsprüfungskommission NR   \n",
       "27                     Geschäftsprüfungskommission NR   \n",
       "28                     Geschäftsprüfungskommission NR   \n",
       "29                     Geschäftsprüfungskommission SR   \n",
       "30                     Geschäftsprüfungskommission SR   \n",
       "31                     Geschäftsprüfungskommission SR   \n",
       "32                     Geschäftsprüfungskommission SR   \n",
       "33                     Geschäftsprüfungskommission SR   \n",
       "34  Kommission für Umwelt, Raumplanung und Energie NR   \n",
       "35  Kommission für Umwelt, Raumplanung und Energie NR   \n",
       "36  Kommission für Umwelt, Raumplanung und Energie NR   \n",
       "37  Kommission für Umwelt, Raumplanung und Energie NR   \n",
       "38  Kommission für Umwelt, Raumplanung und Energie NR   \n",
       "39  Kommission für Umwelt, Raumplanung und Energie NR   \n",
       "40  Kommission für Wissenschaft, Bildung und Kultu...   \n",
       "41  Kommission für Wissenschaft, Bildung und Kultu...   \n",
       "42  Kommission für Wissenschaft, Bildung und Kultu...   \n",
       "43  Kommission für Wissenschaft, Bildung und Kultu...   \n",
       "44  Kommission für Wissenschaft, Bildung und Kultu...   \n",
       "45  Kommission für Wissenschaft, Bildung und Kultu...   \n",
       "46  Kommission für soziale Sicherheit und Gesundhe...   \n",
       "47  Kommission für soziale Sicherheit und Gesundhe...   \n",
       "48  Kommission für soziale Sicherheit und Gesundhe...   \n",
       "49  Kommission für soziale Sicherheit und Gesundhe...   \n",
       "50  Kommission für soziale Sicherheit und Gesundhe...   \n",
       "51  Kommission für soziale Sicherheit und Gesundhe...   \n",
       "52  Kommission für soziale Sicherheit und Gesundhe...   \n",
       "53  Kommission für soziale Sicherheit und Gesundhe...   \n",
       "54  Kommission für soziale Sicherheit und Gesundhe...   \n",
       "55  Kommission für soziale Sicherheit und Gesundhe...   \n",
       "56  Kommission für soziale Sicherheit und Gesundhe...   \n",
       "57                     Staatspolitische Kommission NR   \n",
       "58                     Staatspolitische Kommission NR   \n",
       "59                     Staatspolitische Kommission NR   \n",
       "60                     Staatspolitische Kommission NR   \n",
       "61                     Staatspolitische Kommission NR   \n",
       "62                     Staatspolitische Kommission NR   \n",
       "\n",
       "                                     faction  members  \n",
       "0        Die Mitte-Fraktion. Die Mitte. EVP.        4  \n",
       "1                      FDP-Liberale Fraktion        4  \n",
       "2   Fraktion der Schweizerischen Volkspartei        6  \n",
       "3                             Grüne Fraktion        4  \n",
       "4                      Grünliberale Fraktion        2  \n",
       "5               Sozialdemokratische Fraktion        5  \n",
       "6        Die Mitte-Fraktion. Die Mitte. EVP.        4  \n",
       "7                      FDP-Liberale Fraktion        1  \n",
       "8   Fraktion der Schweizerischen Volkspartei        3  \n",
       "9                             Grüne Fraktion        4  \n",
       "10                     Grünliberale Fraktion        1  \n",
       "11              Sozialdemokratische Fraktion        4  \n",
       "12       Die Mitte-Fraktion. Die Mitte. EVP.        3  \n",
       "13                     FDP-Liberale Fraktion        4  \n",
       "14  Fraktion der Schweizerischen Volkspartei        7  \n",
       "15                            Grüne Fraktion        4  \n",
       "16                     Grünliberale Fraktion        2  \n",
       "17              Sozialdemokratische Fraktion        5  \n",
       "18       Die Mitte-Fraktion. Die Mitte. EVP.        4  \n",
       "19                     FDP-Liberale Fraktion        3  \n",
       "20  Fraktion der Schweizerischen Volkspartei        2  \n",
       "21                            Grüne Fraktion        1  \n",
       "22              Sozialdemokratische Fraktion        3  \n",
       "23       Die Mitte-Fraktion. Die Mitte. EVP.        4  \n",
       "24                     FDP-Liberale Fraktion        3  \n",
       "25  Fraktion der Schweizerischen Volkspartei        7  \n",
       "26                            Grüne Fraktion        4  \n",
       "27                     Grünliberale Fraktion        2  \n",
       "28              Sozialdemokratische Fraktion        5  \n",
       "29       Die Mitte-Fraktion. Die Mitte. EVP.        4  \n",
       "30                     FDP-Liberale Fraktion        3  \n",
       "31  Fraktion der Schweizerischen Volkspartei        2  \n",
       "32                            Grüne Fraktion        1  \n",
       "33              Sozialdemokratische Fraktion        3  \n",
       "34       Die Mitte-Fraktion. Die Mitte. EVP.        4  \n",
       "35                     FDP-Liberale Fraktion        3  \n",
       "36  Fraktion der Schweizerischen Volkspartei        7  \n",
       "37                            Grüne Fraktion        4  \n",
       "38                     Grünliberale Fraktion        2  \n",
       "39              Sozialdemokratische Fraktion        5  \n",
       "40       Die Mitte-Fraktion. Die Mitte. EVP.        4  \n",
       "41                     FDP-Liberale Fraktion        3  \n",
       "42  Fraktion der Schweizerischen Volkspartei        7  \n",
       "43                            Grüne Fraktion        4  \n",
       "44                     Grünliberale Fraktion        2  \n",
       "45              Sozialdemokratische Fraktion        5  \n",
       "46       Die Mitte-Fraktion. Die Mitte. EVP.        4  \n",
       "47                     FDP-Liberale Fraktion        4  \n",
       "48  Fraktion der Schweizerischen Volkspartei        7  \n",
       "49                            Grüne Fraktion        3  \n",
       "50                     Grünliberale Fraktion        2  \n",
       "51              Sozialdemokratische Fraktion        5  \n",
       "52       Die Mitte-Fraktion. Die Mitte. EVP.        4  \n",
       "53                     FDP-Liberale Fraktion        3  \n",
       "54  Fraktion der Schweizerischen Volkspartei        2  \n",
       "55                            Grüne Fraktion        1  \n",
       "56              Sozialdemokratische Fraktion        3  \n",
       "57       Die Mitte-Fraktion. Die Mitte. EVP.        4  \n",
       "58                     FDP-Liberale Fraktion        4  \n",
       "59  Fraktion der Schweizerischen Volkspartei        7  \n",
       "60                            Grüne Fraktion        3  \n",
       "61                     Grünliberale Fraktion        2  \n",
       "62              Sozialdemokratische Fraktion        5  "
      ]
     },
     "execution_count": 39,
     "metadata": {},
     "output_type": "execute_result"
    }
   ],
   "source": [
    "mapping = {\"Finanzkommission NR\": \"Finanzkommissionen\",\n",
    "\"Finanzkommission SR\": \"Finanzkommissionen\",\n",
    "\"Geschäftsprüfungskommission NR\": \"Geschäftsprüfungskommissionen\",\n",
    "\"Geschäftsprüfungskommission SR\": \"Geschäftsprüfungskommissionen\",\n",
    "\"Kommission für soziale Sicherheit und Gesundheit NR\": \"Kommissionen für soziale Sicherheit und Gesundheit\",\n",
    "\"Kommission für soziale Sicherheit und Gesundheit SR\": \"Kommissionen für soziale Sicherheit und Gesundheit\"}\n",
    "\n",
    "df.replace(mapping)"
   ]
  }
 ],
 "metadata": {
  "kernelspec": {
   "display_name": "Python 3.9.0 ('venv': venv)",
   "language": "python",
   "name": "python3"
  },
  "language_info": {
   "codemirror_mode": {
    "name": "ipython",
    "version": 3
   },
   "file_extension": ".py",
   "mimetype": "text/x-python",
   "name": "python",
   "nbconvert_exporter": "python",
   "pygments_lexer": "ipython3",
   "version": "3.9.0"
  },
  "vscode": {
   "interpreter": {
    "hash": "52612798f5eced5fbe3f58e9481faf8401bf1ada0bff399e6095e3d5ee493763"
   }
  }
 },
 "nbformat": 4,
 "nbformat_minor": 5
}

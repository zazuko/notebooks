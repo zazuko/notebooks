{
 "cells": [
  {
   "cell_type": "markdown",
   "id": "81108783",
   "metadata": {},
   "source": [
    "<div class=\"notebook-buttons\" style=\"display:flex; padding-top: 5rem;padding-bottom: 2.5rem;line-height: 2.15;\">\n",
    "    <a href=\"https://colab.research.google.com/github/zazuko/notebooks/blob/master/notebooks/animal_disease/epidemics.ipynb\">\n",
    "        <div id=\"colab-link\" style=\"display: flex;padding-right: 3.5rem;padding-bottom: 0.625rem;border-bottom: 1px solid #ececed; align-items: center;\">\n",
    "            <img class=\"call-to-action-img\" src=\"img//colab.svg\" width=\"30\" height=\"30\" style=\"margin-right: 10px;margin-top: auto;margin-bottom: auto;\">\n",
    "            <div class=\"call-to-action-txt\">Run in Google Colab</div>\n",
    "        </div>\n",
    "    </a>\n",
    "    <a href=\"https://raw.githubusercontent.com/zazuko/notebooks/master/notebooks/animal_disease/epidemics.ipynb\" download>\n",
    "        <div id=\"download-link\" style=\"display: flex;padding-right: 3.5rem;padding-bottom: 0.625rem;border-bottom: 1px solid #ececed; height: auto;align-items: center;\">\n",
    "            <img class=\"call-to-action-img\" src=\"img//download.svg\" width=\"22\" height=\"30\" style=\"margin-right: 10px;margin-top: auto;margin-bottom: auto;\">\n",
    "            <div class=\"call-to-action-txt\">Download Notebook</div>\n",
    "        </div>\n",
    "    </a>\n",
    "    <a href=\"https://github.com/zazuko/notebooks/blob/master/notebooks/animal_disease/epidemics.ipynb\">\n",
    "        <div id=\"github-link\" style=\"display: flex;padding-right: 3.5rem;padding-bottom: 0.625rem;border-bottom: 1px solid #ececed; height: auto;align-items: center;\">\n",
    "            <img class=\"call-to-action-img\" src=\"img//github.svg\" width=\"25\" height=\"30\" style=\"margin-right: 10px;margin-top: auto;margin-bottom: auto;\">\n",
    "            <div class=\"call-to-action-txt\">View on GitHub</div>\n",
    "        </div>\n",
    "    </a>\n",
    "</div>\n",
    "\n",
    "# Animal diseases in Switzerland\n",
    "\n",
    "FSVO, Federal Food Safety and Veterinary Office, collects data on the animal diseases in Switzerland. This data is published as [Linked Data](https://en.wikipedia.org/wiki/Linked_data). \n",
    "\n",
    "In this tutorial, we will show **how to work with Linked Data.** Mainly, we will see how to work with data on animal disease.   \n",
    "We will look into how to query, process, and visualize it.   \n",
    "\n",
    "[1. Setup](#Setup)    \n",
    "&nbsp;&nbsp;&nbsp;&nbsp;&nbsp;&nbsp;[1.1 Python](#SPARQL-endpoints)    \n",
    "&nbsp;&nbsp;&nbsp;&nbsp;&nbsp;&nbsp;[1.2 SPARQL endpoints](#SPARQL-endpoints)    \n",
    "&nbsp;&nbsp;&nbsp;&nbsp;&nbsp;&nbsp;[1.3 SPARQL client](#SPARQL-endpoints)    \n",
    "\n",
    "[2. Data](#Data)        \n",
    "&nbsp;&nbsp;&nbsp;&nbsp;&nbsp;&nbsp;[2.1 Animal species](#Animal-species)    \n",
    "&nbsp;&nbsp;&nbsp;&nbsp;&nbsp;&nbsp;[2.2 Diseases](#Diseases)    \n",
    "&nbsp;&nbsp;&nbsp;&nbsp;&nbsp;&nbsp;[2.3 Can we link disease to animal type?](#Can-we-link-disease-to-animal-type)  \n",
    "&nbsp;&nbsp;&nbsp;&nbsp;&nbsp;&nbsp;[2.4 Reports](#Reports)  \n",
    "&nbsp;&nbsp;&nbsp;&nbsp;&nbsp;&nbsp;[2.5 Example: goats](#example-goats)  \n",
    "\n",
    "\n",
    "[3. Analysis](#Analysis)    \n",
    "&nbsp;&nbsp;&nbsp;&nbsp;&nbsp;&nbsp;[3.1 Cattle: Mucosal Disease](#cattle-mucosal-disease)  \n",
    "&nbsp;&nbsp;&nbsp;&nbsp;&nbsp;&nbsp;[3.2 Bees: Sauerbrut](#Sauerbrut)  \n",
    "&nbsp;&nbsp;&nbsp;&nbsp;&nbsp;&nbsp;[3.3 Rabies](#Rabies)  \n",
    "&nbsp;&nbsp;&nbsp;&nbsp;&nbsp;&nbsp;[3.4 Most common diseases](#Most-common-diseases)  \n",
    "&nbsp;&nbsp;&nbsp;&nbsp;&nbsp;&nbsp;[3.5 Reports over time](#reports-over-time)  \n",
    "\n"
   ]
  },
  {
   "cell_type": "markdown",
   "id": "6a3e5743",
   "metadata": {},
   "source": [
    "## Setup"
   ]
  },
  {
   "cell_type": "markdown",
   "id": "e96bd575",
   "metadata": {},
   "source": [
    "### Python\n",
    "This notebook requires Python 3.9 or later to run."
   ]
  },
  {
   "cell_type": "markdown",
   "id": "d4442f36",
   "metadata": {},
   "source": [
    "### SPARQL endpoints\n",
    "\n",
    "#### For epidemiological data\n",
    "Reports on animal diseases are published as Linked Data. It can be accessed with [SPARQL queries](https://www.w3.org/TR/rdf-sparql-query/).   \n",
    "You can send queries using HTTP requests. The API endpoint is **[https://lindas.admin.ch/query/](https://int.lindas.admin.ch/query).**  \n",
    "\n",
    "#### For geodata\n",
    "Animal diseases are closely linked to places. To understand their location, we will work with \n",
    "Swiss geodata. It is published as Linked Data. It can be accessed using API endpoint under **[https://ld.geo.admin.ch/query](https://ld.geo.admin.ch/query).**  "
   ]
  },
  {
   "cell_type": "markdown",
   "id": "90db373f",
   "metadata": {},
   "source": [
    "### SPARQL client\n",
    "\n",
    "Let's use `SparqlClient` from [graphly](https://github.com/zazuko/graphly) to communicate with both databases. \n",
    "Graphly will allow us to:\n",
    "* send SPARQL queries\n",
    "* automatically add prefixes to all queries\n",
    "* format response to `pandas` or `geopandas`"
   ]
  },
  {
   "cell_type": "code",
   "execution_count": 1,
   "id": "dc0815c3",
   "metadata": {},
   "outputs": [],
   "source": [
    "import datetime\n",
    "import itertools\n",
    "import json\n",
    "\n",
    "import folium\n",
    "import mapclassify\n",
    "import matplotlib as mpl\n",
    "import matplotlib.cm\n",
    "import networkx as nx\n",
    "import pandas as pd\n",
    "import plotly.express as px\n",
    "import plotly.graph_objects as go\n",
    "from bokeh.io import output_notebook, show\n",
    "from bokeh.models import (Circle, CustomJS, HoverTool, LabelSet, MultiLine,\n",
    "                          NodesAndLinkedEdges, Plot, TapTool)\n",
    "from bokeh.palettes import Paired\n",
    "from bokeh.plotting import ColumnDataSource, from_networkx\n",
    "from dateutil.relativedelta import relativedelta\n",
    "from folium.plugins import TimeSliderChoropleth\n",
    "from graphly.api_client import SparqlClient\n",
    "from plotly.subplots import make_subplots\n",
    "from enum import Enum\n",
    "from collections import namedtuple"
   ]
  },
  {
   "cell_type": "code",
   "execution_count": 2,
   "id": "4bc9e4ef",
   "metadata": {},
   "outputs": [],
   "source": [
    "# Uncomment to install dependencies in Colab environment\n",
    "#!pip install mapclassify\n",
    "#!pip install git+https://github.com/zazuko/graphly.git"
   ]
  },
  {
   "cell_type": "code",
   "execution_count": 3,
   "id": "985890ce",
   "metadata": {},
   "outputs": [],
   "source": [
    "sparql = SparqlClient(\"https://int.lindas.admin.ch/query\")\n",
    "geosparql = SparqlClient(\"https://ld.geo.admin.ch/query\")\n",
    "\n",
    "sparql.add_prefixes({\n",
    "    \"schema\": \"<http://schema.org/>\",\n",
    "    \"cube\": \"<https://cube.link/>\",\n",
    "    \"admin\": \"<https://schema.ld.admin.ch/>\",\n",
    "    \"skos\": \"<http://www.w3.org/2004/02/skos/core#>\",\n",
    "    \"disease\": \"<https://agriculture.ld.admin.ch/foen/animal-pest/>\"   \n",
    "})\n",
    "\n",
    "geosparql.add_prefixes({\n",
    "    \"dct\": \"<http://purl.org/dc/terms/>\",\n",
    "    \"geonames\": \"<http://www.geonames.org/ontology#>\",\n",
    "    \"schema\": \"<http://schema.org/>\",\n",
    "    \"geosparql\": \"<http://www.opengis.net/ont/geosparql#>\",\n",
    "})"
   ]
  },
  {
   "cell_type": "markdown",
   "id": "5ad20e26",
   "metadata": {},
   "source": [
    "SPARQL queries can become very long. To improve the readibility, we will work wih [prefixes](https://en.wikibooks.org/wiki/SPARQL/Prefixes).\n",
    " \n",
    "Using the `add_prefixes` method, we can define persistent prefixes. \n",
    "Every time you send a query, `graphly` will now automatically add the prefixes for you."
   ]
  },
  {
   "cell_type": "markdown",
   "id": "84f11bdf",
   "metadata": {},
   "source": [
    "## Data\n",
    "Our goal is to understand outbreaks of animal diseases. First, let's take a look at the animals found in our dataset."
   ]
  },
  {
   "cell_type": "markdown",
   "id": "aba8ccf3",
   "metadata": {},
   "source": [
    "### Animal species"
   ]
  },
  {
   "cell_type": "code",
   "execution_count": 4,
   "id": "26a1d283",
   "metadata": {},
   "outputs": [
    {
     "data": {
      "text/html": [
       "<div>\n",
       "<style scoped>\n",
       "    .dataframe tbody tr th:only-of-type {\n",
       "        vertical-align: middle;\n",
       "    }\n",
       "\n",
       "    .dataframe tbody tr th {\n",
       "        vertical-align: top;\n",
       "    }\n",
       "\n",
       "    .dataframe thead th {\n",
       "        text-align: right;\n",
       "    }\n",
       "</style>\n",
       "<table border=\"1\" class=\"dataframe\">\n",
       "  <thead>\n",
       "    <tr style=\"text-align: right;\">\n",
       "      <th></th>\n",
       "      <th>species</th>\n",
       "      <th>group</th>\n",
       "    </tr>\n",
       "  </thead>\n",
       "  <tbody>\n",
       "    <tr>\n",
       "      <th>0</th>\n",
       "      <td>Anderes Haustier</td>\n",
       "      <td>Andere Haustiere</td>\n",
       "    </tr>\n",
       "    <tr>\n",
       "      <th>1</th>\n",
       "      <td>Bienen</td>\n",
       "      <td>Bienen</td>\n",
       "    </tr>\n",
       "    <tr>\n",
       "      <th>2</th>\n",
       "      <td>Pferd</td>\n",
       "      <td>Equiden</td>\n",
       "    </tr>\n",
       "    <tr>\n",
       "      <th>3</th>\n",
       "      <td>Fisch</td>\n",
       "      <td>Fische</td>\n",
       "    </tr>\n",
       "    <tr>\n",
       "      <th>4</th>\n",
       "      <td>Krebs</td>\n",
       "      <td>Fische</td>\n",
       "    </tr>\n",
       "    <tr>\n",
       "      <th>5</th>\n",
       "      <td>Wachtel</td>\n",
       "      <td>Gefluegel</td>\n",
       "    </tr>\n",
       "    <tr>\n",
       "      <th>6</th>\n",
       "      <td>Huhn</td>\n",
       "      <td>Gefluegel</td>\n",
       "    </tr>\n",
       "    <tr>\n",
       "      <th>7</th>\n",
       "      <td>Hausgans</td>\n",
       "      <td>Gefluegel</td>\n",
       "    </tr>\n",
       "    <tr>\n",
       "      <th>8</th>\n",
       "      <td>Hausente</td>\n",
       "      <td>Gefluegel</td>\n",
       "    </tr>\n",
       "    <tr>\n",
       "      <th>9</th>\n",
       "      <td>Hund</td>\n",
       "      <td>Hund</td>\n",
       "    </tr>\n",
       "    <tr>\n",
       "      <th>10</th>\n",
       "      <td>Kaninchen</td>\n",
       "      <td>Kaninchen</td>\n",
       "    </tr>\n",
       "    <tr>\n",
       "      <th>11</th>\n",
       "      <td>Katze</td>\n",
       "      <td>Katzen</td>\n",
       "    </tr>\n",
       "    <tr>\n",
       "      <th>12</th>\n",
       "      <td>Schildkröte</td>\n",
       "      <td>Reptilien</td>\n",
       "    </tr>\n",
       "    <tr>\n",
       "      <th>13</th>\n",
       "      <td>Schlange</td>\n",
       "      <td>Reptilien</td>\n",
       "    </tr>\n",
       "    <tr>\n",
       "      <th>14</th>\n",
       "      <td>Echse</td>\n",
       "      <td>Reptilien</td>\n",
       "    </tr>\n",
       "  </tbody>\n",
       "</table>\n",
       "</div>"
      ],
      "text/plain": [
       "             species             group\n",
       "0   Anderes Haustier  Andere Haustiere\n",
       "1             Bienen            Bienen\n",
       "2              Pferd           Equiden\n",
       "3              Fisch            Fische\n",
       "4              Krebs            Fische\n",
       "5            Wachtel         Gefluegel\n",
       "6               Huhn         Gefluegel\n",
       "7           Hausgans         Gefluegel\n",
       "8           Hausente         Gefluegel\n",
       "9               Hund             Hund \n",
       "10         Kaninchen         Kaninchen\n",
       "11             Katze            Katzen\n",
       "12       Schildkröte         Reptilien\n",
       "13          Schlange         Reptilien\n",
       "14             Echse         Reptilien"
      ]
     },
     "execution_count": 4,
     "metadata": {},
     "output_type": "execute_result"
    }
   ],
   "source": [
    "query = \"\"\"\n",
    "SELECT DISTINCT ?species ?group\n",
    "WHERE {\n",
    "  ?s disease:animal-specie ?speciesIRI.\n",
    "  ?speciesIRI schema:name ?species.\n",
    "  \n",
    "  ?speciesIRI skos:broader/schema:name ?group.\n",
    "  \n",
    "  FILTER (LANG(?species) = \"de\")\n",
    "  FILTER (LANG(?group) = \"de\")\n",
    "} \n",
    "ORDER BY ?group\n",
    "\"\"\"\n",
    "\n",
    "df = sparql.send_query(query)\n",
    "df[0:15]"
   ]
  },
  {
   "cell_type": "markdown",
   "id": "1d7b623a",
   "metadata": {},
   "source": [
    "### Diseases\n",
    "Now, let's take a look at the diseases the animals can suffer from."
   ]
  },
  {
   "cell_type": "code",
   "execution_count": 5,
   "id": "32c16046",
   "metadata": {},
   "outputs": [
    {
     "data": {
      "text/html": [
       "<div>\n",
       "<style scoped>\n",
       "    .dataframe tbody tr th:only-of-type {\n",
       "        vertical-align: middle;\n",
       "    }\n",
       "\n",
       "    .dataframe tbody tr th {\n",
       "        vertical-align: top;\n",
       "    }\n",
       "\n",
       "    .dataframe thead th {\n",
       "        text-align: right;\n",
       "    }\n",
       "</style>\n",
       "<table border=\"1\" class=\"dataframe\">\n",
       "  <thead>\n",
       "    <tr style=\"text-align: right;\">\n",
       "      <th></th>\n",
       "      <th>disease</th>\n",
       "      <th>group</th>\n",
       "    </tr>\n",
       "  </thead>\n",
       "  <tbody>\n",
       "    <tr>\n",
       "      <th>0</th>\n",
       "      <td>Brucellose der Rinder</td>\n",
       "      <td>Auszurottende Seuchen</td>\n",
       "    </tr>\n",
       "    <tr>\n",
       "      <th>1</th>\n",
       "      <td>Tollwut</td>\n",
       "      <td>Auszurottende Seuchen</td>\n",
       "    </tr>\n",
       "    <tr>\n",
       "      <th>2</th>\n",
       "      <td>Infektiöse bovine Rhinotracheitis/Infektiöse p...</td>\n",
       "      <td>Auszurottende Seuchen</td>\n",
       "    </tr>\n",
       "    <tr>\n",
       "      <th>3</th>\n",
       "      <td>Enzootische Leukose der Rinder</td>\n",
       "      <td>Auszurottende Seuchen</td>\n",
       "    </tr>\n",
       "    <tr>\n",
       "      <th>4</th>\n",
       "      <td>Brucellose der Schweine</td>\n",
       "      <td>Auszurottende Seuchen</td>\n",
       "    </tr>\n",
       "  </tbody>\n",
       "</table>\n",
       "</div>"
      ],
      "text/plain": [
       "                                             disease                  group\n",
       "0                              Brucellose der Rinder  Auszurottende Seuchen\n",
       "1                                            Tollwut  Auszurottende Seuchen\n",
       "2  Infektiöse bovine Rhinotracheitis/Infektiöse p...  Auszurottende Seuchen\n",
       "3                     Enzootische Leukose der Rinder  Auszurottende Seuchen\n",
       "4                            Brucellose der Schweine  Auszurottende Seuchen"
      ]
     },
     "execution_count": 5,
     "metadata": {},
     "output_type": "execute_result"
    }
   ],
   "source": [
    "query = \"\"\"\n",
    "SELECT DISTINCT ?disease ?group\n",
    "WHERE {\n",
    "  ?s disease:epidemics ?diseaseIRI.\n",
    "  ?diseaseIRI schema:name ?disease.\n",
    "  \n",
    "  ?diseaseIRI skos:broader/schema:name ?group.\n",
    "\n",
    "  FILTER (LANG(?disease) = \"de\")\n",
    "  FILTER (LANG(?group) = \"de\")\n",
    "}\n",
    "ORDER BY ?group\n",
    "\"\"\"\n",
    "\n",
    "df = sparql.send_query(query)\n",
    "df.head()"
   ]
  },
  {
   "cell_type": "markdown",
   "id": "998596de",
   "metadata": {},
   "source": [
    "### Can we link disease to animal type?"
   ]
  },
  {
   "cell_type": "markdown",
   "id": "b22750eb",
   "metadata": {},
   "source": [
    "Thus far, we have seen all animals, and all diseases. However, not all animals will catch all diseases.   \n",
    "What diseases are swiss animals exposed to?"
   ]
  },
  {
   "cell_type": "code",
   "execution_count": 6,
   "id": "32867502",
   "metadata": {},
   "outputs": [],
   "source": [
    "query = \"\"\"\n",
    "SELECT DISTINCT ?disease ?species ?group\n",
    "WHERE {\n",
    "  <https://agriculture.ld.admin.ch/foen/animal-pest/observation/> cube:observation ?obs .\n",
    "  ?obs disease:epidemics/schema:name ?disease;\n",
    "       disease:animal-specie ?speciesIRI.\n",
    "       \n",
    "  ?speciesIRI schema:name ?species.\n",
    "  ?speciesIRI skos:broader/schema:name ?group.\n",
    "  \n",
    "  FILTER (LANG(?disease) = \"de\")\n",
    "  FILTER (LANG(?species) = \"de\")\n",
    "  FILTER (LANG(?group) = \"de\")\n",
    "} \n",
    "\n",
    "ORDER BY ?species\n",
    "\"\"\"\n",
    "df = sparql.send_query(query)\n",
    "df = df[df.group != \"Wildtier\"]"
   ]
  },
  {
   "cell_type": "code",
   "execution_count": 7,
   "id": "b7616894",
   "metadata": {},
   "outputs": [],
   "source": [
    "# Graph of disease-species relations\n",
    "graph = nx.from_pandas_edgelist(df, source='disease', target='species')\n",
    "groups = {key: \"disease\" for key in df.disease} | {key: \"species\" for key in df.species}\n",
    "\n",
    "nx.set_node_attributes(graph, groups, name=\"group\")\n",
    "\n",
    "colormaps = {\"fill_color\": \n",
    "                {\"disease\": Paired[4][0], \"species\": Paired[4][2]}, \n",
    "            \"hover_color\": \n",
    "                {\"disease\": Paired[4][1], \"species\": Paired[4][3]}\n",
    "            }\n",
    "\n",
    "for name, colormap in colormaps.items():\n",
    "    colors = {k: colormap[v] for k, v in groups.items()}\n",
    "    nx.set_node_attributes(graph, colors, name=name)"
   ]
  },
  {
   "cell_type": "code",
   "execution_count": 8,
   "id": "39d97f0c",
   "metadata": {},
   "outputs": [
    {
     "data": {
      "text/html": [
       "\n",
       "    <div class=\"bk-root\">\n",
       "        <a href=\"https://bokeh.org\" target=\"_blank\" class=\"bk-logo bk-logo-small bk-logo-notebook\"></a>\n",
       "        <span id=\"1074\">Loading BokehJS ...</span>\n",
       "    </div>"
      ]
     },
     "metadata": {},
     "output_type": "display_data"
    },
    {
     "data": {
      "application/javascript": "\n(function(root) {\n  function now() {\n    return new Date();\n  }\n\n  const force = true;\n\n  if (typeof root._bokeh_onload_callbacks === \"undefined\" || force === true) {\n    root._bokeh_onload_callbacks = [];\n    root._bokeh_is_loading = undefined;\n  }\n\n  const JS_MIME_TYPE = 'application/javascript';\n  const HTML_MIME_TYPE = 'text/html';\n  const EXEC_MIME_TYPE = 'application/vnd.bokehjs_exec.v0+json';\n  const CLASS_NAME = 'output_bokeh rendered_html';\n\n  /**\n   * Render data to the DOM node\n   */\n  function render(props, node) {\n    const script = document.createElement(\"script\");\n    node.appendChild(script);\n  }\n\n  /**\n   * Handle when an output is cleared or removed\n   */\n  function handleClearOutput(event, handle) {\n    const cell = handle.cell;\n\n    const id = cell.output_area._bokeh_element_id;\n    const server_id = cell.output_area._bokeh_server_id;\n    // Clean up Bokeh references\n    if (id != null && id in Bokeh.index) {\n      Bokeh.index[id].model.document.clear();\n      delete Bokeh.index[id];\n    }\n\n    if (server_id !== undefined) {\n      // Clean up Bokeh references\n      const cmd_clean = \"from bokeh.io.state import curstate; print(curstate().uuid_to_server['\" + server_id + \"'].get_sessions()[0].document.roots[0]._id)\";\n      cell.notebook.kernel.execute(cmd_clean, {\n        iopub: {\n          output: function(msg) {\n            const id = msg.content.text.trim();\n            if (id in Bokeh.index) {\n              Bokeh.index[id].model.document.clear();\n              delete Bokeh.index[id];\n            }\n          }\n        }\n      });\n      // Destroy server and session\n      const cmd_destroy = \"import bokeh.io.notebook as ion; ion.destroy_server('\" + server_id + \"')\";\n      cell.notebook.kernel.execute(cmd_destroy);\n    }\n  }\n\n  /**\n   * Handle when a new output is added\n   */\n  function handleAddOutput(event, handle) {\n    const output_area = handle.output_area;\n    const output = handle.output;\n\n    // limit handleAddOutput to display_data with EXEC_MIME_TYPE content only\n    if ((output.output_type != \"display_data\") || (!Object.prototype.hasOwnProperty.call(output.data, EXEC_MIME_TYPE))) {\n      return\n    }\n\n    const toinsert = output_area.element.find(\".\" + CLASS_NAME.split(' ')[0]);\n\n    if (output.metadata[EXEC_MIME_TYPE][\"id\"] !== undefined) {\n      toinsert[toinsert.length - 1].firstChild.textContent = output.data[JS_MIME_TYPE];\n      // store reference to embed id on output_area\n      output_area._bokeh_element_id = output.metadata[EXEC_MIME_TYPE][\"id\"];\n    }\n    if (output.metadata[EXEC_MIME_TYPE][\"server_id\"] !== undefined) {\n      const bk_div = document.createElement(\"div\");\n      bk_div.innerHTML = output.data[HTML_MIME_TYPE];\n      const script_attrs = bk_div.children[0].attributes;\n      for (let i = 0; i < script_attrs.length; i++) {\n        toinsert[toinsert.length - 1].firstChild.setAttribute(script_attrs[i].name, script_attrs[i].value);\n        toinsert[toinsert.length - 1].firstChild.textContent = bk_div.children[0].textContent\n      }\n      // store reference to server id on output_area\n      output_area._bokeh_server_id = output.metadata[EXEC_MIME_TYPE][\"server_id\"];\n    }\n  }\n\n  function register_renderer(events, OutputArea) {\n\n    function append_mime(data, metadata, element) {\n      // create a DOM node to render to\n      const toinsert = this.create_output_subarea(\n        metadata,\n        CLASS_NAME,\n        EXEC_MIME_TYPE\n      );\n      this.keyboard_manager.register_events(toinsert);\n      // Render to node\n      const props = {data: data, metadata: metadata[EXEC_MIME_TYPE]};\n      render(props, toinsert[toinsert.length - 1]);\n      element.append(toinsert);\n      return toinsert\n    }\n\n    /* Handle when an output is cleared or removed */\n    events.on('clear_output.CodeCell', handleClearOutput);\n    events.on('delete.Cell', handleClearOutput);\n\n    /* Handle when a new output is added */\n    events.on('output_added.OutputArea', handleAddOutput);\n\n    /**\n     * Register the mime type and append_mime function with output_area\n     */\n    OutputArea.prototype.register_mime_type(EXEC_MIME_TYPE, append_mime, {\n      /* Is output safe? */\n      safe: true,\n      /* Index of renderer in `output_area.display_order` */\n      index: 0\n    });\n  }\n\n  // register the mime type if in Jupyter Notebook environment and previously unregistered\n  if (root.Jupyter !== undefined) {\n    const events = require('base/js/events');\n    const OutputArea = require('notebook/js/outputarea').OutputArea;\n\n    if (OutputArea.prototype.mime_types().indexOf(EXEC_MIME_TYPE) == -1) {\n      register_renderer(events, OutputArea);\n    }\n  }\n\n  \n  if (typeof (root._bokeh_timeout) === \"undefined\" || force === true) {\n    root._bokeh_timeout = Date.now() + 5000;\n    root._bokeh_failed_load = false;\n  }\n\n  const NB_LOAD_WARNING = {'data': {'text/html':\n     \"<div style='background-color: #fdd'>\\n\"+\n     \"<p>\\n\"+\n     \"BokehJS does not appear to have successfully loaded. If loading BokehJS from CDN, this \\n\"+\n     \"may be due to a slow or bad network connection. Possible fixes:\\n\"+\n     \"</p>\\n\"+\n     \"<ul>\\n\"+\n     \"<li>re-rerun `output_notebook()` to attempt to load from CDN again, or</li>\\n\"+\n     \"<li>use INLINE resources instead, as so:</li>\\n\"+\n     \"</ul>\\n\"+\n     \"<code>\\n\"+\n     \"from bokeh.resources import INLINE\\n\"+\n     \"output_notebook(resources=INLINE)\\n\"+\n     \"</code>\\n\"+\n     \"</div>\"}};\n\n  function display_loaded() {\n    const el = document.getElementById(\"1074\");\n    if (el != null) {\n      el.textContent = \"BokehJS is loading...\";\n    }\n    if (root.Bokeh !== undefined) {\n      if (el != null) {\n        el.textContent = \"BokehJS \" + root.Bokeh.version + \" successfully loaded.\";\n      }\n    } else if (Date.now() < root._bokeh_timeout) {\n      setTimeout(display_loaded, 100)\n    }\n  }\n\n\n  function run_callbacks() {\n    try {\n      root._bokeh_onload_callbacks.forEach(function(callback) {\n        if (callback != null)\n          callback();\n      });\n    } finally {\n      delete root._bokeh_onload_callbacks\n    }\n    console.debug(\"Bokeh: all callbacks have finished\");\n  }\n\n  function load_libs(css_urls, js_urls, callback) {\n    if (css_urls == null) css_urls = [];\n    if (js_urls == null) js_urls = [];\n\n    root._bokeh_onload_callbacks.push(callback);\n    if (root._bokeh_is_loading > 0) {\n      console.debug(\"Bokeh: BokehJS is being loaded, scheduling callback at\", now());\n      return null;\n    }\n    if (js_urls == null || js_urls.length === 0) {\n      run_callbacks();\n      return null;\n    }\n    console.debug(\"Bokeh: BokehJS not loaded, scheduling load and callback at\", now());\n    root._bokeh_is_loading = css_urls.length + js_urls.length;\n\n    function on_load() {\n      root._bokeh_is_loading--;\n      if (root._bokeh_is_loading === 0) {\n        console.debug(\"Bokeh: all BokehJS libraries/stylesheets loaded\");\n        run_callbacks()\n      }\n    }\n\n    function on_error(url) {\n      console.error(\"failed to load \" + url);\n    }\n\n    for (let i = 0; i < css_urls.length; i++) {\n      const url = css_urls[i];\n      const element = document.createElement(\"link\");\n      element.onload = on_load;\n      element.onerror = on_error.bind(null, url);\n      element.rel = \"stylesheet\";\n      element.type = \"text/css\";\n      element.href = url;\n      console.debug(\"Bokeh: injecting link tag for BokehJS stylesheet: \", url);\n      document.body.appendChild(element);\n    }\n\n    for (let i = 0; i < js_urls.length; i++) {\n      const url = js_urls[i];\n      const element = document.createElement('script');\n      element.onload = on_load;\n      element.onerror = on_error.bind(null, url);\n      element.async = false;\n      element.src = url;\n      console.debug(\"Bokeh: injecting script tag for BokehJS library: \", url);\n      document.head.appendChild(element);\n    }\n  };\n\n  function inject_raw_css(css) {\n    const element = document.createElement(\"style\");\n    element.appendChild(document.createTextNode(css));\n    document.body.appendChild(element);\n  }\n\n  \n  const js_urls = [\"https://cdn.bokeh.org/bokeh/release/bokeh-2.4.1.min.js\", \"https://cdn.bokeh.org/bokeh/release/bokeh-gl-2.4.1.min.js\", \"https://cdn.bokeh.org/bokeh/release/bokeh-widgets-2.4.1.min.js\", \"https://cdn.bokeh.org/bokeh/release/bokeh-tables-2.4.1.min.js\", \"https://cdn.bokeh.org/bokeh/release/bokeh-mathjax-2.4.1.min.js\"];\n  const css_urls = [];\n  \n\n  const inline_js = [\n    function(Bokeh) {\n      Bokeh.set_log_level(\"info\");\n    },\n    function(Bokeh) {\n    \n    \n    }\n  ];\n\n  function run_inline_js() {\n    \n    if (root.Bokeh !== undefined || force === true) {\n      \n    for (let i = 0; i < inline_js.length; i++) {\n      inline_js[i].call(root, root.Bokeh);\n    }\n    if (force === true) {\n        display_loaded();\n      }} else if (Date.now() < root._bokeh_timeout) {\n      setTimeout(run_inline_js, 100);\n    } else if (!root._bokeh_failed_load) {\n      console.log(\"Bokeh: BokehJS failed to load within specified timeout.\");\n      root._bokeh_failed_load = true;\n    } else if (force !== true) {\n      const cell = $(document.getElementById(\"1074\")).parents('.cell').data().cell;\n      cell.output_area.append_execute_result(NB_LOAD_WARNING)\n    }\n\n  }\n\n  if (root._bokeh_is_loading === 0) {\n    console.debug(\"Bokeh: BokehJS loaded, going straight to plotting\");\n    run_inline_js();\n  } else {\n    load_libs(css_urls, js_urls, function() {\n      console.debug(\"Bokeh: BokehJS plotting callback run at\", now());\n      run_inline_js();\n    });\n  }\n}(window));",
      "application/vnd.bokehjs_load.v0+json": ""
     },
     "metadata": {},
     "output_type": "display_data"
    },
    {
     "data": {
      "text/html": [
       "\n",
       "\n",
       "\n",
       "\n",
       "\n",
       "\n",
       "  <div class=\"bk-root\" id=\"bb0eefed-23a3-4d8f-9eba-25de3604e39d\" data-root-id=\"1002\"></div>\n"
      ]
     },
     "metadata": {},
     "output_type": "display_data"
    },
    {
     "data": {
      "application/javascript": "(function(root) {\n  function embed_document(root) {\n    \n  const docs_json = {\"4342750a-438e-4fee-8823-7da6de83afd7\":{\"defs\":[],\"roots\":{\"references\":[{\"attributes\":{\"height\":1000,\"renderers\":[{\"id\":\"1004\"},{\"id\":\"1069\"}],\"title\":{\"id\":\"1003\"},\"toolbar\":{\"id\":\"1072\"},\"width\":1000,\"x_range\":{\"id\":\"1075\"},\"x_scale\":{\"id\":\"1077\"},\"y_range\":{\"id\":\"1076\"},\"y_scale\":{\"id\":\"1078\"}},\"id\":\"1002\",\"type\":\"Plot\"},{\"attributes\":{},\"id\":\"1076\",\"type\":\"DataRange1d\"},{\"attributes\":{},\"id\":\"1078\",\"type\":\"LinearScale\"},{\"attributes\":{\"background_fill_alpha\":{\"value\":0.7},\"background_fill_color\":{\"value\":\"white\"},\"coordinates\":null,\"group\":null,\"source\":{\"id\":\"1068\"},\"text\":{\"field\":\"name\"},\"text_font_size\":{\"value\":\"10px\"},\"x\":{\"field\":\"x\"},\"x_offset\":{\"value\":15},\"y\":{\"field\":\"y\"},\"y_offset\":{\"value\":-6}},\"id\":\"1069\",\"type\":\"LabelSet\"},{\"attributes\":{\"fill_color\":{\"field\":\"hover_color\"},\"size\":{\"value\":15}},\"id\":\"1015\",\"type\":\"Circle\"},{\"attributes\":{},\"id\":\"1077\",\"type\":\"LinearScale\"},{\"attributes\":{\"callback\":{\"id\":\"1067\"},\"renderers\":[{\"id\":\"1007\"}]},\"id\":\"1062\",\"type\":\"HoverTool\"},{\"attributes\":{},\"id\":\"1054\",\"type\":\"NodesAndLinkedEdges\"},{\"attributes\":{\"data\":{\"fill_color\":[\"#a6cee3\",\"#b2df8a\",\"#a6cee3\",\"#a6cee3\",\"#a6cee3\",\"#a6cee3\",\"#a6cee3\",\"#b2df8a\",\"#a6cee3\",\"#a6cee3\",\"#a6cee3\",\"#a6cee3\",\"#b2df8a\",\"#a6cee3\",\"#a6cee3\",\"#a6cee3\",\"#a6cee3\",\"#a6cee3\",\"#a6cee3\",\"#a6cee3\",\"#a6cee3\",\"#a6cee3\",\"#b2df8a\",\"#a6cee3\",\"#a6cee3\",\"#b2df8a\",\"#a6cee3\",\"#b2df8a\",\"#a6cee3\",\"#a6cee3\",\"#a6cee3\",\"#a6cee3\",\"#b2df8a\",\"#b2df8a\",\"#b2df8a\",\"#b2df8a\",\"#a6cee3\",\"#b2df8a\",\"#a6cee3\",\"#a6cee3\",\"#b2df8a\",\"#a6cee3\",\"#b2df8a\",\"#a6cee3\",\"#a6cee3\",\"#b2df8a\",\"#b2df8a\",\"#b2df8a\",\"#a6cee3\",\"#b2df8a\",\"#a6cee3\",\"#a6cee3\",\"#b2df8a\",\"#a6cee3\",\"#a6cee3\",\"#a6cee3\",\"#a6cee3\",\"#a6cee3\",\"#a6cee3\",\"#a6cee3\",\"#a6cee3\",\"#a6cee3\",\"#a6cee3\",\"#a6cee3\",\"#a6cee3\",\"#a6cee3\",\"#b2df8a\",\"#a6cee3\",\"#a6cee3\",\"#a6cee3\",\"#b2df8a\",\"#b2df8a\",\"#a6cee3\",\"#b2df8a\",\"#a6cee3\",\"#a6cee3\",\"#a6cee3\",\"#a6cee3\",\"#a6cee3\",\"#b2df8a\",\"#b2df8a\",\"#b2df8a\",\"#b2df8a\",\"#b2df8a\",\"#a6cee3\",\"#a6cee3\"],\"group\":[\"disease\",\"species\",\"disease\",\"disease\",\"disease\",\"disease\",\"disease\",\"species\",\"disease\",\"disease\",\"disease\",\"disease\",\"species\",\"disease\",\"disease\",\"disease\",\"disease\",\"disease\",\"disease\",\"disease\",\"disease\",\"disease\",\"species\",\"disease\",\"disease\",\"species\",\"disease\",\"species\",\"disease\",\"disease\",\"disease\",\"disease\",\"species\",\"species\",\"species\",\"species\",\"disease\",\"species\",\"disease\",\"disease\",\"species\",\"disease\",\"species\",\"disease\",\"disease\",\"species\",\"species\",\"species\",\"disease\",\"species\",\"disease\",\"disease\",\"species\",\"disease\",\"disease\",\"disease\",\"disease\",\"disease\",\"disease\",\"disease\",\"disease\",\"disease\",\"disease\",\"disease\",\"disease\",\"disease\",\"species\",\"disease\",\"disease\",\"disease\",\"species\",\"species\",\"disease\",\"species\",\"disease\",\"disease\",\"disease\",\"disease\",\"disease\",\"species\",\"species\",\"species\",\"species\",\"species\",\"disease\",\"disease\"],\"hover_color\":[\"#1f78b4\",\"#33a02c\",\"#1f78b4\",\"#1f78b4\",\"#1f78b4\",\"#1f78b4\",\"#1f78b4\",\"#33a02c\",\"#1f78b4\",\"#1f78b4\",\"#1f78b4\",\"#1f78b4\",\"#33a02c\",\"#1f78b4\",\"#1f78b4\",\"#1f78b4\",\"#1f78b4\",\"#1f78b4\",\"#1f78b4\",\"#1f78b4\",\"#1f78b4\",\"#1f78b4\",\"#33a02c\",\"#1f78b4\",\"#1f78b4\",\"#33a02c\",\"#1f78b4\",\"#33a02c\",\"#1f78b4\",\"#1f78b4\",\"#1f78b4\",\"#1f78b4\",\"#33a02c\",\"#33a02c\",\"#33a02c\",\"#33a02c\",\"#1f78b4\",\"#33a02c\",\"#1f78b4\",\"#1f78b4\",\"#33a02c\",\"#1f78b4\",\"#33a02c\",\"#1f78b4\",\"#1f78b4\",\"#33a02c\",\"#33a02c\",\"#33a02c\",\"#1f78b4\",\"#33a02c\",\"#1f78b4\",\"#1f78b4\",\"#33a02c\",\"#1f78b4\",\"#1f78b4\",\"#1f78b4\",\"#1f78b4\",\"#1f78b4\",\"#1f78b4\",\"#1f78b4\",\"#1f78b4\",\"#1f78b4\",\"#1f78b4\",\"#1f78b4\",\"#1f78b4\",\"#1f78b4\",\"#33a02c\",\"#1f78b4\",\"#1f78b4\",\"#1f78b4\",\"#33a02c\",\"#33a02c\",\"#1f78b4\",\"#33a02c\",\"#1f78b4\",\"#1f78b4\",\"#1f78b4\",\"#1f78b4\",\"#1f78b4\",\"#33a02c\",\"#33a02c\",\"#33a02c\",\"#33a02c\",\"#33a02c\",\"#1f78b4\",\"#1f78b4\"],\"index\":[\"Infekti\\u00f6se Laryngotracheitis der H\\u00fchner\",\"Anderer Hausvogel\",\"Chlamydiose der V\\u00f6gel\",\"Salmonellose\",\"Campylobacteriose\",\"Salmonella-Infektion des Gefl\\u00fcgels\",\"Newcastle Krankheit\",\"Anderer Wildvogel\",\"Yersiniose\",\"Avi\\u00e4re Influenza, AI\",\"Listeriose\",\"Paratuberkulose\",\"Anderes Haustier\",\"B\\u00f6sartiges Katarrhalfieber\",\"Toxoplasmose\",\"Echinokokkose\",\"Leptospirose\",\"Coxiellose\",\"Bovine Virusdiarrhoe / Mucosal Disease\",\"Pseudotuberkulose der Schafe und Ziegen\",\"Kryptosporidiose\",\"Varroa jacobsoni (Milbenkrankheit der Bienen)\",\"Bienen\",\"Sauerbrut der Bienen\",\"Faulbrut der Bienen\",\"Echse\",\"Proliferative Nierenkrankheit der Fische\",\"Fisch\",\"Infekti\\u00f6se Pankreasnekrose\",\"Infekti\\u00f6se H\\u00e4matopoietische Nekrose\",\"Fr\\u00fchlingsvir\\u00e4mie der Karpfen\",\"Virale h\\u00e4morrhagische Septik\\u00e4mie\",\"Greifvogel\",\"Hausente\",\"Hausgans\",\"Huhn\",\"Tuberkulose / Mykobacteriose\",\"Hund\",\"Tollwut\",\"Myxomatose\",\"Kaninchen\",\"Virale h\\u00e4morrhagische Krankheit der Kaninchen\",\"Katze\",\"Tular\\u00e4mie\",\"Krebspest\",\"Krebs\",\"Papagei\",\"Pfau\",\"Equine Infekti\\u00f6se An\\u00e4mie\",\"Pferd\",\"Ansteckende Pferdemetritis\",\"Equine Arteritis\",\"Rind\",\"Chlamydienabort der Schafe und Ziegen\",\"Bovine spongiforme Enzephalopathie\",\"Milzbrand\",\"Neosporose\",\"Lungenadenomatose\",\"Infektionen mit Tritrichomonas foetus\",\"Schafr\\u00e4ude\",\"Infekti\\u00f6se bovine Rhinotracheitis/Infekti\\u00f6se pustul\\u00f6se Vulvovaginitis\",\"Enzootische Leukose der Rinder\",\"Rauschbrand\",\"Dasselkrankheit\",\"Brucellose der Rinder\",\"Blauzungenkrankheit (Bluetongue)\",\"Schaf\",\"Brucellose der Widder\",\"Maedi-Visna\",\"Traberkrankheit\",\"Schildkr\\u00f6te\",\"Schlange\",\"Porcines reproduktives und respiratorisches Syndrom\",\"Schwein\",\"Teschener Krankheit\",\"Brucellose der Schweine\",\"Actinobacillose der Schweine\",\"Enzootische Pneumonie der Schweine\",\"Klassische Schweinepest\",\"Singvogel\",\"Sittich\",\"Taube\",\"Wachtel\",\"Ziege\",\"Infekti\\u00f6se Agalaktie\",\"Caprine Arthritis-Encephalitis\"]},\"selected\":{\"id\":\"1092\"},\"selection_policy\":{\"id\":\"1091\"}},\"id\":\"1006\",\"type\":\"ColumnDataSource\"},{\"attributes\":{},\"id\":\"1093\",\"type\":\"UnionRenderers\"},{\"attributes\":{\"coordinates\":null,\"group\":null,\"text\":\"Swiss animals and their diseases\"},\"id\":\"1003\",\"type\":\"Title\"},{\"attributes\":{},\"id\":\"1056\",\"type\":\"NodesAndLinkedEdges\"},{\"attributes\":{},\"id\":\"1094\",\"type\":\"Selection\"},{\"attributes\":{\"coordinates\":null,\"edge_renderer\":{\"id\":\"1011\"},\"group\":null,\"inspection_policy\":{\"id\":\"1056\"},\"layout_provider\":{\"id\":\"1013\"},\"node_renderer\":{\"id\":\"1007\"},\"selection_policy\":{\"id\":\"1054\"}},\"id\":\"1004\",\"type\":\"GraphRenderer\"},{\"attributes\":{\"line_color\":{\"value\":\"#fdbf6f\"},\"line_width\":{\"value\":2}},\"id\":\"1040\",\"type\":\"MultiLine\"},{\"attributes\":{\"source\":{\"id\":\"1006\"}},\"id\":\"1008\",\"type\":\"CDSView\"},{\"attributes\":{},\"id\":\"1089\",\"type\":\"UnionRenderers\"},{\"attributes\":{\"data\":{\"end\":[\"Anderer Hausvogel\",\"Anderer Wildvogel\",\"Huhn\",\"Chlamydiose der V\\u00f6gel\",\"Salmonellose\",\"Campylobacteriose\",\"Salmonella-Infektion des Gefl\\u00fcgels\",\"Newcastle Krankheit\",\"Anderer Wildvogel\",\"Katze\",\"Papagei\",\"Singvogel\",\"Sittich\",\"Taube\",\"Anderer Wildvogel\",\"Anderes Haustier\",\"Echse\",\"Greifvogel\",\"Hausente\",\"Hausgans\",\"Huhn\",\"Hund\",\"Kaninchen\",\"Katze\",\"Papagei\",\"Pferd\",\"Rind\",\"Schaf\",\"Schildkr\\u00f6te\",\"Schlange\",\"Schwein\",\"Singvogel\",\"Sittich\",\"Taube\",\"Wachtel\",\"Ziege\",\"Anderer Wildvogel\",\"Anderes Haustier\",\"Greifvogel\",\"Hausente\",\"Hausgans\",\"Huhn\",\"Hund\",\"Kaninchen\",\"Katze\",\"Pferd\",\"Rind\",\"Schaf\",\"Schlange\",\"Schwein\",\"Ziege\",\"Huhn\",\"Anderer Wildvogel\",\"Huhn\",\"Pfau\",\"Taube\",\"Yersiniose\",\"Avi\\u00e4re Influenza, AI\",\"Listeriose\",\"Anderes Haustier\",\"Hund\",\"Kaninchen\",\"Katze\",\"Papagei\",\"Pferd\",\"Rind\",\"Schaf\",\"Schwein\",\"Singvogel\",\"Taube\",\"Ziege\",\"Greifvogel\",\"Hausente\",\"Huhn\",\"Anderes Haustier\",\"Huhn\",\"Kaninchen\",\"Katze\",\"Pferd\",\"Rind\",\"Schaf\",\"Schwein\",\"Taube\",\"Ziege\",\"Anderes Haustier\",\"Rind\",\"Schaf\",\"Ziege\",\"B\\u00f6sartiges Katarrhalfieber\",\"Toxoplasmose\",\"Echinokokkose\",\"Leptospirose\",\"Coxiellose\",\"Bovine Virusdiarrhoe / Mucosal Disease\",\"Pseudotuberkulose der Schafe und Ziegen\",\"Kryptosporidiose\",\"Rind\",\"Schaf\",\"Huhn\",\"Hund\",\"Katze\",\"Rind\",\"Schaf\",\"Singvogel\",\"Ziege\",\"Hund\",\"Pferd\",\"Rind\",\"Schaf\",\"Schwein\",\"Hund\",\"Rind\",\"Schwein\",\"Ziege\",\"Rind\",\"Schaf\",\"Schwein\",\"Ziege\",\"Rind\",\"Schaf\",\"Ziege\",\"Echse\",\"Hund\",\"Katze\",\"Pferd\",\"Rind\",\"Schaf\",\"Schlange\",\"Schwein\",\"Ziege\",\"Bienen\",\"Sauerbrut der Bienen\",\"Faulbrut der Bienen\",\"Fisch\",\"Infekti\\u00f6se Pankreasnekrose\",\"Infekti\\u00f6se H\\u00e4matopoietische Nekrose\",\"Fr\\u00fchlingsvir\\u00e4mie der Karpfen\",\"Virale h\\u00e4morrhagische Septik\\u00e4mie\",\"Tuberkulose / Mykobacteriose\",\"Hund\",\"Katze\",\"Papagei\",\"Pferd\",\"Rind\",\"Tollwut\",\"Katze\",\"Pferd\",\"Rind\",\"Schaf\",\"Ziege\",\"Kaninchen\",\"Virale h\\u00e4morrhagische Krankheit der Kaninchen\",\"Tular\\u00e4mie\",\"Krebs\",\"Pferd\",\"Ansteckende Pferdemetritis\",\"Equine Arteritis\",\"Chlamydienabort der Schafe und Ziegen\",\"Bovine spongiforme Enzephalopathie\",\"Milzbrand\",\"Neosporose\",\"Lungenadenomatose\",\"Infektionen mit Tritrichomonas foetus\",\"Schafr\\u00e4ude\",\"Infekti\\u00f6se bovine Rhinotracheitis/Infekti\\u00f6se pustul\\u00f6se Vulvovaginitis\",\"Enzootische Leukose der Rinder\",\"Rauschbrand\",\"Dasselkrankheit\",\"Brucellose der Rinder\",\"Blauzungenkrankheit (Bluetongue)\",\"Schaf\",\"Ziege\",\"Schaf\",\"Ziege\",\"Schaf\",\"Ziege\",\"Schaf\",\"Ziege\",\"Schaf\",\"Ziege\",\"Brucellose der Widder\",\"Maedi-Visna\",\"Traberkrankheit\",\"Ziege\",\"Ziege\",\"Schwein\",\"Teschener Krankheit\",\"Brucellose der Schweine\",\"Actinobacillose der Schweine\",\"Enzootische Pneumonie der Schweine\",\"Klassische Schweinepest\",\"Infekti\\u00f6se Agalaktie\",\"Caprine Arthritis-Encephalitis\"],\"start\":[\"Infekti\\u00f6se Laryngotracheitis der H\\u00fchner\",\"Infekti\\u00f6se Laryngotracheitis der H\\u00fchner\",\"Infekti\\u00f6se Laryngotracheitis der H\\u00fchner\",\"Anderer Hausvogel\",\"Anderer Hausvogel\",\"Anderer Hausvogel\",\"Anderer Hausvogel\",\"Anderer Hausvogel\",\"Chlamydiose der V\\u00f6gel\",\"Chlamydiose der V\\u00f6gel\",\"Chlamydiose der V\\u00f6gel\",\"Chlamydiose der V\\u00f6gel\",\"Chlamydiose der V\\u00f6gel\",\"Chlamydiose der V\\u00f6gel\",\"Salmonellose\",\"Salmonellose\",\"Salmonellose\",\"Salmonellose\",\"Salmonellose\",\"Salmonellose\",\"Salmonellose\",\"Salmonellose\",\"Salmonellose\",\"Salmonellose\",\"Salmonellose\",\"Salmonellose\",\"Salmonellose\",\"Salmonellose\",\"Salmonellose\",\"Salmonellose\",\"Salmonellose\",\"Salmonellose\",\"Salmonellose\",\"Salmonellose\",\"Salmonellose\",\"Salmonellose\",\"Campylobacteriose\",\"Campylobacteriose\",\"Campylobacteriose\",\"Campylobacteriose\",\"Campylobacteriose\",\"Campylobacteriose\",\"Campylobacteriose\",\"Campylobacteriose\",\"Campylobacteriose\",\"Campylobacteriose\",\"Campylobacteriose\",\"Campylobacteriose\",\"Campylobacteriose\",\"Campylobacteriose\",\"Campylobacteriose\",\"Salmonella-Infektion des Gefl\\u00fcgels\",\"Newcastle Krankheit\",\"Newcastle Krankheit\",\"Newcastle Krankheit\",\"Newcastle Krankheit\",\"Anderer Wildvogel\",\"Anderer Wildvogel\",\"Anderer Wildvogel\",\"Yersiniose\",\"Yersiniose\",\"Yersiniose\",\"Yersiniose\",\"Yersiniose\",\"Yersiniose\",\"Yersiniose\",\"Yersiniose\",\"Yersiniose\",\"Yersiniose\",\"Yersiniose\",\"Yersiniose\",\"Avi\\u00e4re Influenza, AI\",\"Avi\\u00e4re Influenza, AI\",\"Avi\\u00e4re Influenza, AI\",\"Listeriose\",\"Listeriose\",\"Listeriose\",\"Listeriose\",\"Listeriose\",\"Listeriose\",\"Listeriose\",\"Listeriose\",\"Listeriose\",\"Listeriose\",\"Paratuberkulose\",\"Paratuberkulose\",\"Paratuberkulose\",\"Paratuberkulose\",\"Anderes Haustier\",\"Anderes Haustier\",\"Anderes Haustier\",\"Anderes Haustier\",\"Anderes Haustier\",\"Anderes Haustier\",\"Anderes Haustier\",\"Anderes Haustier\",\"B\\u00f6sartiges Katarrhalfieber\",\"B\\u00f6sartiges Katarrhalfieber\",\"Toxoplasmose\",\"Toxoplasmose\",\"Toxoplasmose\",\"Toxoplasmose\",\"Toxoplasmose\",\"Toxoplasmose\",\"Toxoplasmose\",\"Echinokokkose\",\"Echinokokkose\",\"Echinokokkose\",\"Echinokokkose\",\"Echinokokkose\",\"Leptospirose\",\"Leptospirose\",\"Leptospirose\",\"Leptospirose\",\"Coxiellose\",\"Coxiellose\",\"Coxiellose\",\"Coxiellose\",\"Bovine Virusdiarrhoe / Mucosal Disease\",\"Pseudotuberkulose der Schafe und Ziegen\",\"Pseudotuberkulose der Schafe und Ziegen\",\"Kryptosporidiose\",\"Kryptosporidiose\",\"Kryptosporidiose\",\"Kryptosporidiose\",\"Kryptosporidiose\",\"Kryptosporidiose\",\"Kryptosporidiose\",\"Kryptosporidiose\",\"Kryptosporidiose\",\"Varroa jacobsoni (Milbenkrankheit der Bienen)\",\"Bienen\",\"Bienen\",\"Proliferative Nierenkrankheit der Fische\",\"Fisch\",\"Fisch\",\"Fisch\",\"Fisch\",\"Huhn\",\"Tuberkulose / Mykobacteriose\",\"Tuberkulose / Mykobacteriose\",\"Tuberkulose / Mykobacteriose\",\"Tuberkulose / Mykobacteriose\",\"Tuberkulose / Mykobacteriose\",\"Hund\",\"Tollwut\",\"Tollwut\",\"Tollwut\",\"Tollwut\",\"Tollwut\",\"Myxomatose\",\"Kaninchen\",\"Katze\",\"Krebspest\",\"Equine Infekti\\u00f6se An\\u00e4mie\",\"Pferd\",\"Pferd\",\"Rind\",\"Rind\",\"Rind\",\"Rind\",\"Rind\",\"Rind\",\"Rind\",\"Rind\",\"Rind\",\"Rind\",\"Rind\",\"Rind\",\"Rind\",\"Chlamydienabort der Schafe und Ziegen\",\"Chlamydienabort der Schafe und Ziegen\",\"Neosporose\",\"Neosporose\",\"Lungenadenomatose\",\"Lungenadenomatose\",\"Schafr\\u00e4ude\",\"Schafr\\u00e4ude\",\"Blauzungenkrankheit (Bluetongue)\",\"Blauzungenkrankheit (Bluetongue)\",\"Schaf\",\"Schaf\",\"Schaf\",\"Maedi-Visna\",\"Traberkrankheit\",\"Porcines reproduktives und respiratorisches Syndrom\",\"Schwein\",\"Schwein\",\"Schwein\",\"Schwein\",\"Schwein\",\"Ziege\",\"Ziege\"]},\"selected\":{\"id\":\"1094\"},\"selection_policy\":{\"id\":\"1093\"}},\"id\":\"1010\",\"type\":\"ColumnDataSource\"},{\"attributes\":{\"graph_layout\":{\"Actinobacillose der Schweine\":[0.45762711864406774,0.4335184102863822],\"Anderer Hausvogel\":[-0.9999999999999999,0.4204693611473273],\"Anderer Wildvogel\":[-0.9999999999999999,-0.1681877444589309],\"Anderes Haustier\":[-0.9999999999999999,0.25228161668839644],\"Ansteckende Pferdemetritis\":[0.45762711864406774,-0.018848626534190574],\"Avi\\u00e4re Influenza, AI\":[0.45762711864406774,-0.5466101694915254],\"Bienen\":[-0.9999999999999999,0.3784224250325946],\"Blauzungenkrankheit (Bluetongue)\":[0.45762711864406774,0.5466101694915254],\"Bovine Virusdiarrhoe / Mucosal Disease\":[0.45762711864406774,0.20733489187609588],\"Bovine spongiforme Enzephalopathie\":[0.45762711864406774,-0.3204266510812391],\"Brucellose der Rinder\":[0.45762711864406774,0.3204266510812391],\"Brucellose der Schweine\":[0.45762711864406774,-0.3392752776154296],\"Brucellose der Widder\":[0.45762711864406774,-0.2638807714786674],\"B\\u00f6sartiges Katarrhalfieber\":[0.45762711864406774,0.3958211572180011],\"Campylobacteriose\":[0.45762711864406774,0.4712156633547633],\"Caprine Arthritis-Encephalitis\":[0.45762711864406774,-0.07539450613676216],\"Chlamydienabort der Schafe und Ziegen\":[0.45762711864406774,-0.18848626534190532],\"Chlamydiose der V\\u00f6gel\":[0.45762711864406774,-0.05654587960257159],\"Coxiellose\":[0.45762711864406774,0.2827293980128579],\"Dasselkrankheit\":[0.45762711864406774,0.5089129164231443],\"Echinokokkose\":[0.45762711864406774,0.15078901227352418],\"Echse\":[-0.9999999999999999,0.29432855280312914],\"Enzootische Leukose der Rinder\":[0.45762711864406774,0.07539450613676216],\"Enzootische Pneumonie der Schweine\":[0.45762711864406774,0.3015780245470485],\"Equine Arteritis\":[0.45762711864406774,0.22618351841028633],\"Equine Infekti\\u00f6se An\\u00e4mie\":[0.45762711864406774,-0.24503214494447692],\"Faulbrut der Bienen\":[0.45762711864406774,-0.4335184102863822],\"Fisch\":[-0.9999999999999999,-0.4204693611473272],\"Fr\\u00fchlingsvir\\u00e4mie der Karpfen\":[0.45762711864406774,0.13194038573933375],\"Greifvogel\":[-0.9999999999999999,-4.2339013650959355e-18],\"Hausente\":[-0.9999999999999999,-0.3363754889178618],\"Hausgans\":[-0.9999999999999999,0.5045632333767928],\"Huhn\":[-0.9999999999999999,0.08409387222946552],\"Hund\":[-0.9999999999999999,-0.2102346805736636],\"Infektionen mit Tritrichomonas foetus\":[0.45762711864406774,-0.37697253068381065],\"Infekti\\u00f6se Agalaktie\":[0.45762711864406774,-0.4523670368205727],\"Infekti\\u00f6se H\\u00e4matopoietische Nekrose\":[0.45762711864406774,-0.15078901227352426],\"Infekti\\u00f6se Laryngotracheitis der H\\u00fchner\":[0.45762711864406774,0.49006428988895384],\"Infekti\\u00f6se Pankreasnekrose\":[0.45762711864406774,-0.22618351841028642],\"Infekti\\u00f6se bovine Rhinotracheitis/Infekti\\u00f6se pustul\\u00f6se Vulvovaginitis\":[0.45762711864406774,-0.4712156633547633],\"Kaninchen\":[-0.9999999999999999,0.3363754889178618],\"Katze\":[-0.9999999999999999,-0.08409387222946539],\"Klassische Schweinepest\":[0.45762711864406774,-0.3581239041496201],\"Krebs\":[-0.9999999999999999,0.2102346805736636],\"Krebspest\":[0.45762711864406774,-0.39582115721800115],\"Kryptosporidiose\":[0.45762711864406774,0.2638807714786675],\"Leptospirose\":[0.45762711864406774,0.03769725306838101],\"Listeriose\":[0.45762711864406774,0.16963763880771476],\"Lungenadenomatose\":[0.45762711864406774,-0.5277615429573349],\"Maedi-Visna\":[0.45762711864406774,-0.49006428988895384],\"Milzbrand\":[0.45762711864406774,-4.2339013650959355e-18],\"Myxomatose\":[0.45762711864406774,-0.16963763880771476],\"Neosporose\":[0.45762711864406774,0.18848626534190532],\"Newcastle Krankheit\":[0.45762711864406774,-0.41466978375219166],\"Papagei\":[-0.9999999999999999,-0.29432855280312903],\"Paratuberkulose\":[0.45762711864406774,0.018848626534190564],\"Pfau\":[-0.9999999999999999,-0.25228161668839627],\"Pferd\":[-0.9999999999999999,-0.12614080834419814],\"Porcines reproduktives und respiratorisches Syndrom\":[0.45762711864406774,0.3581239041496201],\"Proliferative Nierenkrankheit der Fische\":[0.45762711864406774,-0.037697253068381086],\"Pseudotuberkulose der Schafe und Ziegen\":[0.45762711864406774,0.056545879602571576],\"Rauschbrand\":[0.45762711864406774,0.41466978375219166],\"Rind\":[-0.9999999999999999,-0.3784224250325945],\"Salmonella-Infektion des Gefl\\u00fcgels\":[0.45762711864406774,0.37697253068381065],\"Salmonellose\":[0.45762711864406774,0.0942431326709526],\"Sauerbrut der Bienen\":[0.45762711864406774,-0.13194038573933375],\"Schaf\":[-0.9999999999999999,0.04204693611473281],\"Schafr\\u00e4ude\":[0.45762711864406774,-0.09424313267095266],\"Schildkr\\u00f6te\":[-0.9999999999999999,-0.46251629726205995],\"Schlange\":[-0.9999999999999999,0.12614080834419822],\"Schwein\":[-0.9999999999999999,-0.0420469361147327],\"Singvogel\":[-0.9999999999999999,0.46251629726206],\"Sittich\":[-0.9999999999999999,-0.5045632333767928],\"Taube\":[-0.9999999999999999,0.1681877444589309],\"Teschener Krankheit\":[0.45762711864406774,0.3392752776154295],\"Tollwut\":[0.45762711864406774,-0.11309175920514317],\"Toxoplasmose\":[0.45762711864406774,0.11309175920514317],\"Traberkrankheit\":[0.45762711864406774,-0.20733489187609583],\"Tuberkulose / Mykobacteriose\":[0.45762711864406774,-0.282729398012858],\"Tular\\u00e4mie\":[0.45762711864406774,0.45236703682057267],\"Varroa jacobsoni (Milbenkrankheit der Bienen)\":[0.45762711864406774,-0.5089129164231443],\"Virale h\\u00e4morrhagische Krankheit der Kaninchen\":[0.45762711864406774,0.5277615429573348],\"Virale h\\u00e4morrhagische Septik\\u00e4mie\":[0.45762711864406774,0.24503214494447692],\"Wachtel\":[-0.9999999999999999,-0.5466101694915254],\"Yersiniose\":[0.45762711864406774,-0.3015780245470485],\"Ziege\":[-0.9999999999999999,0.5466101694915254]}},\"id\":\"1013\",\"type\":\"StaticLayoutProvider\"},{\"attributes\":{},\"id\":\"1090\",\"type\":\"Selection\"},{\"attributes\":{\"callback\":null},\"id\":\"1071\",\"type\":\"TapTool\"},{\"attributes\":{\"tools\":[{\"id\":\"1062\"},{\"id\":\"1071\"}]},\"id\":\"1072\",\"type\":\"Toolbar\"},{\"attributes\":{\"source\":{\"id\":\"1010\"}},\"id\":\"1012\",\"type\":\"CDSView\"},{\"attributes\":{\"data\":{\"name\":[\"Wachtel\",\"Sittich\",\"Schildkr\\u00f6te\",\"Fisch\",\"Rind\",\"Hausente\",\"Papagei\",\"Pfau\",\"Hund\",\"Anderer Wildvogel\",\"Pferd\",\"Katze\",\"Schwein\",\"Greifvogel\",\"Schaf\",\"Huhn\",\"Schlange\",\"Taube\",\"Krebs\",\"Anderes Haustier\",\"Echse\",\"Kaninchen\",\"Bienen\",\"Anderer Hausvogel\",\"Singvogel\",\"Hausgans\",\"Ziege\"],\"x\":[-0.9999999999999999,-0.9999999999999999,-0.9999999999999999,-0.9999999999999999,-0.9999999999999999,-0.9999999999999999,-0.9999999999999999,-0.9999999999999999,-0.9999999999999999,-0.9999999999999999,-0.9999999999999999,-0.9999999999999999,-0.9999999999999999,-0.9999999999999999,-0.9999999999999999,-0.9999999999999999,-0.9999999999999999,-0.9999999999999999,-0.9999999999999999,-0.9999999999999999,-0.9999999999999999,-0.9999999999999999,-0.9999999999999999,-0.9999999999999999,-0.9999999999999999,-0.9999999999999999,-0.9999999999999999],\"y\":[-0.5466101694915254,-0.5045632333767928,-0.46251629726205995,-0.4204693611473272,-0.3784224250325945,-0.3363754889178618,-0.29432855280312903,-0.25228161668839627,-0.2102346805736636,-0.1681877444589309,-0.12614080834419814,-0.08409387222946539,-0.0420469361147327,-4.2339013650959355e-18,0.04204693611473281,0.08409387222946552,0.12614080834419822,0.1681877444589309,0.2102346805736636,0.25228161668839644,0.29432855280312914,0.3363754889178618,0.3784224250325946,0.4204693611473273,0.46251629726206,0.5045632333767928,0.5466101694915254]},\"selected\":{\"id\":\"1090\"},\"selection_policy\":{\"id\":\"1089\"}},\"id\":\"1068\",\"type\":\"ColumnDataSource\"},{\"attributes\":{\"coordinates\":null,\"data_source\":{\"id\":\"1010\"},\"glyph\":{\"id\":\"1041\"},\"group\":null,\"hover_glyph\":{\"id\":\"1040\"},\"selection_glyph\":{\"id\":\"1040\"},\"view\":{\"id\":\"1012\"}},\"id\":\"1011\",\"type\":\"GlyphRenderer\"},{\"attributes\":{},\"id\":\"1075\",\"type\":\"DataRange1d\"},{\"attributes\":{\"line_alpha\":{\"value\":0.5},\"line_color\":{\"value\":\"#CCCCCC\"}},\"id\":\"1041\",\"type\":\"MultiLine\"},{\"attributes\":{},\"id\":\"1091\",\"type\":\"UnionRenderers\"},{\"attributes\":{\"coordinates\":null,\"data_source\":{\"id\":\"1006\"},\"glyph\":{\"id\":\"1014\"},\"group\":null,\"hover_glyph\":{\"id\":\"1015\"},\"nonselection_glyph\":{\"id\":\"1014\"},\"selection_glyph\":{\"id\":\"1015\"},\"view\":{\"id\":\"1008\"}},\"id\":\"1007\",\"type\":\"GlyphRenderer\"},{\"attributes\":{},\"id\":\"1092\",\"type\":\"Selection\"},{\"attributes\":{\"fill_color\":{\"field\":\"fill_color\"},\"size\":{\"value\":15}},\"id\":\"1014\",\"type\":\"Circle\"},{\"attributes\":{\"args\":{\"hover\":{\"id\":\"1062\"},\"source\":{\"id\":\"1006\"}},\"code\":\"\\n    if (cb_data.index.indices.length > 0) {\\n        const index = cb_data.index.indices[0];\\n\\n        if (source.data.group[index] === \\\"species\\\") {\\n            hover.tooltips = [[\\\"Animal\\\", \\\"@index\\\"]];  \\n        }\\n        else {\\n            hover.tooltips = [[\\\"Disease\\\", \\\"@index\\\"]];\\n        }                                     \\n    }\\n\"},\"id\":\"1067\",\"type\":\"CustomJS\"}],\"root_ids\":[\"1002\"]},\"title\":\"Bokeh Application\",\"version\":\"2.4.1\"}};\n  const render_items = [{\"docid\":\"4342750a-438e-4fee-8823-7da6de83afd7\",\"root_ids\":[\"1002\"],\"roots\":{\"1002\":\"bb0eefed-23a3-4d8f-9eba-25de3604e39d\"}}];\n  root.Bokeh.embed.embed_items_notebook(docs_json, render_items);\n\n  }\n  if (root.Bokeh !== undefined) {\n    embed_document(root);\n  } else {\n    let attempts = 0;\n    const timer = setInterval(function(root) {\n      if (root.Bokeh !== undefined) {\n        clearInterval(timer);\n        embed_document(root);\n      } else {\n        attempts++;\n        if (attempts > 100) {\n          clearInterval(timer);\n          console.log(\"Bokeh: ERROR: Unable to run BokehJS code because BokehJS library is missing\");\n        }\n      }\n    }, 10, root)\n  }\n})(window);",
      "application/vnd.bokehjs_exec.v0+json": ""
     },
     "metadata": {
      "application/vnd.bokehjs_exec.v0+json": {
       "id": "1002"
      }
     },
     "output_type": "display_data"
    }
   ],
   "source": [
    "# Interactive graph plot\n",
    "plot = Plot(plot_width = 1000, plot_height=1000)\n",
    "plot.title.text = 'Swiss animals and their diseases'\n",
    "\n",
    "graph_renderer = from_networkx(graph, nx.drawing.layout.bipartite_layout, nodes = df.species.unique())\n",
    "\n",
    "# manipulating nodes\n",
    "nonselect_node = Circle(size = 15, fill_color = \"fill_color\")\n",
    "select_node = Circle(size = 15, fill_color = \"hover_color\")\n",
    "graph_renderer.node_renderer.glyph = nonselect_node\n",
    "graph_renderer.node_renderer.nonselection_glyph = nonselect_node\n",
    "graph_renderer.node_renderer.selection_glyph = select_node\n",
    "graph_renderer.node_renderer.hover_glyph = select_node\n",
    "graph_renderer.node_renderer.data_source.data['group'] = [groups[g] for g in graph_renderer.node_renderer.data_source.data[\"index\"]]\n",
    "\n",
    "# manipulating edges\n",
    "select_edge = MultiLine(line_color = Paired[7][-1], line_width = 2)\n",
    "graph_renderer.edge_renderer.glyph = MultiLine(line_color = '#CCCCCC', line_alpha = .5, line_width = 1)\n",
    "graph_renderer.edge_renderer.selection_glyph = select_edge\n",
    "graph_renderer.edge_renderer.hover_glyph = select_edge\n",
    "\n",
    "\n",
    "graph_renderer.selection_policy = NodesAndLinkedEdges()\n",
    "graph_renderer.inspection_policy = NodesAndLinkedEdges()\n",
    "\n",
    "plot.renderers.append(graph_renderer)\n",
    "\n",
    "callback_code = '''\n",
    "    if (cb_data.index.indices.length > 0) {\n",
    "        const index = cb_data.index.indices[0];\n",
    "\n",
    "        if (source.data.group[index] === \"species\") {\n",
    "            hover.tooltips = [[\"Animal\", \"@index\"]];  \n",
    "        }\n",
    "        else {\n",
    "            hover.tooltips = [[\"Disease\", \"@index\"]];\n",
    "        }                                     \n",
    "    }\n",
    "'''\n",
    "\n",
    "hover = HoverTool(\n",
    "    renderers=[graph_renderer.node_renderer]\n",
    ")\n",
    "hover.callback = CustomJS(\n",
    "    args = dict(source = graph_renderer.node_renderer.data_source, hover = hover),\n",
    "    code = callback_code\n",
    ")\n",
    "\n",
    "pos = {k: v for k, v in graph_renderer.layout_provider.graph_layout.items() if graph.nodes[k][\"group\"] == \"species\"}\n",
    "names = list(pos.keys())\n",
    "x, y = map(list, zip(*pos.values()))\n",
    "\n",
    "source = ColumnDataSource({'x': x, 'y': y, 'name': names})\n",
    "labels = LabelSet(x_offset=15, y_offset=-6, x='x', y='y', text='name', source=source, background_fill_color='white', text_font_size='10px', background_fill_alpha=.7)\n",
    "plot.renderers.append(labels)\n",
    "\n",
    "plot.add_tools(hover, TapTool())\n",
    "\n",
    "output_notebook()\n",
    "show(plot)"
   ]
  },
  {
   "cell_type": "markdown",
   "id": "a8672d8b",
   "metadata": {},
   "source": [
    "### Reports \n",
    "When animals get sick, the farmer will typically consult a vet. After diagnosis, the incident is reported to the Federal Office for Agriculture. This data is publicly available and can be found in our endpoint:"
   ]
  },
  {
   "cell_type": "code",
   "execution_count": 9,
   "id": "148c4591",
   "metadata": {},
   "outputs": [
    {
     "ename": "NotFoundError",
     "evalue": "",
     "output_type": "error",
     "traceback": [
      "\u001b[0;31m---------------------------------------------------------------------------\u001b[0m",
      "\u001b[0;31mNotFoundError\u001b[0m                             Traceback (most recent call last)",
      "\u001b[1;32m/home/magdalena/zazuko/notebooks/notebooks/animal_disease/epidemics.ipynb Cell 21\u001b[0m in \u001b[0;36m<cell line: 22>\u001b[0;34m()\u001b[0m\n\u001b[1;32m      <a href='vscode-notebook-cell:/home/magdalena/zazuko/notebooks/notebooks/animal_disease/epidemics.ipynb#ch0000020?line=0'>1</a>\u001b[0m \u001b[39m#Run in browser: https://s.zazuko.com/24fSKE\u001b[39;00m\n\u001b[1;32m      <a href='vscode-notebook-cell:/home/magdalena/zazuko/notebooks/notebooks/animal_disease/epidemics.ipynb#ch0000020?line=1'>2</a>\u001b[0m query \u001b[39m=\u001b[39m \u001b[39m\"\"\"\u001b[39m\n\u001b[1;32m      <a href='vscode-notebook-cell:/home/magdalena/zazuko/notebooks/notebooks/animal_disease/epidemics.ipynb#ch0000020?line=2'>3</a>\u001b[0m \u001b[39mSELECT ?diagnosis ?commune ?species ?stock ?sick ?infected ?killed ?deceased ?disease\u001b[39m\n\u001b[1;32m      <a href='vscode-notebook-cell:/home/magdalena/zazuko/notebooks/notebooks/animal_disease/epidemics.ipynb#ch0000020?line=3'>4</a>\u001b[0m \u001b[39mWHERE \u001b[39m\u001b[39m{\u001b[39m\n\u001b[0;32m   (...)\u001b[0m\n\u001b[1;32m     <a href='vscode-notebook-cell:/home/magdalena/zazuko/notebooks/notebooks/animal_disease/epidemics.ipynb#ch0000020?line=19'>20</a>\u001b[0m \u001b[39mORDER BY DESC(?diagnosis) ?commune\u001b[39m\n\u001b[1;32m     <a href='vscode-notebook-cell:/home/magdalena/zazuko/notebooks/notebooks/animal_disease/epidemics.ipynb#ch0000020?line=20'>21</a>\u001b[0m \u001b[39m\"\"\"\u001b[39m\n\u001b[0;32m---> <a href='vscode-notebook-cell:/home/magdalena/zazuko/notebooks/notebooks/animal_disease/epidemics.ipynb#ch0000020?line=21'>22</a>\u001b[0m df \u001b[39m=\u001b[39m sparql\u001b[39m.\u001b[39;49msend_query(query)\n\u001b[1;32m     <a href='vscode-notebook-cell:/home/magdalena/zazuko/notebooks/notebooks/animal_disease/epidemics.ipynb#ch0000020?line=22'>23</a>\u001b[0m df\u001b[39m.\u001b[39mhead()\n",
      "File \u001b[0;32m~/zazuko/notebooks/venv/lib/python3.9/site-packages/graphly/api_client.py:181\u001b[0m, in \u001b[0;36mSparqlClient.send_query\u001b[0;34m(self, query, timeout)\u001b[0m\n\u001b[1;32m    174\u001b[0m     \u001b[39mraise\u001b[39;00m ExecutionError(\n\u001b[1;32m    175\u001b[0m         \u001b[39m\"\u001b[39m\u001b[39m{}\u001b[39;00m\u001b[39m\\n\u001b[39;00m\u001b[39m Triplestore error code: \u001b[39m\u001b[39m{}\u001b[39;00m\u001b[39m\"\u001b[39m\u001b[39m.\u001b[39mformat(\n\u001b[1;32m    176\u001b[0m             response[\u001b[39m\"\u001b[39m\u001b[39mmessage\u001b[39m\u001b[39m\"\u001b[39m], response[\u001b[39m\"\u001b[39m\u001b[39mcode\u001b[39m\u001b[39m\"\u001b[39m]\n\u001b[1;32m    177\u001b[0m         )\n\u001b[1;32m    178\u001b[0m     )\n\u001b[1;32m    180\u001b[0m \u001b[39mif\u001b[39;00m \u001b[39mnot\u001b[39;00m response[\u001b[39m\"\u001b[39m\u001b[39mresults\u001b[39m\u001b[39m\"\u001b[39m][\u001b[39m\"\u001b[39m\u001b[39mbindings\u001b[39m\u001b[39m\"\u001b[39m]:\n\u001b[0;32m--> 181\u001b[0m     \u001b[39mraise\u001b[39;00m NotFoundError()\n\u001b[1;32m    183\u001b[0m \u001b[39mif\u001b[39;00m \u001b[39mself\u001b[39m\u001b[39m.\u001b[39moutput \u001b[39m==\u001b[39m \u001b[39m\"\u001b[39m\u001b[39mpandas\u001b[39m\u001b[39m\"\u001b[39m:\n\u001b[1;32m    184\u001b[0m     \u001b[39mreturn\u001b[39;00m \u001b[39mself\u001b[39m\u001b[39m.\u001b[39m_normalize_results(response)\n",
      "\u001b[0;31mNotFoundError\u001b[0m: "
     ]
    }
   ],
   "source": [
    "#Run in browser: https://s.zazuko.com/24fSKE\n",
    "query = \"\"\"\n",
    "SELECT ?diagnosis ?commune ?species ?stock ?sick ?infected ?killed ?deceased ?disease\n",
    "WHERE {\n",
    "  <https://agriculture.ld.admin.ch/foen/animal-pest/observation/> cube:observation ?obs .\n",
    "  ?obs disease:epidemics/schema:name ?disease;\n",
    "       disease:diagnosis-date ?diagnosis;\n",
    "       disease:animals-stock ?stock;\n",
    "       disease:animals-sick ?sick;\n",
    "       disease:animals-infected ?infected;\n",
    "       disease:animals-killed ?killed;\n",
    "       disease:animals-deceased ?deceased;\n",
    "       disease:internet-publication ?date;\n",
    "       disease:animal-specie/schema:name ?species;\n",
    "       schema:containedInPlace/schema:name ?commune .\n",
    "  \n",
    "  FILTER (LANG(?disease) = \"de\")\n",
    "  FILTER (LANG(?species) = \"de\")\n",
    "} \n",
    "ORDER BY DESC(?diagnosis) ?commune\n",
    "\"\"\"\n",
    "df = sparql.send_query(query)\n",
    "df.head()"
   ]
  },
  {
   "cell_type": "markdown",
   "id": "09ce4eb9",
   "metadata": {},
   "source": [
    "### Aggregated reports\n",
    "The reports give us many details. It tells us not only what species was affected, but also how many animals got sick, infected, or deceased. \n",
    "\n",
    "These reports, however, have one limitation. The analysis of a report of a single animal holding does not give insight into the disease situation of the whole population. Therefore it is necessary to look at all reports for that disease in a given time.\n",
    "\n",
    "We will hence work with **number of reports**. Instead of looking at how individual farms were affected, we will simply count how many farms reported health issues. \n",
    "\n",
    "Our core data becomes:\n"
   ]
  },
  {
   "cell_type": "code",
   "execution_count": null,
   "id": "86e7dc20",
   "metadata": {},
   "outputs": [],
   "source": [
    "query = \"\"\"\n",
    "SELECT ?diagnosis ?municipality_id ?municipality ?species ?disease\n",
    "WHERE {\n",
    "  <https://agriculture.ld.admin.ch/foen/animal-pest/observation/> cube:observation ?obs .\n",
    "  ?obs disease:epidemics/schema:name ?disease;\n",
    "       disease:diagnosis-date ?diagnosis;\n",
    "       disease:internet-publication ?date;\n",
    "       disease:animal-specie/schema:name ?species;\n",
    "       schema:containedInPlace ?municipality_iri.\n",
    "       \n",
    "  ?municipality_iri schema:name ?municipality ;\n",
    "                    schema:identifier ?municipality_id.\n",
    "  \n",
    "  FILTER (LANG(?disease) = \"de\")\n",
    "  FILTER (LANG(?species) = \"de\")\n",
    "} \n",
    "ORDER BY DESC(?diagnosis) ?municipality\n",
    "\"\"\"\n",
    "df = sparql.send_query(query)"
   ]
  },
  {
   "cell_type": "code",
   "execution_count": null,
   "id": "a286465c",
   "metadata": {},
   "outputs": [],
   "source": [
    "def aggregate_reports(reports: pd.DataFrame, weekly: bool) -> pd.DataFrame:\n",
    "    df = reports.copy()\n",
    "    if weekly:\n",
    "        df[\"diagnosis\"] = df.diagnosis.apply(lambda x: datetime.date(x.year, 1, 1) + relativedelta(weeks=+x.isocalendar()[1]))\n",
    "    else:\n",
    "        df['diagnosis'] = df.diagnosis.apply(lambda x: datetime.date(x.year, x.month, 1))\n",
    "\n",
    "    return df[[\"diagnosis\", \"species\", \"disease\", \"municipality_id\"]].groupby(by=[\"diagnosis\", \"species\", \"disease\", \"municipality_id\"]).size().reset_index(name=\"reports\")\n"
   ]
  },
  {
   "cell_type": "code",
   "execution_count": null,
   "id": "1fbd26b2",
   "metadata": {},
   "outputs": [],
   "source": [
    "# Aggregate results by week/month\n",
    "df_monthly = aggregate_reports(df, False)\n",
    "df_monthly = df_monthly[[\"diagnosis\", \"species\", \"disease\"]].groupby(by=[\"diagnosis\", \"species\", \"disease\"]).size().reset_index(name=\"reports\")\n",
    "df_monthly = df_monthly.sort_values(by=[\"diagnosis\", \"disease\", \"species\"], ascending=False).reset_index(drop=True)\n",
    "df_monthly.head()"
   ]
  },
  {
   "cell_type": "markdown",
   "id": "1295371d",
   "metadata": {},
   "source": [
    "## Example: goats\n",
    "\n",
    "We have seen that one animal can suffer from many diseases. Remember the animal-disease graph?\n",
    "A goat can get sick of twenty different diseases!  \n",
    "\n",
    "<div align=\"center\"><h3>Goat diseases</h3></div>\n",
    "<img src=\"img/goat.png\" alt=\"drawing\" width=\"400\"/>  \n",
    "\n",
    "Some of them occur more often than others. Which ones were the most often reported in the past?"
   ]
  },
  {
   "cell_type": "code",
   "execution_count": null,
   "id": "9f79f37d",
   "metadata": {},
   "outputs": [],
   "source": [
    "DimensionData = namedtuple('Dimension', ['slice_of', \"category\"])\n",
    "\n",
    "class Dimension(Enum):\n",
    "\n",
    "    Disease = DimensionData(\"disease\", \"species\")\n",
    "    Species = DimensionData(\"species\", \"disease\")\n",
    "\n",
    "def plot_multiple_categories(df: pd.DataFrame, dim: Dimension, value: str, min_reports: int=15, min_reports_at_time:int = 5) -> None:\n",
    "\n",
    "    category = dim.value.category\n",
    "    df_slice = df[df[dim.value.slice_of] == value]\n",
    "    counts = df_slice[[category, \"reports\"]].groupby(category).agg([\"sum\", \"max\"]).reset_index()\n",
    "    categories_filtered = list(counts[(counts[\"reports\"][\"sum\"] >= min_reports) & (counts[\"reports\"][\"max\"] >= min_reports_at_time)][category])\n",
    "    df_slice = df_slice[df_slice[category].isin(categories_filtered)]\n",
    "\n",
    "    all_dates = [x.date() for x in pd.date_range(df_slice.diagnosis.min(), df_slice.diagnosis.max(), freq='MS')]\n",
    "    combinations = list(itertools.product(*[all_dates, df_slice[category].unique()]))\n",
    "    values_empty = pd.DataFrame(combinations, columns =['diagnosis', category])\n",
    "    plot_df = pd.merge(values_empty, df_slice, how=\"left\", on=[\"diagnosis\", category]).fillna(0)\n",
    "\n",
    "    fig = go.Figure()\n",
    "    for cat in plot_df[category].unique():\n",
    "        plot_df_slice = plot_df[plot_df[category] == cat]\n",
    "        labels = [\"<b>{}</b><br>Date: {}<br>Reports: {}\".format(cat, row.diagnosis, int(row.reports)) for row in plot_df_slice[[\"diagnosis\", \"reports\"]].itertuples()]\n",
    "        fig.add_trace(go.Scatter(x=plot_df_slice.diagnosis, y=plot_df_slice.reports, name=cat,\n",
    "                            text=labels,\n",
    "                            hoverinfo='text',\n",
    "                            line_shape='spline'))\n",
    "\n",
    "    fig.update_xaxes(rangeslider_visible=True, range=[min(plot_df.diagnosis), max(plot_df.diagnosis)])\n",
    "    fig.update_yaxes(title=\"reports\", range = [0, int(max(plot_df.reports)*1.1)+1])\n",
    "    fig.update_layout(\n",
    "        title={\"text\": \"Disease: {}\".format(value), \"x\": 0.5}\n",
    "    )\n",
    "    fig.show()"
   ]
  },
  {
   "cell_type": "code",
   "execution_count": null,
   "id": "06f0dd56",
   "metadata": {},
   "outputs": [],
   "source": [
    "plot_multiple_categories(df_monthly, Dimension.Species, \"Ziege\", 15, 5)"
   ]
  },
  {
   "cell_type": "markdown",
   "id": "7c5b1bc6",
   "metadata": {},
   "source": [
    "## Analysis"
   ]
  },
  {
   "cell_type": "markdown",
   "id": "eb36c8da",
   "metadata": {},
   "source": [
    "Some diseases occur more often than others. What were the most reported diseases in the last years?"
   ]
  },
  {
   "cell_type": "code",
   "execution_count": null,
   "id": "9c1118d2",
   "metadata": {},
   "outputs": [],
   "source": [
    "diseases = df_monthly[[\"reports\", \"disease\"]].groupby(\"disease\").sum().reset_index().sort_values(by=\"reports\", ascending=False).reset_index(drop=True)\n",
    "diseases[:15]"
   ]
  },
  {
   "cell_type": "markdown",
   "id": "525571d7",
   "metadata": {},
   "source": [
    "### Cattle: Mucosal Disease\n",
    "Bovine Virusdiarrhoe / Mucosal Disease has the highest number of reports. That is because the national eradication programme requires regular, repeated testings of every cattle herd per year. \n",
    "\n",
    "Let's take a look at the number of reports over time.\n",
    "\n",
    "We can see that *Bovine Virusdiarrhoe* has hight number of reports in 2008-2009. This was when the official control programme started (2008), involving hundreds and thousands of testings with the aim to find as many infected herds as possible. That explains so many positive findings. You can learn more about it [here](https://www.blv.admin.ch/blv/de/home/tiere/tierseuchen/bekaempfung/ausrottung-bvd.html)."
   ]
  },
  {
   "cell_type": "code",
   "execution_count": null,
   "id": "42358010",
   "metadata": {},
   "outputs": [],
   "source": [
    "disease = \"Bovine Virusdiarrhoe / Mucosal Disease\"\n",
    "plot_df = df_monthly[df_monthly.disease == disease]\n",
    "fig = px.bar(plot_df, x=\"diagnosis\", y=\"reports\")\n",
    "fig.update_layout(\n",
    "    title={\"text\": disease, \"x\": 0.5}\n",
    ")\n",
    "fig.show()"
   ]
  },
  {
   "cell_type": "markdown",
   "id": "9edcbeb7",
   "metadata": {},
   "source": [
    "### Bees: Sauerbrut\n",
    "*Sauerbrut der Bienen* is the second most reported animal disease. Taking a look at the frequency of reports, explains why. \n",
    "\n",
    "*Sauerbrut* is a seasonal disease. One can observe it first in early spring. Numbers peak around May, and tend to go down afterwards. While we cannot speak about one, big outbreak, *sauerbrut* is defnitely an issue for apiculturists."
   ]
  },
  {
   "cell_type": "code",
   "execution_count": null,
   "id": "3d015107",
   "metadata": {},
   "outputs": [],
   "source": [
    "disease = \"Sauerbrut der Bienen\"\n",
    "plot_df = df_monthly[df_monthly.disease == disease]\n",
    "fig = px.bar(plot_df, x=\"diagnosis\", y=\"reports\")\n",
    "fig.update_xaxes(rangeslider_visible=True)\n",
    "fig.update_layout(\n",
    "    title={\"text\": disease, \"x\": 0.5}\n",
    ")\n",
    "fig.show()"
   ]
  },
  {
   "cell_type": "markdown",
   "id": "e715fc10",
   "metadata": {},
   "source": [
    "### Bees: diseases\n",
    "What about other bee diseases? Are they also seasonal?"
   ]
  },
  {
   "cell_type": "code",
   "execution_count": null,
   "id": "1967437d",
   "metadata": {},
   "outputs": [],
   "source": [
    "plot_multiple_categories(df_monthly, Dimension.Species, \"Bienen\", 15, 2)"
   ]
  },
  {
   "cell_type": "markdown",
   "id": "04921fba",
   "metadata": {},
   "source": [
    "While *Sauerbrut* is clearly the biggest issue, it is not the only seasonal bees' disease . *Faulbrut* also shows seasonality pattern, with peak reports in springtime."
   ]
  },
  {
   "cell_type": "markdown",
   "id": "bc66b622",
   "metadata": {},
   "source": [
    "### Rabies\n",
    "Now, let's take a look at rabies. \n",
    "\n",
    "A histogram tells a clear story: rabies is barely reported any more! Rabies was a serious issue until ~1995. But nowadays, almost no cases of rabies in Switzerland are reported."
   ]
  },
  {
   "cell_type": "code",
   "execution_count": null,
   "id": "73c42940",
   "metadata": {},
   "outputs": [],
   "source": [
    "disease = \"Tollwut\"\n",
    "plot_df = df_monthly[df_monthly.disease == disease]\n",
    "fig = px.bar(plot_df, x=\"diagnosis\", y=\"reports\")\n",
    "fig.update_layout(\n",
    "    title={\"text\": disease, \"x\": 0.5}\n",
    ")\n",
    "fig.show()"
   ]
  },
  {
   "cell_type": "markdown",
   "id": "b6b3e3ec",
   "metadata": {},
   "source": [
    "### Rabies: animals\n",
    "\n",
    "What animals were main carriers of rabis?"
   ]
  },
  {
   "cell_type": "code",
   "execution_count": null,
   "id": "890cf3ac",
   "metadata": {},
   "outputs": [],
   "source": [
    "plot_multiple_categories(df_monthly, Dimension.Disease, \"Tollwut\", 15, 2)"
   ]
  },
  {
   "cell_type": "markdown",
   "id": "ab5cc082",
   "metadata": {},
   "source": [
    "The graph shows how effective the oral vaccination of foxes for rabies has been in the middle of the nineties."
   ]
  },
  {
   "cell_type": "markdown",
   "id": "b0855add",
   "metadata": {},
   "source": [
    "### Most common diseases\n",
    "\n",
    "Now, let's take a look at the most common diseases of the last years. What are the patterns?\n",
    "How many cases did we have? Are there any trends, or seasonalities?"
   ]
  },
  {
   "cell_type": "code",
   "execution_count": null,
   "id": "55c0f98e",
   "metadata": {},
   "outputs": [],
   "source": [
    "ROWS=4\n",
    "COLS=2\n",
    "\n",
    "biggest_disease = diseases[0:ROWS*COLS]\n",
    "fig = make_subplots(rows=ROWS, cols=COLS, subplot_titles=biggest_disease[\"disease\"])\n",
    "for obs in biggest_disease.itertuples():\n",
    "    \n",
    "    row = obs.Index//COLS + 1\n",
    "    col = obs.Index%COLS + 1\n",
    "    plot_df = df_monthly[df_monthly.disease == obs.disease]\n",
    "    fig.append_trace(go.Scatter(x=plot_df[\"diagnosis\"], y=plot_df[\"reports\"], name=obs.disease, marker_color=px.colors.qualitative.Dark24[0], line_shape=\"spline\"), row=row, col=col)\n",
    "    \n",
    "fig.update_layout(height=1200, width=1000, title={\"text\": \"Biggest animal disease in Switzerland\", \"x\": 0.5}, showlegend=False)\n",
    "fig.show()"
   ]
  },
  {
   "cell_type": "markdown",
   "id": "a7a5308a",
   "metadata": {},
   "source": [
    "### Reports over time\n",
    "\n",
    "*Bovine Virusdiarrhoe* has a high number of reports in 2008-2009. This was when the official control programme started (2008), involving hundreds and thousands of testings with the aim to find as many infected herds as possible. The efforts put into testing and reporting this disease are a part of an eradication program ongoing since 2008. Can we see these efforts in the data?\n",
    "\n",
    "Where were the first reports coming from? How did that evolve over time?"
   ]
  },
  {
   "cell_type": "code",
   "execution_count": null,
   "id": "792621da",
   "metadata": {},
   "outputs": [],
   "source": [
    "query = \"\"\"\n",
    "SELECT ?municipality_id ?municipality ?boundary \n",
    "\n",
    "WHERE {\n",
    "  ?muni_iri dct:hasVersion ?version ;\n",
    "            geonames:featureCode geonames:A.ADM3 .\n",
    "  \n",
    "  ?version schema:validUntil \"2020-12-31\"^^<http://www.w3.org/2001/XMLSchema#date>;\n",
    "           schema:name ?municipality;\n",
    "           geosparql:hasGeometry/geosparql:asWKT ?boundary.\n",
    "  \n",
    "  BIND(IRI(REPLACE(STR(?muni_iri), \"https://ld.geo.admin.ch/boundaries/\", \"https://ld.admin.ch/\")) AS ?municipality_id)\n",
    "}\n",
    "\"\"\"\n",
    "communes = geosparql.send_query(query)\n",
    "communes = communes.set_crs(epsg=4326)\n",
    "communes[\"municipality_id\"] = communes.municipality_id.str.split(\"/\").str[-1].astype(int)\n",
    "communes = communes.set_index(\"municipality_id\")"
   ]
  },
  {
   "cell_type": "code",
   "execution_count": null,
   "id": "0fcc4f93",
   "metadata": {},
   "outputs": [],
   "source": [
    "DISEASE = \"Bovine Virusdiarrhoe / Mucosal Disease\"\n",
    "SPECIES = \"Rind\"\n",
    "START = datetime.date(2008, 3, 1)\n",
    "END = datetime.date(2009, 7, 1)\n",
    "WINDOW = 6\n",
    "\n",
    "df_weekly = aggregate_reports(df, True)\n",
    "subset = df_weekly[(df_weekly.species == SPECIES) & (df_weekly.disease == DISEASE) & (df_weekly.diagnosis >= START) & (df_weekly.diagnosis <= END)].copy()\n",
    "rolling_reports = subset[[\"diagnosis\", \"municipality_id\", \"reports\"]].pivot(index=\"diagnosis\", columns=\"municipality_id\", values=\"reports\").sort_index().fillna(0)\n",
    "rolling_reports = rolling_reports.rolling(WINDOW).sum().iloc[WINDOW-1:,:]\n",
    "\n",
    "datetime_index = pd.DatetimeIndex(rolling_reports.index)\n",
    "dt_index_epochs = datetime_index.view(\"int\") // 10**9\n",
    "rolling_reports.index = dt_index_epochs.astype('U10')"
   ]
  },
  {
   "cell_type": "code",
   "execution_count": null,
   "id": "ee28d61b",
   "metadata": {},
   "outputs": [],
   "source": [
    "bins = [1,2,5,8,25,rolling_reports.values.max()]\n",
    "classifier = mapclassify.UserDefined(y=rolling_reports.values[rolling_reports.values > 0], bins=bins)\n",
    "categories = range(len(bins))\n",
    "colormap = {cat: mpl.colors.rgb2hex(mpl.cm.PuRd(i/(len(categories)-1))) for i, cat in enumerate(categories)}\n",
    "\n",
    "styledict = {}\n",
    "timestamps = rolling_reports.index\n",
    "for commune in communes.index:\n",
    "    styledict[commune] = {str(t): {\"color\": colormap[0], \"opacity\": 1} for t in timestamps}\n",
    "    \n",
    "    if commune in rolling_reports.columns:\n",
    "        for timestamp in timestamps:\n",
    "            reports = rolling_reports.loc[timestamp, commune]\n",
    "\n",
    "            reports_classified = classifier(reports)[0]\n",
    "            styledict[commune][str(timestamp)] = {\"color\": colormap[reports_classified], \"opacity\": 1}\n",
    "\n",
    "\n",
    "communes[\"dummy\"] = 0\n",
    "m = folium.Map(location=[46.83, 8.13], zoom_start=8, tiles=\"cartodbpositron\")\n",
    "\n",
    "g = TimeSliderChoropleth(\n",
    "    communes.to_json(),\n",
    "    styledict=styledict\n",
    ").add_to(m)\n",
    "\n",
    "folium.Choropleth(\n",
    "    geo_data=json.loads(communes.to_json()),\n",
    "    data=communes,\n",
    "    columns=['municipality', 'dummy'],\n",
    "    key_on='feature.id',\n",
    "    fill_color= 'PuRd',\n",
    "    fill_opacity=0.0,\n",
    "    line_opacity=0.0,\n",
    "    bins=[0]+bins,\n",
    "    legend_name=\"Reports of {}\".format(DISEASE)\n",
    ").add_to(m)\n",
    "\n",
    "folium.LayerControl().add_to(m)\n",
    "m"
   ]
  },
  {
   "cell_type": "markdown",
   "id": "25bc3979",
   "metadata": {},
   "source": [
    "Thank you for following along and hopefully this notebook was helpful. If you want to [get in touch with us](https://zazuko.com/about/), please reach out to us [via email](mailto:info@zazuko.com). "
   ]
  }
 ],
 "metadata": {
  "interpreter": {
   "hash": "52612798f5eced5fbe3f58e9481faf8401bf1ada0bff399e6095e3d5ee493763"
  },
  "kernelspec": {
   "display_name": "Python 3",
   "language": "python",
   "name": "python3"
  },
  "language_info": {
   "codemirror_mode": {
    "name": "ipython",
    "version": 3
   },
   "file_extension": ".py",
   "mimetype": "text/x-python",
   "name": "python",
   "nbconvert_exporter": "python",
   "pygments_lexer": "ipython3",
   "version": "3.9.0"
  },
  "title": "Animal Diseases"
 },
 "nbformat": 4,
 "nbformat_minor": 5
}

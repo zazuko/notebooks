{
 "cells": [
  {
   "cell_type": "markdown",
   "id": "81108783",
   "metadata": {},
   "source": [
    "<div class=\"notebook-buttons\" style=\"display:flex; padding-top: 5rem;padding-bottom: 2.5rem;line-height: 2.15;\">\n",
    "    <a href=\"https://colab.research.google.com/github/zazuko/notebooks/blob/master/notebooks/environment/heavy_metal.ipynb\">\n",
    "        <div id=\"colab-link\" style=\"display: flex;padding-right: 3.5rem;padding-bottom: 0.625rem;border-bottom: 1px solid #ececed; align-items: center;\">\n",
    "            <img class=\"call-to-action-img\" src=\"img//colab.svg\" width=\"30\" height=\"30\" style=\"margin-right: 10px;margin-top: auto;margin-bottom: auto;\">\n",
    "            <div class=\"call-to-action-txt\">Run in Google Colab</div>\n",
    "        </div>\n",
    "    </a>\n",
    "    <a href=\"https://raw.githubusercontent.com/zazuko/notebooks/master/notebooks/environment/heavy_metal.ipynb\" download>\n",
    "        <div id=\"download-link\" style=\"display: flex;padding-right: 3.5rem;padding-bottom: 0.625rem;border-bottom: 1px solid #ececed; height: auto;align-items: center;\">\n",
    "            <img class=\"call-to-action-img\" src=\"img//download.svg\" width=\"22\" height=\"30\" style=\"margin-right: 10px;margin-top: auto;margin-bottom: auto;\">\n",
    "            <div class=\"call-to-action-txt\">Download Notebook</div>\n",
    "        </div>\n",
    "    </a>\n",
    "    <a href=\"https://github.com/zazuko/notebooks/blob/master/notebooks/environment/heavy_metal.ipynb\">\n",
    "        <div id=\"github-link\" style=\"display: flex;padding-right: 3.5rem;padding-bottom: 0.625rem;border-bottom: 1px solid #ececed; height: auto;align-items: center;\">\n",
    "            <img class=\"call-to-action-img\" src=\"img//github.svg\" width=\"25\" height=\"30\" style=\"margin-right: 10px;margin-top: auto;margin-bottom: auto;\">\n",
    "            <div class=\"call-to-action-txt\">View on GitHub</div>\n",
    "        </div>\n",
    "    </a>\n",
    "</div>\n",
    "\n",
    "# Heavy metal soil pollution in Switzerland\n",
    "\n",
    "FSVO, Federal Food Safety and Veterinary Office, collects data on the animal diseases in Switzerland. This data is published as [Linked Data](https://en.wikipedia.org/wiki/Linked_data). \n",
    "\n",
    "In this tutorial, we will show **how to work with Linked Data.** Mainly, we will see how to work with data on animal disease.   \n",
    "We will look into how to query, process, and visualize it.   \n",
    "\n",
    "[1. Setup](#Setup)    \n",
    "&nbsp;&nbsp;&nbsp;&nbsp;&nbsp;&nbsp;[1.1 Python](#SPARQL-endpoints)    \n",
    "&nbsp;&nbsp;&nbsp;&nbsp;&nbsp;&nbsp;[1.2 SPARQL endpoints](#SPARQL-endpoints)    \n",
    "&nbsp;&nbsp;&nbsp;&nbsp;&nbsp;&nbsp;[1.3 SPARQL client](#SPARQL-endpoints)    \n",
    "\n",
    "[2. Data](#Data)        \n",
    "&nbsp;&nbsp;&nbsp;&nbsp;&nbsp;&nbsp;[2.1 Animal species](#Animal-species)    \n",
    "&nbsp;&nbsp;&nbsp;&nbsp;&nbsp;&nbsp;[2.2 Diseases](#Diseases)    \n",
    "&nbsp;&nbsp;&nbsp;&nbsp;&nbsp;&nbsp;[2.3 Can we link disease to animal type?](#Can-we-link-disease-to-animal-type)  \n",
    "&nbsp;&nbsp;&nbsp;&nbsp;&nbsp;&nbsp;[2.4 Reports](#Reports)  \n",
    "&nbsp;&nbsp;&nbsp;&nbsp;&nbsp;&nbsp;[2.5 Example: goats](#example-goats)  \n",
    "\n",
    "\n",
    "[3. Analysis](#Analysis)    \n",
    "&nbsp;&nbsp;&nbsp;&nbsp;&nbsp;&nbsp;[3.1 Cattle: Mucosal Disease](#cattle-mucosal-disease)  \n",
    "&nbsp;&nbsp;&nbsp;&nbsp;&nbsp;&nbsp;[3.2 Bees: Sauerbrut](#Sauerbrut)  \n",
    "&nbsp;&nbsp;&nbsp;&nbsp;&nbsp;&nbsp;[3.3 Rabies](#Rabies)  \n",
    "&nbsp;&nbsp;&nbsp;&nbsp;&nbsp;&nbsp;[3.4 Most common diseases](#Most-common-diseases)  \n",
    "&nbsp;&nbsp;&nbsp;&nbsp;&nbsp;&nbsp;[3.5 Reports over time](#reports-over-time)  \n",
    "\n"
   ]
  },
  {
   "cell_type": "markdown",
   "id": "6a3e5743",
   "metadata": {},
   "source": [
    "## Setup"
   ]
  },
  {
   "cell_type": "markdown",
   "id": "e96bd575",
   "metadata": {},
   "source": [
    "### Python\n",
    "This notebook requires Python 3.9 or later to run."
   ]
  },
  {
   "cell_type": "markdown",
   "id": "d4442f36",
   "metadata": {},
   "source": [
    "### SPARQL endpoints\n",
    "\n",
    "#### For epidemiological data\n",
    "Reports on animal diseases are published as Linked Data. It can be accessed with [SPARQL queries](https://www.w3.org/TR/rdf-sparql-query/).   \n",
    "You can send queries using HTTP requests. The API endpoint is **[https://lindas.admin.ch/query/](https://int.lindas.admin.ch/query).**  \n",
    "\n",
    "#### For geodata\n",
    "Animal diseases are closely linked to places. To understand their location, we will work with \n",
    "Swiss geodata. It is published as Linked Data. It can be accessed using API endpoint under **[https://ld.geo.admin.ch/query](https://ld.geo.admin.ch/query).**  "
   ]
  },
  {
   "cell_type": "markdown",
   "id": "90db373f",
   "metadata": {},
   "source": [
    "### SPARQL client\n",
    "\n",
    "Let's use `SparqlClient` from [graphly](https://github.com/zazuko/graphly) to communicate with both databases. \n",
    "Graphly will allow us to:\n",
    "* send SPARQL queries\n",
    "* automatically add prefixes to all queries\n",
    "* format response to `pandas` or `geopandas`"
   ]
  },
  {
   "cell_type": "code",
   "execution_count": null,
   "id": "dc0815c3",
   "metadata": {},
   "outputs": [],
   "source": [
    "import datetime\n",
    "import itertools\n",
    "import json\n",
    "\n",
    "import folium\n",
    "import mapclassify\n",
    "import matplotlib as mpl\n",
    "import matplotlib.cm\n",
    "import networkx as nx\n",
    "import pandas as pd\n",
    "import plotly.express as px\n",
    "import plotly.graph_objects as go\n",
    "from bokeh.io import output_notebook, show\n",
    "from bokeh.models import (Circle, CustomJS, HoverTool, LabelSet, MultiLine,\n",
    "                          NodesAndLinkedEdges, Plot, TapTool)\n",
    "from bokeh.palettes import Paired\n",
    "from bokeh.plotting import ColumnDataSource, from_networkx\n",
    "from dateutil.relativedelta import relativedelta\n",
    "from folium.plugins import TimeSliderChoropleth\n",
    "from graphly.api_client import SparqlClient\n",
    "from plotly.subplots import make_subplots\n",
    "from enum import Enum\n",
    "from collections import namedtuple"
   ]
  },
  {
   "cell_type": "code",
   "execution_count": null,
   "id": "4bc9e4ef",
   "metadata": {},
   "outputs": [],
   "source": [
    "# Uncomment to install dependencies in Colab environment\n",
    "#!pip install mapclassify\n",
    "#!pip install git+https://github.com/zazuko/graphly.git"
   ]
  },
  {
   "cell_type": "code",
   "execution_count": null,
   "id": "985890ce",
   "metadata": {},
   "outputs": [],
   "source": [
    "sparql = SparqlClient(\"https://lindas.admin.ch/query\")\n",
    "geosparql = SparqlClient(\"https://ld.geo.admin.ch/query\")\n",
    "\n",
    "sparql.add_prefixes({\n",
    "    \"schema\": \"<http://schema.org/>\",\n",
    "    \"cube\": \"<https://cube.link/>\",\n",
    "    \"admin\": \"<https://schema.ld.admin.ch/>\",\n",
    "    \"skos\": \"<http://www.w3.org/2004/02/skos/core#>\",\n",
    "    \"disease\": \"<https://environment.ld.admin.ch/foen/animal-pest/>\"   \n",
    "})\n",
    "\n",
    "geosparql.add_prefixes({\n",
    "    \"dct\": \"<http://purl.org/dc/terms/>\",\n",
    "    \"geonames\": \"<http://www.geonames.org/ontology#>\",\n",
    "    \"schema\": \"<http://schema.org/>\",\n",
    "    \"geosparql\": \"<http://www.opengis.net/ont/geosparql#>\",\n",
    "})"
   ]
  },
  {
   "cell_type": "markdown",
   "id": "5ad20e26",
   "metadata": {},
   "source": [
    "SPARQL queries can become very long. To improve the readibility, we will work wih [prefixes](https://en.wikibooks.org/wiki/SPARQL/Prefixes).\n",
    " \n",
    "Using the `add_prefixes` method, we can define persistent prefixes. \n",
    "Every time you send a query, `graphly` will now automatically add the prefixes for you."
   ]
  },
  {
   "cell_type": "markdown",
   "id": "b4d50740",
   "metadata": {},
   "source": [
    "Heavy metals (list): https://s.zazuko.com/4kTuJ6\n",
    "\n",
    "https://ld.admin.ch/cube/dimension/el01/cd -> max 5 obs per station\n",
    "https://ld.admin.ch/cube/dimension/el01/co -> max 6 obs\n",
    "https://ld.admin.ch/cube/dimension/el01/cu -> max 6 obs\n",
    "https://ld.admin.ch/cube/dimension/el01/hg -> max 6 obs\n",
    "https://ld.admin.ch/cube/dimension/el01/ni -> max 6 obs\n",
    "https://ld.admin.ch/cube/dimension/el01/pb -> max 6 obs\n",
    "https://ld.admin.ch/cube/dimension/el01/zn -> max 6 obs\n",
    "\n",
    "Measurement stations + land use: https://s.zazuko.com/5gBv2u\n",
    "\n",
    "Metal + station + year:\n",
    "- different amount of stations every year (3-43)\n",
    "\n"
   ]
  },
  {
   "cell_type": "markdown",
   "id": "16849991",
   "metadata": {},
   "source": [
    "Dimension:\n",
    " - station (geo) + land use\n",
    " - metal (cat)\n",
    " - time\n",
    "\n",
    "Ideas:\n",
    "* map with ALL measurement stations\n",
    "* ranges for all metals over ALL times\n",
    "* distribution of measurements (aggregate time and space, choose one metal). Be smart to not oversample one item!\n",
    "* distribution of measurements (aggregate time and space, choose one metal + one land use)\n",
    "* distribution over time -> are we getting better ?\n",
    "\n",
    "\n",
    "* time seires: value + time (one metal, one place)\n",
    "* map: value + place (one metal, one year)\n",
    "* barplot: value + metal (one year, one place)\n",
    "\n",
    "aggregations:\n",
    " - average metal concentration in (land use) and (year) -> for each year"
   ]
  }
 ],
 "metadata": {
  "interpreter": {
   "hash": "52612798f5eced5fbe3f58e9481faf8401bf1ada0bff399e6095e3d5ee493763"
  },
  "kernelspec": {
   "display_name": "Python 3",
   "language": "python",
   "name": "python3"
  },
  "language_info": {
   "codemirror_mode": {
    "name": "ipython",
    "version": 3
   },
   "file_extension": ".py",
   "mimetype": "text/x-python",
   "name": "python",
   "nbconvert_exporter": "python",
   "pygments_lexer": "ipython3",
   "version": "3.9.0"
  },
  "title": "Animal Diseases"
 },
 "nbformat": 4,
 "nbformat_minor": 5
}
